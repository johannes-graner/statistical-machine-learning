{
 "cells": [
  {
   "cell_type": "markdown",
   "id": "pressing-track",
   "metadata": {},
   "source": [
    "## Imports and data ingestion\n",
    "\n",
    "`linear_model` for Logistic Regression,\n",
    "\n",
    "`model_selection` for train-test split and cross-validation,\n",
    "\n",
    "`metrics` for ROC and AIC"
   ]
  },
  {
   "cell_type": "code",
   "execution_count": 70,
   "id": "baking-soviet",
   "metadata": {},
   "outputs": [],
   "source": [
    "import numpy as np\n",
    "import pandas as pd\n",
    "import sklearn.linear_model as skl_lm\n",
    "import sklearn.model_selection as skl_ms\n",
    "import sklearn.metrics as skl_met"
   ]
  },
  {
   "cell_type": "code",
   "execution_count": 71,
   "id": "functional-china",
   "metadata": {},
   "outputs": [],
   "source": [
    "rawData = pd.read_csv('train.csv')"
   ]
  },
  {
   "cell_type": "markdown",
   "id": "headed-binding",
   "metadata": {},
   "source": [
    "## Get Dummies\n",
    "\n",
    "`Lead` is `0` if the lead is `female`."
   ]
  },
  {
   "cell_type": "code",
   "execution_count": 72,
   "id": "adverse-insured",
   "metadata": {},
   "outputs": [],
   "source": [
    "data = rawData.copy()\n",
    "data['Lead'] = pd.get_dummies(data['Lead'])"
   ]
  },
  {
   "cell_type": "markdown",
   "id": "federal-membership",
   "metadata": {},
   "source": [
    "## Feature Engineering\n",
    "\n",
    "We first extract the number of words spoken by the co-lead."
   ]
  },
  {
   "cell_type": "code",
   "execution_count": 73,
   "id": "measured-basic",
   "metadata": {},
   "outputs": [],
   "source": [
    "data['Number of words co-lead'] = data['Number of words lead'] - data['Difference in words lead and co-lead']"
   ]
  },
  {
   "cell_type": "markdown",
   "id": "suspected-sight",
   "metadata": {},
   "source": [
    "It is probably more important to know proportion of words spoken by lead than the absolute number of words."
   ]
  },
  {
   "cell_type": "code",
   "execution_count": 74,
   "id": "intermediate-pursuit",
   "metadata": {},
   "outputs": [],
   "source": [
    "data['Proportion of words lead'] = data['Number of words lead']/data['Total words']"
   ]
  },
  {
   "cell_type": "markdown",
   "id": "fatty-bailey",
   "metadata": {},
   "source": [
    "We look at the proportion of dialogue from co-lead as well as the ratio of dialogue between co-lead and lead."
   ]
  },
  {
   "cell_type": "code",
   "execution_count": 75,
   "id": "solid-great",
   "metadata": {},
   "outputs": [],
   "source": [
    "data['Proportion of words co-lead'] = data['Number of words co-lead']/data['Total words']\n",
    "data['Ratio words co-lead lead'] = data['Number of words co-lead']/data['Number of words lead']"
   ]
  },
  {
   "cell_type": "markdown",
   "id": "empty-approach",
   "metadata": {},
   "source": [
    "Similarly for number of words spoken by male or female actors. However, here we normalize by `Total words - Number of words lead` since this only measures non-lead dialogue. We only need `Proportion of words female` since a hypothetical `Proportion of words male` is just `1 - Proportion of words female`."
   ]
  },
  {
   "cell_type": "code",
   "execution_count": 76,
   "id": "developing-advancement",
   "metadata": {},
   "outputs": [],
   "source": [
    "data['Proportion of words female'] = data['Number words female']/(data['Total words'] - data['Number of words lead'])"
   ]
  },
  {
   "cell_type": "markdown",
   "id": "strategic-melbourne",
   "metadata": {},
   "source": [
    "It might be important to look at the ratio of female actors."
   ]
  },
  {
   "cell_type": "code",
   "execution_count": 77,
   "id": "unlimited-centre",
   "metadata": {},
   "outputs": [],
   "source": [
    "data['Proportion of female actors'] = data['Number of female actors']/(data['Number of male actors'] + data['Number of female actors'])"
   ]
  },
  {
   "cell_type": "markdown",
   "id": "selected-senator",
   "metadata": {},
   "source": [
    "Perhaps it is important if the lead or co-lead is oldest."
   ]
  },
  {
   "cell_type": "code",
   "execution_count": 78,
   "id": "funky-request",
   "metadata": {},
   "outputs": [],
   "source": [
    "data['Older lead'] = data['Age Lead'] < data['Age Co-Lead']\n",
    "data['Older lead'] = pd.get_dummies(data['Older lead'])"
   ]
  },
  {
   "cell_type": "code",
   "execution_count": 79,
   "id": "retired-transcription",
   "metadata": {},
   "outputs": [
    {
     "data": {
      "text/plain": [
       "Index(['Number words female', 'Total words', 'Number of words lead',\n",
       "       'Difference in words lead and co-lead', 'Number of male actors', 'Year',\n",
       "       'Number of female actors', 'Number words male', 'Gross',\n",
       "       'Mean Age Male', 'Mean Age Female', 'Age Lead', 'Age Co-Lead', 'Lead',\n",
       "       'Number of words co-lead', 'Proportion of words lead',\n",
       "       'Proportion of words co-lead', 'Ratio words co-lead lead',\n",
       "       'Proportion of words female', 'Proportion of female actors',\n",
       "       'Older lead'],\n",
       "      dtype='object')"
      ]
     },
     "execution_count": 79,
     "metadata": {},
     "output_type": "execute_result"
    }
   ],
   "source": [
    "data.columns"
   ]
  },
  {
   "cell_type": "markdown",
   "id": "specialized-teach",
   "metadata": {},
   "source": [
    "# Logistic Regression"
   ]
  },
  {
   "cell_type": "code",
   "execution_count": 80,
   "id": "federal-notification",
   "metadata": {},
   "outputs": [],
   "source": [
    "config = pd.read_csv('config.csv')\n",
    "trainRatio = config['Train Ratio'][0]\n",
    "train, test = skl_ms.train_test_split(data, train_size=trainRatio, random_state=1234)"
   ]
  },
  {
   "cell_type": "code",
   "execution_count": 81,
   "id": "multiple-bryan",
   "metadata": {},
   "outputs": [],
   "source": [
    "rawFeatures = [\n",
    "    'Number words female',\n",
    "    'Total words',\n",
    "    'Number of words lead',\n",
    "    'Difference in words lead and co-lead',\n",
    "    'Number of male actors',\n",
    "    'Year',\n",
    "    'Number of female actors',\n",
    "    'Number words male',\n",
    "    'Gross',\n",
    "    'Mean Age Male',\n",
    "    'Mean Age Female',\n",
    "    'Age Lead',\n",
    "    'Age Co-Lead'\n",
    "]\n",
    "\n",
    "featureSet1 = [\n",
    "    'Year',\n",
    "    'Gross',\n",
    "    'Number of female actors',\n",
    "    'Proportion of female actors',\n",
    "    'Mean Age Male',\n",
    "    'Mean Age Female',\n",
    "    'Age Lead',\n",
    "    'Age Co-Lead',\n",
    "    'Total words',\n",
    "    'Proportion of words lead',\n",
    "    'Proportion of words co-lead',\n",
    "    'Ratio words co-lead lead',\n",
    "    'Proportion of words female',\n",
    "    'Older lead'\n",
    "]"
   ]
  },
  {
   "cell_type": "code",
   "execution_count": 82,
   "id": "correct-chance",
   "metadata": {},
   "outputs": [],
   "source": [
    "features = list(train.columns.drop('Lead'))\n",
    "target = 'Lead'"
   ]
  },
  {
   "cell_type": "markdown",
   "id": "signal-fruit",
   "metadata": {},
   "source": [
    "## Lasso\n",
    "\n",
    "Lasso is L1 regularization"
   ]
  },
  {
   "cell_type": "markdown",
   "id": "inappropriate-survival",
   "metadata": {},
   "source": [
    "We do 10 folds, use `liblinear` solver that is better for smaller datasets and 10 threads in the cross-validation step.\n",
    "\n",
    "The method will try 100 values of lambda between `1e-4` and `1e4` to determine the best regularization parameter."
   ]
  },
  {
   "cell_type": "code",
   "execution_count": 83,
   "id": "better-solomon",
   "metadata": {},
   "outputs": [],
   "source": [
    "logRegLasso = skl_lm.LogisticRegressionCV(Cs=10, cv=10, penalty='l1', solver='liblinear', n_jobs=10)"
   ]
  },
  {
   "cell_type": "code",
   "execution_count": 84,
   "id": "stock-provider",
   "metadata": {},
   "outputs": [
    {
     "data": {
      "text/plain": [
       "LogisticRegressionCV(cv=10, n_jobs=10, penalty='l1', solver='liblinear')"
      ]
     },
     "execution_count": 84,
     "metadata": {},
     "output_type": "execute_result"
    }
   ],
   "source": [
    "logRegLasso.fit(train[features], train[target])"
   ]
  },
  {
   "cell_type": "code",
   "execution_count": 85,
   "id": "sound-liechtenstein",
   "metadata": {},
   "outputs": [
    {
     "data": {
      "text/plain": [
       "0.8884615384615384"
      ]
     },
     "execution_count": 85,
     "metadata": {},
     "output_type": "execute_result"
    }
   ],
   "source": [
    "logRegLasso.score(test[features], test[target])"
   ]
  },
  {
   "cell_type": "code",
   "execution_count": 86,
   "id": "elder-robin",
   "metadata": {},
   "outputs": [
    {
     "data": {
      "text/plain": [
       "<sklearn.metrics._plot.roc_curve.RocCurveDisplay at 0x7f473bfbd610>"
      ]
     },
     "execution_count": 86,
     "metadata": {},
     "output_type": "execute_result"
    },
    {
     "data": {
      "image/png": "[encoded data removed]",
      "text/plain": [
       "<Figure size 432x288 with 1 Axes>"
      ]
     },
     "metadata": {
      "needs_background": "light"
     },
     "output_type": "display_data"
    }
   ],
   "source": [
    "skl_met.plot_roc_curve(logRegLasso, test[features], test[target], name='LogReg with CV and Lasso')"
   ]
  },
  {
   "cell_type": "code",
   "execution_count": 87,
   "id": "generic-variable",
   "metadata": {},
   "outputs": [
    {
     "data": {
      "text/plain": [
       "0.9167971002553753"
      ]
     },
     "execution_count": 87,
     "metadata": {},
     "output_type": "execute_result"
    }
   ],
   "source": [
    "skl_met.roc_auc_score(test[target], logRegLasso.predict_proba(test[features])[:,1])"
   ]
  },
  {
   "cell_type": "code",
   "execution_count": 88,
   "id": "verified-insight",
   "metadata": {},
   "outputs": [
    {
     "name": "stdout",
     "output_type": "stream",
     "text": [
      "              precision    recall  f1-score   support\n",
      "\n",
      "           0       0.92      0.93      0.93       398\n",
      "           1       0.78      0.74      0.76       122\n",
      "\n",
      "    accuracy                           0.89       520\n",
      "   macro avg       0.85      0.84      0.84       520\n",
      "weighted avg       0.89      0.89      0.89       520\n",
      "\n"
     ]
    }
   ],
   "source": [
    "print(skl_met.classification_report(test[target], logRegLasso.predict(test[features])))"
   ]
  },
  {
   "cell_type": "markdown",
   "id": "operating-steam",
   "metadata": {},
   "source": [
    "## Ridge\n",
    "\n",
    "Ridge is L2-regularization\n",
    "\n",
    "We do 10 folds, use `liblinear` solver that is better for smaller datasets and 10 threads in the cross-validation step.\n",
    "\n",
    "The method will try 100 values of lambda between `1e-4` and `1e4` to determine the best regularization parameter."
   ]
  },
  {
   "cell_type": "code",
   "execution_count": 89,
   "id": "arranged-trailer",
   "metadata": {},
   "outputs": [
    {
     "data": {
      "text/plain": [
       "LogisticRegressionCV(cv=10, n_jobs=10, solver='liblinear')"
      ]
     },
     "execution_count": 89,
     "metadata": {},
     "output_type": "execute_result"
    }
   ],
   "source": [
    "logRegRidge = skl_lm.LogisticRegressionCV(Cs=10, cv=10, penalty='l2', solver='liblinear', n_jobs=10)\n",
    "logRegRidge.fit(train[features], train[target])"
   ]
  },
  {
   "cell_type": "code",
   "execution_count": 90,
   "id": "pressed-valuation",
   "metadata": {},
   "outputs": [
    {
     "data": {
      "text/plain": [
       "0.8826923076923077"
      ]
     },
     "execution_count": 90,
     "metadata": {},
     "output_type": "execute_result"
    }
   ],
   "source": [
    "logRegRidge.score(test[features], test[target])"
   ]
  },
  {
   "cell_type": "code",
   "execution_count": 91,
   "id": "bound-introduction",
   "metadata": {},
   "outputs": [
    {
     "data": {
      "text/plain": [
       "<sklearn.metrics._plot.roc_curve.RocCurveDisplay at 0x7f473bec59a0>"
      ]
     },
     "execution_count": 91,
     "metadata": {},
     "output_type": "execute_result"
    },
    {
     "data": {
      "image/png": "[encoded data removed]",
      "text/plain": [
       "<Figure size 432x288 with 1 Axes>"
      ]
     },
     "metadata": {
      "needs_background": "light"
     },
     "output_type": "display_data"
    }
   ],
   "source": [
    "skl_met.plot_roc_curve(logRegRidge, test[features], test[target], name='LogReg with CV and Ridge')"
   ]
  },
  {
   "cell_type": "code",
   "execution_count": 92,
   "id": "steady-divide",
   "metadata": {},
   "outputs": [
    {
     "data": {
      "text/plain": [
       "0.892042178103633"
      ]
     },
     "execution_count": 92,
     "metadata": {},
     "output_type": "execute_result"
    }
   ],
   "source": [
    "skl_met.roc_auc_score(test[target], logRegRidge.predict_proba(test[features])[:,1])"
   ]
  },
  {
   "cell_type": "code",
   "execution_count": 93,
   "id": "aboriginal-rouge",
   "metadata": {},
   "outputs": [
    {
     "name": "stdout",
     "output_type": "stream",
     "text": [
      "              precision    recall  f1-score   support\n",
      "\n",
      "           0       0.89      0.96      0.93       398\n",
      "           1       0.84      0.61      0.71       122\n",
      "\n",
      "    accuracy                           0.88       520\n",
      "   macro avg       0.87      0.79      0.82       520\n",
      "weighted avg       0.88      0.88      0.88       520\n",
      "\n"
     ]
    }
   ],
   "source": [
    "print(skl_met.classification_report(test[target], logRegRidge.predict(test[features])))"
   ]
  },
  {
   "cell_type": "markdown",
   "id": "centered-vertical",
   "metadata": {},
   "source": [
    "## Comparison"
   ]
  },
  {
   "cell_type": "code",
   "execution_count": 94,
   "id": "marine-choice",
   "metadata": {},
   "outputs": [
    {
     "data": {
      "text/plain": [
       "array([21.5443469])"
      ]
     },
     "execution_count": 94,
     "metadata": {},
     "output_type": "execute_result"
    }
   ],
   "source": [
    "logRegLasso.C_"
   ]
  },
  {
   "cell_type": "code",
   "execution_count": 95,
   "id": "applied-rendering",
   "metadata": {},
   "outputs": [
    {
     "data": {
      "text/plain": [
       "array([0.04641589])"
      ]
     },
     "execution_count": 95,
     "metadata": {},
     "output_type": "execute_result"
    }
   ],
   "source": [
    "logRegRidge.C_"
   ]
  },
  {
   "cell_type": "code",
   "execution_count": 96,
   "id": "expected-costume",
   "metadata": {},
   "outputs": [],
   "source": [
    "predLasso = logRegLasso.predict(test[features])\n",
    "predRidge = logRegRidge.predict(test[features])"
   ]
  },
  {
   "cell_type": "code",
   "execution_count": 97,
   "id": "logical-shaft",
   "metadata": {},
   "outputs": [],
   "source": [
    "logRegLassoCoefs = dict(zip(features, logRegLasso.coef_[0]))"
   ]
  },
  {
   "cell_type": "code",
   "execution_count": 98,
   "id": "reliable-thong",
   "metadata": {},
   "outputs": [
    {
     "name": "stdout",
     "output_type": "stream",
     "text": [
      "Number words female                      0.00034\n",
      "Total words                              0.00000\n",
      "Number of words lead                     -0.00014\n",
      "Difference in words lead and co-lead     0.00002\n",
      "Number of male actors                    0.21027\n",
      "Year                                     -0.00480\n",
      "Number of female actors                  0.00459\n",
      "Number words male                        -0.00008\n",
      "Gross                                    -0.00116\n",
      "Mean Age Male                            0.03623\n",
      "Mean Age Female                          0.01047\n",
      "Age Lead                                 -0.02770\n",
      "Age Co-Lead                              0.00603\n",
      "Number of words co-lead                  -0.00048\n",
      "Proportion of words lead                 6.13310\n",
      "Proportion of words co-lead              10.44658\n",
      "Ratio words co-lead lead                 3.39287\n",
      "Proportion of words female               -15.51147\n",
      "Proportion of female actors              21.26609\n",
      "Older lead                               -1.56389\n"
     ]
    }
   ],
   "source": [
    "for var, coef in logRegLassoCoefs.items():\n",
    "    print(f'{var:40} {coef:.5f}')"
   ]
  },
  {
   "cell_type": "code",
   "execution_count": 99,
   "id": "human-coverage",
   "metadata": {},
   "outputs": [],
   "source": [
    "logRegRidgeCoefs = dict(zip(features, logRegRidge.coef_[0]))"
   ]
  },
  {
   "cell_type": "code",
   "execution_count": 100,
   "id": "finnish-custom",
   "metadata": {},
   "outputs": [
    {
     "name": "stdout",
     "output_type": "stream",
     "text": [
      "Number words female                      -0.00053\n",
      "Total words                              -0.00010\n",
      "Number of words lead                     0.00016\n",
      "Difference in words lead and co-lead     -0.00024\n",
      "Number of male actors                    -0.26198\n",
      "Year                                     -0.00076\n",
      "Number of female actors                  0.62222\n",
      "Number words male                        0.00027\n",
      "Gross                                    -0.00055\n",
      "Mean Age Male                            0.03850\n",
      "Mean Age Female                          -0.00478\n",
      "Age Lead                                 -0.06568\n",
      "Age Co-Lead                              0.04164\n",
      "Number of words co-lead                  0.00040\n",
      "Proportion of words lead                 0.00362\n",
      "Proportion of words co-lead              0.00482\n",
      "Ratio words co-lead lead                 0.02950\n",
      "Proportion of words female               -0.03577\n",
      "Proportion of female actors              0.05152\n",
      "Older lead                               -0.11281\n"
     ]
    }
   ],
   "source": [
    "for var, coef in logRegRidgeCoefs.items():\n",
    "    print(f'{var:40} {coef:.5f}')"
   ]
  },
  {
   "cell_type": "code",
   "execution_count": 101,
   "id": "unsigned-cookie",
   "metadata": {},
   "outputs": [
    {
     "data": {
      "text/plain": [
       "0.8942307692307693"
      ]
     },
     "execution_count": 101,
     "metadata": {},
     "output_type": "execute_result"
    }
   ],
   "source": [
    "sum(predLasso == predRidge)/len(test)"
   ]
  },
  {
   "cell_type": "code",
   "execution_count": 102,
   "id": "convinced-going",
   "metadata": {},
   "outputs": [
    {
     "data": {
      "text/html": [
       "<div>\n",
       "<style scoped>\n",
       "    .dataframe tbody tr th:only-of-type {\n",
       "        vertical-align: middle;\n",
       "    }\n",
       "\n",
       "    .dataframe tbody tr th {\n",
       "        vertical-align: top;\n",
       "    }\n",
       "\n",
       "    .dataframe thead th {\n",
       "        text-align: right;\n",
       "    }\n",
       "</style>\n",
       "<table border=\"1\" class=\"dataframe\">\n",
       "  <thead>\n",
       "    <tr style=\"text-align: right;\">\n",
       "      <th>col_0</th>\n",
       "      <th>0</th>\n",
       "      <th>1</th>\n",
       "    </tr>\n",
       "    <tr>\n",
       "      <th>Lead</th>\n",
       "      <th></th>\n",
       "      <th></th>\n",
       "    </tr>\n",
       "  </thead>\n",
       "  <tbody>\n",
       "    <tr>\n",
       "      <th>0</th>\n",
       "      <td>372</td>\n",
       "      <td>26</td>\n",
       "    </tr>\n",
       "    <tr>\n",
       "      <th>1</th>\n",
       "      <td>32</td>\n",
       "      <td>90</td>\n",
       "    </tr>\n",
       "  </tbody>\n",
       "</table>\n",
       "</div>"
      ],
      "text/plain": [
       "col_0    0   1\n",
       "Lead          \n",
       "0      372  26\n",
       "1       32  90"
      ]
     },
     "execution_count": 102,
     "metadata": {},
     "output_type": "execute_result"
    }
   ],
   "source": [
    "pd.crosstab(test[target], predLasso)"
   ]
  },
  {
   "cell_type": "code",
   "execution_count": 103,
   "id": "deluxe-intellectual",
   "metadata": {},
   "outputs": [
    {
     "data": {
      "text/html": [
       "<div>\n",
       "<style scoped>\n",
       "    .dataframe tbody tr th:only-of-type {\n",
       "        vertical-align: middle;\n",
       "    }\n",
       "\n",
       "    .dataframe tbody tr th {\n",
       "        vertical-align: top;\n",
       "    }\n",
       "\n",
       "    .dataframe thead th {\n",
       "        text-align: right;\n",
       "    }\n",
       "</style>\n",
       "<table border=\"1\" class=\"dataframe\">\n",
       "  <thead>\n",
       "    <tr style=\"text-align: right;\">\n",
       "      <th>col_0</th>\n",
       "      <th>0</th>\n",
       "      <th>1</th>\n",
       "    </tr>\n",
       "    <tr>\n",
       "      <th>Lead</th>\n",
       "      <th></th>\n",
       "      <th></th>\n",
       "    </tr>\n",
       "  </thead>\n",
       "  <tbody>\n",
       "    <tr>\n",
       "      <th>0</th>\n",
       "      <td>384</td>\n",
       "      <td>14</td>\n",
       "    </tr>\n",
       "    <tr>\n",
       "      <th>1</th>\n",
       "      <td>47</td>\n",
       "      <td>75</td>\n",
       "    </tr>\n",
       "  </tbody>\n",
       "</table>\n",
       "</div>"
      ],
      "text/plain": [
       "col_0    0   1\n",
       "Lead          \n",
       "0      384  14\n",
       "1       47  75"
      ]
     },
     "execution_count": 103,
     "metadata": {},
     "output_type": "execute_result"
    }
   ],
   "source": [
    "pd.crosstab(test[target], predRidge)"
   ]
  },
  {
   "cell_type": "code",
   "execution_count": null,
   "id": "divided-telling",
   "metadata": {},
   "outputs": [],
   "source": []
  }
 ],
 "metadata": {
  "kernelspec": {
   "display_name": "Python 3",
   "language": "python",
   "name": "python3"
  },
  "language_info": {
   "codemirror_mode": {
    "name": "ipython",
    "version": 3
   },
   "file_extension": ".py",
   "mimetype": "text/x-python",
   "name": "python",
   "nbconvert_exporter": "python",
   "pygments_lexer": "ipython3",
   "version": "3.8.6"
  }
 },
 "nbformat": 4,
 "nbformat_minor": 5
}
