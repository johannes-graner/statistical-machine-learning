{
 "cells": [
  {
   "cell_type": "markdown",
   "id": "wanted-exchange",
   "metadata": {},
   "source": [
    "## Imports and data ingestion\n",
    "\n",
    "`linear_model` for Logistic Regression,\n",
    "\n",
    "`model_selection` for train-test split and cross-validation,\n",
    "\n",
    "`metrics` for ROC and AIC"
   ]
  },
  {
   "cell_type": "code",
   "execution_count": 2728,
   "id": "empty-extraction",
   "metadata": {},
   "outputs": [],
   "source": [
    "import numpy as np\n",
    "import pandas as pd\n",
    "import matplotlib.pyplot as plt\n",
    "import sklearn.linear_model as skl_lm\n",
    "import sklearn.ensemble as skl_en\n",
    "import sklearn.model_selection as skl_ms\n",
    "import sklearn.metrics as skl_met\n",
    "import sklearn.preprocessing as skl_pre"
   ]
  },
  {
   "cell_type": "code",
   "execution_count": 2729,
   "id": "controversial-mitchell",
   "metadata": {},
   "outputs": [],
   "source": [
    "rawData = pd.read_csv('train.csv')"
   ]
  },
  {
   "cell_type": "markdown",
   "id": "boolean-animation",
   "metadata": {},
   "source": [
    "## Get Dummies\n",
    "\n",
    "`Lead` is `0` if the lead is `female`."
   ]
  },
  {
   "cell_type": "code",
   "execution_count": 2730,
   "id": "departmental-shell",
   "metadata": {},
   "outputs": [],
   "source": [
    "data = rawData.copy()\n",
    "data['Lead'] = pd.get_dummies(data['Lead'])"
   ]
  },
  {
   "cell_type": "markdown",
   "id": "anticipated-representation",
   "metadata": {},
   "source": [
    "## Feature Engineering\n",
    "\n",
    "We first extract the number of words spoken by the co-lead."
   ]
  },
  {
   "cell_type": "code",
   "execution_count": 2731,
   "id": "recent-shaft",
   "metadata": {},
   "outputs": [],
   "source": [
    "data['Number of words co-lead'] = data['Number of words lead'] - data['Difference in words lead and co-lead']"
   ]
  },
  {
   "cell_type": "markdown",
   "id": "auburn-silly",
   "metadata": {},
   "source": [
    "It is probably more important to know proportion of words spoken by lead than the absolute number of words."
   ]
  },
  {
   "cell_type": "code",
   "execution_count": 2732,
   "id": "foreign-input",
   "metadata": {},
   "outputs": [],
   "source": [
    "data['Proportion of words lead'] = data['Number of words lead']/data['Total words']"
   ]
  },
  {
   "cell_type": "markdown",
   "id": "direct-orbit",
   "metadata": {},
   "source": [
    "We look at the proportion of dialogue from co-lead as well as the ratio of dialogue between co-lead and lead."
   ]
  },
  {
   "cell_type": "code",
   "execution_count": 2733,
   "id": "included-niger",
   "metadata": {},
   "outputs": [],
   "source": [
    "data['Proportion of words co-lead'] = data['Number of words co-lead']/data['Total words']\n",
    "data['Ratio words co-lead lead'] = data['Number of words co-lead']/data['Number of words lead']"
   ]
  },
  {
   "cell_type": "markdown",
   "id": "posted-transition",
   "metadata": {},
   "source": [
    "Similarly for number of words spoken by male or female actors. However, here we normalize by `Total words - Number of words lead` since this only measures non-lead dialogue. We only need `Proportion of words female` since a hypothetical `Proportion of words male` is just `1 - Proportion of words female`."
   ]
  },
  {
   "cell_type": "code",
   "execution_count": 2734,
   "id": "working-bible",
   "metadata": {},
   "outputs": [],
   "source": [
    "data['Proportion of words female'] = data['Number words female']/(data['Total words'] - data['Number of words lead'])"
   ]
  },
  {
   "cell_type": "markdown",
   "id": "intermediate-riverside",
   "metadata": {},
   "source": [
    "It might be important to look at the ratio of female actors."
   ]
  },
  {
   "cell_type": "code",
   "execution_count": 2735,
   "id": "sought-banner",
   "metadata": {},
   "outputs": [],
   "source": [
    "data['Number of actors'] = data['Number of male actors'] + data['Number of female actors']"
   ]
  },
  {
   "cell_type": "code",
   "execution_count": 2736,
   "id": "light-friend",
   "metadata": {},
   "outputs": [
    {
     "data": {
      "text/html": [
       "<div>\n",
       "<style scoped>\n",
       "    .dataframe tbody tr th:only-of-type {\n",
       "        vertical-align: middle;\n",
       "    }\n",
       "\n",
       "    .dataframe tbody tr th {\n",
       "        vertical-align: top;\n",
       "    }\n",
       "\n",
       "    .dataframe thead th {\n",
       "        text-align: right;\n",
       "    }\n",
       "</style>\n",
       "<table border=\"1\" class=\"dataframe\">\n",
       "  <thead>\n",
       "    <tr style=\"text-align: right;\">\n",
       "      <th></th>\n",
       "      <th>Total words</th>\n",
       "      <th>Number of words lead</th>\n",
       "      <th>Difference in words lead and co-lead</th>\n",
       "      <th>Number of words co-lead</th>\n",
       "      <th>Number words male</th>\n",
       "      <th>Number words female</th>\n",
       "    </tr>\n",
       "  </thead>\n",
       "  <tbody>\n",
       "    <tr>\n",
       "      <th>0</th>\n",
       "      <td>6394</td>\n",
       "      <td>2251.0</td>\n",
       "      <td>343</td>\n",
       "      <td>1908.0</td>\n",
       "      <td>2631</td>\n",
       "      <td>1512</td>\n",
       "    </tr>\n",
       "    <tr>\n",
       "      <th>1</th>\n",
       "      <td>8780</td>\n",
       "      <td>2020.0</td>\n",
       "      <td>1219</td>\n",
       "      <td>801.0</td>\n",
       "      <td>5236</td>\n",
       "      <td>1524</td>\n",
       "    </tr>\n",
       "    <tr>\n",
       "      <th>2</th>\n",
       "      <td>4176</td>\n",
       "      <td>942.0</td>\n",
       "      <td>787</td>\n",
       "      <td>155.0</td>\n",
       "      <td>3079</td>\n",
       "      <td>155</td>\n",
       "    </tr>\n",
       "    <tr>\n",
       "      <th>3</th>\n",
       "      <td>9855</td>\n",
       "      <td>3440.0</td>\n",
       "      <td>2623</td>\n",
       "      <td>817.0</td>\n",
       "      <td>5342</td>\n",
       "      <td>1073</td>\n",
       "    </tr>\n",
       "    <tr>\n",
       "      <th>4</th>\n",
       "      <td>7688</td>\n",
       "      <td>3835.0</td>\n",
       "      <td>3149</td>\n",
       "      <td>686.0</td>\n",
       "      <td>2536</td>\n",
       "      <td>1317</td>\n",
       "    </tr>\n",
       "    <tr>\n",
       "      <th>...</th>\n",
       "      <td>...</td>\n",
       "      <td>...</td>\n",
       "      <td>...</td>\n",
       "      <td>...</td>\n",
       "      <td>...</td>\n",
       "      <td>...</td>\n",
       "    </tr>\n",
       "    <tr>\n",
       "      <th>1034</th>\n",
       "      <td>2398</td>\n",
       "      <td>1334.0</td>\n",
       "      <td>1166</td>\n",
       "      <td>168.0</td>\n",
       "      <td>761</td>\n",
       "      <td>303</td>\n",
       "    </tr>\n",
       "    <tr>\n",
       "      <th>1035</th>\n",
       "      <td>8404</td>\n",
       "      <td>1952.0</td>\n",
       "      <td>187</td>\n",
       "      <td>1765.0</td>\n",
       "      <td>5820</td>\n",
       "      <td>632</td>\n",
       "    </tr>\n",
       "    <tr>\n",
       "      <th>1036</th>\n",
       "      <td>2750</td>\n",
       "      <td>877.0</td>\n",
       "      <td>356</td>\n",
       "      <td>521.0</td>\n",
       "      <td>547</td>\n",
       "      <td>1326</td>\n",
       "    </tr>\n",
       "    <tr>\n",
       "      <th>1037</th>\n",
       "      <td>3994</td>\n",
       "      <td>775.0</td>\n",
       "      <td>52</td>\n",
       "      <td>723.0</td>\n",
       "      <td>2757</td>\n",
       "      <td>462</td>\n",
       "    </tr>\n",
       "    <tr>\n",
       "      <th>1038</th>\n",
       "      <td>11946</td>\n",
       "      <td>3410.0</td>\n",
       "      <td>1536</td>\n",
       "      <td>1874.0</td>\n",
       "      <td>5801</td>\n",
       "      <td>2735</td>\n",
       "    </tr>\n",
       "  </tbody>\n",
       "</table>\n",
       "<p>1039 rows × 6 columns</p>\n",
       "</div>"
      ],
      "text/plain": [
       "      Total words  Number of words lead  Difference in words lead and co-lead  \\\n",
       "0            6394                2251.0                                   343   \n",
       "1            8780                2020.0                                  1219   \n",
       "2            4176                 942.0                                   787   \n",
       "3            9855                3440.0                                  2623   \n",
       "4            7688                3835.0                                  3149   \n",
       "...           ...                   ...                                   ...   \n",
       "1034         2398                1334.0                                  1166   \n",
       "1035         8404                1952.0                                   187   \n",
       "1036         2750                 877.0                                   356   \n",
       "1037         3994                 775.0                                    52   \n",
       "1038        11946                3410.0                                  1536   \n",
       "\n",
       "      Number of words co-lead  Number words male  Number words female  \n",
       "0                      1908.0               2631                 1512  \n",
       "1                       801.0               5236                 1524  \n",
       "2                       155.0               3079                  155  \n",
       "3                       817.0               5342                 1073  \n",
       "4                       686.0               2536                 1317  \n",
       "...                       ...                ...                  ...  \n",
       "1034                    168.0                761                  303  \n",
       "1035                   1765.0               5820                  632  \n",
       "1036                    521.0                547                 1326  \n",
       "1037                    723.0               2757                  462  \n",
       "1038                   1874.0               5801                 2735  \n",
       "\n",
       "[1039 rows x 6 columns]"
      ]
     },
     "execution_count": 2736,
     "metadata": {},
     "output_type": "execute_result"
    }
   ],
   "source": [
    "data[['Total words','Number of words lead','Difference in words lead and co-lead','Number of words co-lead','Number words male','Number words female']]"
   ]
  },
  {
   "cell_type": "code",
   "execution_count": 2737,
   "id": "average-jordan",
   "metadata": {},
   "outputs": [],
   "source": [
    "data['Proportion of female actors'] = data['Number of female actors']/data['Number of actors']"
   ]
  },
  {
   "cell_type": "markdown",
   "id": "optimum-broadcast",
   "metadata": {},
   "source": [
    "Perhaps it is important if the lead or co-lead is oldest."
   ]
  },
  {
   "cell_type": "code",
   "execution_count": 2738,
   "id": "violent-secret",
   "metadata": {},
   "outputs": [],
   "source": [
    "data['Older lead'] = data['Age Lead'] < data['Age Co-Lead']\n",
    "data['Older lead'] = pd.get_dummies(data['Older lead'])"
   ]
  },
  {
   "cell_type": "code",
   "execution_count": 2739,
   "id": "compact-celtic",
   "metadata": {},
   "outputs": [
    {
     "name": "stdout",
     "output_type": "stream",
     "text": [
      "'Number words female',\n",
      "'Total words',\n",
      "'Number of words lead',\n",
      "'Difference in words lead and co-lead',\n",
      "'Number of male actors',\n",
      "'Year',\n",
      "'Number of female actors',\n",
      "'Number words male',\n",
      "'Gross',\n",
      "'Mean Age Male',\n",
      "'Mean Age Female',\n",
      "'Age Lead',\n",
      "'Age Co-Lead',\n",
      "'Lead',\n",
      "'Number of words co-lead',\n",
      "'Proportion of words lead',\n",
      "'Proportion of words co-lead',\n",
      "'Ratio words co-lead lead',\n",
      "'Proportion of words female',\n",
      "'Number of actors',\n",
      "'Proportion of female actors',\n",
      "'Older lead',\n"
     ]
    }
   ],
   "source": [
    "for col in data.columns:\n",
    "    print(\"'\" + col + \"',\")"
   ]
  },
  {
   "cell_type": "markdown",
   "id": "ignored-concern",
   "metadata": {},
   "source": [
    "We center and scale all computed columns as well as some of the original columns"
   ]
  },
  {
   "cell_type": "code",
   "execution_count": 2740,
   "id": "controlling-potential",
   "metadata": {},
   "outputs": [],
   "source": [
    "cols_to_norm = [\n",
    "    'Total words',\n",
    "    'Year',\n",
    "    'Gross',\n",
    "    'Mean Age Male',\n",
    "    'Mean Age Female',\n",
    "    'Age Lead',\n",
    "    'Age Co-Lead',\n",
    "    'Number of actors'#,\n",
    "    #'Proportion of words lead',\n",
    "    #'Proportion of words co-lead',\n",
    "    #'Ratio words co-lead lead',\n",
    "    #'Proportion of words female',\n",
    "    #'Proportion of female actors',\n",
    "]"
   ]
  },
  {
   "cell_type": "code",
   "execution_count": 2741,
   "id": "activated-potter",
   "metadata": {},
   "outputs": [],
   "source": [
    "scaler = skl_pre.StandardScaler()\n",
    "data[cols_to_norm] = scaler.fit_transform(data[cols_to_norm])"
   ]
  },
  {
   "cell_type": "code",
   "execution_count": 2742,
   "id": "concerned-watson",
   "metadata": {},
   "outputs": [
    {
     "data": {
      "text/html": [
       "<div>\n",
       "<style scoped>\n",
       "    .dataframe tbody tr th:only-of-type {\n",
       "        vertical-align: middle;\n",
       "    }\n",
       "\n",
       "    .dataframe tbody tr th {\n",
       "        vertical-align: top;\n",
       "    }\n",
       "\n",
       "    .dataframe thead th {\n",
       "        text-align: right;\n",
       "    }\n",
       "</style>\n",
       "<table border=\"1\" class=\"dataframe\">\n",
       "  <thead>\n",
       "    <tr style=\"text-align: right;\">\n",
       "      <th></th>\n",
       "      <th>Number words female</th>\n",
       "      <th>Total words</th>\n",
       "      <th>Number of words lead</th>\n",
       "      <th>Difference in words lead and co-lead</th>\n",
       "      <th>Number of male actors</th>\n",
       "      <th>Year</th>\n",
       "      <th>Number of female actors</th>\n",
       "      <th>Number words male</th>\n",
       "      <th>Gross</th>\n",
       "      <th>Mean Age Male</th>\n",
       "      <th>...</th>\n",
       "      <th>Age Co-Lead</th>\n",
       "      <th>Lead</th>\n",
       "      <th>Number of words co-lead</th>\n",
       "      <th>Proportion of words lead</th>\n",
       "      <th>Proportion of words co-lead</th>\n",
       "      <th>Ratio words co-lead lead</th>\n",
       "      <th>Proportion of words female</th>\n",
       "      <th>Number of actors</th>\n",
       "      <th>Proportion of female actors</th>\n",
       "      <th>Older lead</th>\n",
       "    </tr>\n",
       "  </thead>\n",
       "  <tbody>\n",
       "    <tr>\n",
       "      <th>0</th>\n",
       "      <td>1512</td>\n",
       "      <td>-0.676591</td>\n",
       "      <td>2251.0</td>\n",
       "      <td>343</td>\n",
       "      <td>2</td>\n",
       "      <td>-0.467462</td>\n",
       "      <td>5</td>\n",
       "      <td>2631</td>\n",
       "      <td>0.203383</td>\n",
       "      <td>1.170591</td>\n",
       "      <td>...</td>\n",
       "      <td>2.451143</td>\n",
       "      <td>1</td>\n",
       "      <td>1908.0</td>\n",
       "      <td>0.352049</td>\n",
       "      <td>0.298405</td>\n",
       "      <td>0.847623</td>\n",
       "      <td>0.364953</td>\n",
       "      <td>-0.940919</td>\n",
       "      <td>0.714286</td>\n",
       "      <td>0</td>\n",
       "    </tr>\n",
       "    <tr>\n",
       "      <th>1</th>\n",
       "      <td>1524</td>\n",
       "      <td>-0.326435</td>\n",
       "      <td>2020.0</td>\n",
       "      <td>1219</td>\n",
       "      <td>9</td>\n",
       "      <td>0.109371</td>\n",
       "      <td>4</td>\n",
       "      <td>5236</td>\n",
       "      <td>-0.488825</td>\n",
       "      <td>-0.413237</td>\n",
       "      <td>...</td>\n",
       "      <td>-0.123416</td>\n",
       "      <td>0</td>\n",
       "      <td>801.0</td>\n",
       "      <td>0.230068</td>\n",
       "      <td>0.091230</td>\n",
       "      <td>0.396535</td>\n",
       "      <td>0.225444</td>\n",
       "      <td>0.379885</td>\n",
       "      <td>0.307692</td>\n",
       "      <td>1</td>\n",
       "    </tr>\n",
       "    <tr>\n",
       "      <th>2</th>\n",
       "      <td>155</td>\n",
       "      <td>-1.002092</td>\n",
       "      <td>942.0</td>\n",
       "      <td>787</td>\n",
       "      <td>7</td>\n",
       "      <td>-3.063211</td>\n",
       "      <td>1</td>\n",
       "      <td>3079</td>\n",
       "      <td>1.746018</td>\n",
       "      <td>0.018716</td>\n",
       "      <td>...</td>\n",
       "      <td>0.125734</td>\n",
       "      <td>0</td>\n",
       "      <td>155.0</td>\n",
       "      <td>0.225575</td>\n",
       "      <td>0.037117</td>\n",
       "      <td>0.164544</td>\n",
       "      <td>0.047928</td>\n",
       "      <td>-0.720785</td>\n",
       "      <td>0.125000</td>\n",
       "      <td>1</td>\n",
       "    </tr>\n",
       "    <tr>\n",
       "      <th>3</th>\n",
       "      <td>1073</td>\n",
       "      <td>-0.168675</td>\n",
       "      <td>3440.0</td>\n",
       "      <td>2623</td>\n",
       "      <td>12</td>\n",
       "      <td>0.205509</td>\n",
       "      <td>2</td>\n",
       "      <td>5342</td>\n",
       "      <td>-0.607490</td>\n",
       "      <td>-0.912739</td>\n",
       "      <td>...</td>\n",
       "      <td>-1.036970</td>\n",
       "      <td>0</td>\n",
       "      <td>817.0</td>\n",
       "      <td>0.349061</td>\n",
       "      <td>0.082902</td>\n",
       "      <td>0.237500</td>\n",
       "      <td>0.167264</td>\n",
       "      <td>0.600019</td>\n",
       "      <td>0.142857</td>\n",
       "      <td>1</td>\n",
       "    </tr>\n",
       "    <tr>\n",
       "      <th>4</th>\n",
       "      <td>1317</td>\n",
       "      <td>-0.486691</td>\n",
       "      <td>3835.0</td>\n",
       "      <td>3149</td>\n",
       "      <td>8</td>\n",
       "      <td>-1.140434</td>\n",
       "      <td>4</td>\n",
       "      <td>2536</td>\n",
       "      <td>-0.469048</td>\n",
       "      <td>0.370678</td>\n",
       "      <td>...</td>\n",
       "      <td>0.291835</td>\n",
       "      <td>0</td>\n",
       "      <td>686.0</td>\n",
       "      <td>0.498829</td>\n",
       "      <td>0.089230</td>\n",
       "      <td>0.178879</td>\n",
       "      <td>0.341812</td>\n",
       "      <td>0.159751</td>\n",
       "      <td>0.333333</td>\n",
       "      <td>0</td>\n",
       "    </tr>\n",
       "    <tr>\n",
       "      <th>...</th>\n",
       "      <td>...</td>\n",
       "      <td>...</td>\n",
       "      <td>...</td>\n",
       "      <td>...</td>\n",
       "      <td>...</td>\n",
       "      <td>...</td>\n",
       "      <td>...</td>\n",
       "      <td>...</td>\n",
       "      <td>...</td>\n",
       "      <td>...</td>\n",
       "      <td>...</td>\n",
       "      <td>...</td>\n",
       "      <td>...</td>\n",
       "      <td>...</td>\n",
       "      <td>...</td>\n",
       "      <td>...</td>\n",
       "      <td>...</td>\n",
       "      <td>...</td>\n",
       "      <td>...</td>\n",
       "      <td>...</td>\n",
       "      <td>...</td>\n",
       "    </tr>\n",
       "    <tr>\n",
       "      <th>1034</th>\n",
       "      <td>303</td>\n",
       "      <td>-1.263021</td>\n",
       "      <td>1334.0</td>\n",
       "      <td>1166</td>\n",
       "      <td>5</td>\n",
       "      <td>-2.582517</td>\n",
       "      <td>2</td>\n",
       "      <td>761</td>\n",
       "      <td>0.414341</td>\n",
       "      <td>0.108306</td>\n",
       "      <td>...</td>\n",
       "      <td>-0.953919</td>\n",
       "      <td>0</td>\n",
       "      <td>168.0</td>\n",
       "      <td>0.556297</td>\n",
       "      <td>0.070058</td>\n",
       "      <td>0.125937</td>\n",
       "      <td>0.284774</td>\n",
       "      <td>-0.940919</td>\n",
       "      <td>0.285714</td>\n",
       "      <td>1</td>\n",
       "    </tr>\n",
       "    <tr>\n",
       "      <th>1035</th>\n",
       "      <td>632</td>\n",
       "      <td>-0.381615</td>\n",
       "      <td>1952.0</td>\n",
       "      <td>187</td>\n",
       "      <td>6</td>\n",
       "      <td>-0.755879</td>\n",
       "      <td>2</td>\n",
       "      <td>5820</td>\n",
       "      <td>0.401156</td>\n",
       "      <td>-0.663877</td>\n",
       "      <td>...</td>\n",
       "      <td>-0.123416</td>\n",
       "      <td>1</td>\n",
       "      <td>1765.0</td>\n",
       "      <td>0.232270</td>\n",
       "      <td>0.210019</td>\n",
       "      <td>0.904201</td>\n",
       "      <td>0.097954</td>\n",
       "      <td>-0.720785</td>\n",
       "      <td>0.250000</td>\n",
       "      <td>0</td>\n",
       "    </tr>\n",
       "    <tr>\n",
       "      <th>1036</th>\n",
       "      <td>1326</td>\n",
       "      <td>-1.211363</td>\n",
       "      <td>877.0</td>\n",
       "      <td>356</td>\n",
       "      <td>2</td>\n",
       "      <td>0.013232</td>\n",
       "      <td>3</td>\n",
       "      <td>547</td>\n",
       "      <td>-0.383346</td>\n",
       "      <td>-1.901076</td>\n",
       "      <td>...</td>\n",
       "      <td>-0.870869</td>\n",
       "      <td>0</td>\n",
       "      <td>521.0</td>\n",
       "      <td>0.318909</td>\n",
       "      <td>0.189455</td>\n",
       "      <td>0.594071</td>\n",
       "      <td>0.707955</td>\n",
       "      <td>-1.381187</td>\n",
       "      <td>0.600000</td>\n",
       "      <td>1</td>\n",
       "    </tr>\n",
       "    <tr>\n",
       "      <th>1037</th>\n",
       "      <td>462</td>\n",
       "      <td>-1.028801</td>\n",
       "      <td>775.0</td>\n",
       "      <td>52</td>\n",
       "      <td>8</td>\n",
       "      <td>-0.371324</td>\n",
       "      <td>3</td>\n",
       "      <td>2757</td>\n",
       "      <td>-0.521788</td>\n",
       "      <td>0.064425</td>\n",
       "      <td>...</td>\n",
       "      <td>-0.289517</td>\n",
       "      <td>1</td>\n",
       "      <td>723.0</td>\n",
       "      <td>0.194041</td>\n",
       "      <td>0.181022</td>\n",
       "      <td>0.932903</td>\n",
       "      <td>0.143523</td>\n",
       "      <td>-0.060383</td>\n",
       "      <td>0.272727</td>\n",
       "      <td>0</td>\n",
       "    </tr>\n",
       "    <tr>\n",
       "      <th>1038</th>\n",
       "      <td>2735</td>\n",
       "      <td>0.138188</td>\n",
       "      <td>3410.0</td>\n",
       "      <td>1536</td>\n",
       "      <td>13</td>\n",
       "      <td>0.686204</td>\n",
       "      <td>4</td>\n",
       "      <td>5801</td>\n",
       "      <td>-0.521788</td>\n",
       "      <td>0.222330</td>\n",
       "      <td>...</td>\n",
       "      <td>1.039288</td>\n",
       "      <td>0</td>\n",
       "      <td>1874.0</td>\n",
       "      <td>0.285451</td>\n",
       "      <td>0.156873</td>\n",
       "      <td>0.549560</td>\n",
       "      <td>0.320408</td>\n",
       "      <td>1.260421</td>\n",
       "      <td>0.235294</td>\n",
       "      <td>0</td>\n",
       "    </tr>\n",
       "  </tbody>\n",
       "</table>\n",
       "<p>1039 rows × 22 columns</p>\n",
       "</div>"
      ],
      "text/plain": [
       "      Number words female  Total words  Number of words lead  \\\n",
       "0                    1512    -0.676591                2251.0   \n",
       "1                    1524    -0.326435                2020.0   \n",
       "2                     155    -1.002092                 942.0   \n",
       "3                    1073    -0.168675                3440.0   \n",
       "4                    1317    -0.486691                3835.0   \n",
       "...                   ...          ...                   ...   \n",
       "1034                  303    -1.263021                1334.0   \n",
       "1035                  632    -0.381615                1952.0   \n",
       "1036                 1326    -1.211363                 877.0   \n",
       "1037                  462    -1.028801                 775.0   \n",
       "1038                 2735     0.138188                3410.0   \n",
       "\n",
       "      Difference in words lead and co-lead  Number of male actors      Year  \\\n",
       "0                                      343                      2 -0.467462   \n",
       "1                                     1219                      9  0.109371   \n",
       "2                                      787                      7 -3.063211   \n",
       "3                                     2623                     12  0.205509   \n",
       "4                                     3149                      8 -1.140434   \n",
       "...                                    ...                    ...       ...   \n",
       "1034                                  1166                      5 -2.582517   \n",
       "1035                                   187                      6 -0.755879   \n",
       "1036                                   356                      2  0.013232   \n",
       "1037                                    52                      8 -0.371324   \n",
       "1038                                  1536                     13  0.686204   \n",
       "\n",
       "      Number of female actors  Number words male     Gross  Mean Age Male  \\\n",
       "0                           5               2631  0.203383       1.170591   \n",
       "1                           4               5236 -0.488825      -0.413237   \n",
       "2                           1               3079  1.746018       0.018716   \n",
       "3                           2               5342 -0.607490      -0.912739   \n",
       "4                           4               2536 -0.469048       0.370678   \n",
       "...                       ...                ...       ...            ...   \n",
       "1034                        2                761  0.414341       0.108306   \n",
       "1035                        2               5820  0.401156      -0.663877   \n",
       "1036                        3                547 -0.383346      -1.901076   \n",
       "1037                        3               2757 -0.521788       0.064425   \n",
       "1038                        4               5801 -0.521788       0.222330   \n",
       "\n",
       "      ...  Age Co-Lead  Lead  Number of words co-lead  \\\n",
       "0     ...     2.451143     1                   1908.0   \n",
       "1     ...    -0.123416     0                    801.0   \n",
       "2     ...     0.125734     0                    155.0   \n",
       "3     ...    -1.036970     0                    817.0   \n",
       "4     ...     0.291835     0                    686.0   \n",
       "...   ...          ...   ...                      ...   \n",
       "1034  ...    -0.953919     0                    168.0   \n",
       "1035  ...    -0.123416     1                   1765.0   \n",
       "1036  ...    -0.870869     0                    521.0   \n",
       "1037  ...    -0.289517     1                    723.0   \n",
       "1038  ...     1.039288     0                   1874.0   \n",
       "\n",
       "      Proportion of words lead  Proportion of words co-lead  \\\n",
       "0                     0.352049                     0.298405   \n",
       "1                     0.230068                     0.091230   \n",
       "2                     0.225575                     0.037117   \n",
       "3                     0.349061                     0.082902   \n",
       "4                     0.498829                     0.089230   \n",
       "...                        ...                          ...   \n",
       "1034                  0.556297                     0.070058   \n",
       "1035                  0.232270                     0.210019   \n",
       "1036                  0.318909                     0.189455   \n",
       "1037                  0.194041                     0.181022   \n",
       "1038                  0.285451                     0.156873   \n",
       "\n",
       "      Ratio words co-lead lead  Proportion of words female  Number of actors  \\\n",
       "0                     0.847623                    0.364953         -0.940919   \n",
       "1                     0.396535                    0.225444          0.379885   \n",
       "2                     0.164544                    0.047928         -0.720785   \n",
       "3                     0.237500                    0.167264          0.600019   \n",
       "4                     0.178879                    0.341812          0.159751   \n",
       "...                        ...                         ...               ...   \n",
       "1034                  0.125937                    0.284774         -0.940919   \n",
       "1035                  0.904201                    0.097954         -0.720785   \n",
       "1036                  0.594071                    0.707955         -1.381187   \n",
       "1037                  0.932903                    0.143523         -0.060383   \n",
       "1038                  0.549560                    0.320408          1.260421   \n",
       "\n",
       "      Proportion of female actors  Older lead  \n",
       "0                        0.714286           0  \n",
       "1                        0.307692           1  \n",
       "2                        0.125000           1  \n",
       "3                        0.142857           1  \n",
       "4                        0.333333           0  \n",
       "...                           ...         ...  \n",
       "1034                     0.285714           1  \n",
       "1035                     0.250000           0  \n",
       "1036                     0.600000           1  \n",
       "1037                     0.272727           0  \n",
       "1038                     0.235294           0  \n",
       "\n",
       "[1039 rows x 22 columns]"
      ]
     },
     "execution_count": 2742,
     "metadata": {},
     "output_type": "execute_result"
    }
   ],
   "source": [
    "data"
   ]
  },
  {
   "cell_type": "markdown",
   "id": "recreational-colonial",
   "metadata": {},
   "source": [
    "Combining all pre-processing into a function"
   ]
  },
  {
   "cell_type": "code",
   "execution_count": 2743,
   "id": "broke-protection",
   "metadata": {},
   "outputs": [],
   "source": [
    "def pre_process(raw_data, cols_to_norm):\n",
    "    data = raw_data.copy()\n",
    "    \n",
    "    data['Lead'] = pd.get_dummies(data['Lead'])\n",
    "    data['Number of words co-lead'] = data['Number of words lead'] - data['Difference in words lead and co-lead']\n",
    "    data['Proportion of words lead'] = data['Number of words lead']/data['Total words']\n",
    "    data['Proportion of words co-lead'] = data['Number of words co-lead']/data['Total words']\n",
    "    data['Ratio words co-lead lead'] = data['Number of words co-lead']/data['Number of words lead']\n",
    "    data['Proportion of words female'] = data['Number words female']/(data['Total words'] - data['Number of words lead'])\n",
    "    data['Number of actors'] = data['Number of male actors'] + data['Number of female actors']\n",
    "    data['Proportion of female actors'] = data['Number of female actors']/data['Number of actors']\n",
    "    data['Older lead'] = data['Age Lead'] < data['Age Co-Lead']\n",
    "    data['Older lead'] = pd.get_dummies(data['Older lead'])\n",
    "    \n",
    "    scaler = skl_pre.StandardScaler()\n",
    "    data[cols_to_norm] = scaler.fit_transform(data[cols_to_norm])\n",
    "    \n",
    "    return data"
   ]
  },
  {
   "cell_type": "markdown",
   "id": "potential-fossil",
   "metadata": {},
   "source": [
    "# Logistic Regression"
   ]
  },
  {
   "cell_type": "code",
   "execution_count": 2744,
   "id": "willing-reform",
   "metadata": {},
   "outputs": [],
   "source": [
    "data = pre_process(rawData, cols_to_norm)"
   ]
  },
  {
   "cell_type": "code",
   "execution_count": 2745,
   "id": "velvet-uruguay",
   "metadata": {},
   "outputs": [],
   "source": [
    "config = pd.read_csv('config.csv')\n",
    "trainRatio = config['Train Ratio'][0]\n",
    "seed = config['Random Seed'][0]\n",
    "train, test = skl_ms.train_test_split(data, train_size=trainRatio) #, random_state=seed)"
   ]
  },
  {
   "cell_type": "code",
   "execution_count": 2746,
   "id": "unavailable-belfast",
   "metadata": {},
   "outputs": [],
   "source": [
    "rawFeatures = [\n",
    "    'Number words female',\n",
    "    'Total words',\n",
    "    'Number of words lead',\n",
    "    'Difference in words lead and co-lead',\n",
    "    'Number of male actors',\n",
    "    'Year',\n",
    "    'Number of female actors',\n",
    "    'Number words male',\n",
    "    'Gross',\n",
    "    'Mean Age Male',\n",
    "    'Mean Age Female',\n",
    "    'Age Lead',\n",
    "    'Age Co-Lead'\n",
    "]\n",
    "\n",
    "featureSet1 = [\n",
    "    'Year',\n",
    "    'Gross',\n",
    "    'Number of actors',\n",
    "    'Proportion of female actors',\n",
    "    'Mean Age Male',\n",
    "    'Mean Age Female',\n",
    "    'Age Lead',\n",
    "    'Age Co-Lead',\n",
    "    'Total words',\n",
    "    'Proportion of words lead',\n",
    "    'Proportion of words co-lead',\n",
    "    'Ratio words co-lead lead',\n",
    "    'Proportion of words female',\n",
    "    'Older lead'\n",
    "]"
   ]
  },
  {
   "cell_type": "code",
   "execution_count": 2747,
   "id": "contained-furniture",
   "metadata": {},
   "outputs": [
    {
     "name": "stderr",
     "output_type": "stream",
     "text": [
      "/opt/conda/lib/python3.8/site-packages/IPython/core/displayhook.py:275: UserWarning: Output cache limit (currently 1000 entries) hit.\n",
      "Flushing oldest 200 entries.\n",
      "  warn('Output cache limit (currently {sz} entries) hit.\\n'\n"
     ]
    },
    {
     "data": {
      "text/plain": [
       "False"
      ]
     },
     "execution_count": 2747,
     "metadata": {},
     "output_type": "execute_result"
    }
   ],
   "source": [
    "set(cols_to_norm) == set(featureSet1) "
   ]
  },
  {
   "cell_type": "code",
   "execution_count": 2748,
   "id": "considerable-permit",
   "metadata": {},
   "outputs": [],
   "source": [
    "features = featureSet1.copy()\n",
    "#features.remove('Proportion of words female')\n",
    "target = 'Lead'"
   ]
  },
  {
   "cell_type": "code",
   "execution_count": 2749,
   "id": "ruled-shaft",
   "metadata": {},
   "outputs": [],
   "source": [
    "def fit_and_test(classifier, train, test, features, target, suppress_output = False):\n",
    "    classifier.fit(train[features], train[target])\n",
    "    if not suppress_output:\n",
    "        skl_met.plot_roc_curve(classifier, test[features], test[target])\n",
    "        print('accuracy: ' + str(classifier.score(test[features], test[target])))\n",
    "        print('     auc: ' + str(skl_met.roc_auc_score(test[target], classifier.predict_proba(test[features])[:,1])) + '\\n')\n",
    "        print(skl_met.classification_report(test[target], classifier.predict(test[features])))\n",
    "    return classifier"
   ]
  },
  {
   "cell_type": "markdown",
   "id": "super-bullet",
   "metadata": {},
   "source": [
    "## Lasso\n",
    "\n",
    "Lasso is L1 regularization"
   ]
  },
  {
   "cell_type": "markdown",
   "id": "weekly-interim",
   "metadata": {},
   "source": [
    "We do 20 folds, use `liblinear` solver that is better for smaller datasets and 10 threads in the cross-validation step.\n",
    "\n",
    "The method will try 10 values of lambda between `1e-4` and `1e4` to determine the best regularization parameter."
   ]
  },
  {
   "cell_type": "code",
   "execution_count": 2750,
   "id": "tracked-bread",
   "metadata": {},
   "outputs": [
    {
     "name": "stdout",
     "output_type": "stream",
     "text": [
      "accuracy: 0.9038461538461539\n",
      "     auc: 0.8909925415949512\n",
      "\n",
      "              precision    recall  f1-score   support\n",
      "\n",
      "           0       0.93      0.95      0.94        83\n",
      "           1       0.79      0.71      0.75        21\n",
      "\n",
      "    accuracy                           0.90       104\n",
      "   macro avg       0.86      0.83      0.85       104\n",
      "weighted avg       0.90      0.90      0.90       104\n",
      "\n"
     ]
    },
    {
     "data": {
      "image/png": "[encoded data removed]",
      "text/plain": [
       "<Figure size 432x288 with 1 Axes>"
      ]
     },
     "metadata": {
      "needs_background": "light"
     },
     "output_type": "display_data"
    }
   ],
   "source": [
    "logRegLasso = fit_and_test(skl_lm.LogisticRegressionCV(Cs=10, cv=20, penalty='l1', solver='liblinear', n_jobs=10), train, test, features, target)"
   ]
  },
  {
   "cell_type": "markdown",
   "id": "formal-oxide",
   "metadata": {},
   "source": [
    "We want to know how the algorithm performs over different splits of training and testing data"
   ]
  },
  {
   "cell_type": "code",
   "execution_count": 2751,
   "id": "becoming-looking",
   "metadata": {},
   "outputs": [
    {
     "name": "stdout",
     "output_type": "stream",
     "text": [
      "CPU times: user 4.27 s, sys: 36.2 ms, total: 4.31 s\n",
      "Wall time: 23.1 s\n"
     ]
    }
   ],
   "source": [
    "%%time\n",
    "B = 100\n",
    "accuracies = []\n",
    "aucs = []\n",
    "for i in range(B):\n",
    "    train, test = skl_ms.train_test_split(data, train_size=trainRatio)\n",
    "    logRegLasso = fit_and_test(skl_lm.LogisticRegressionCV(Cs=10, cv=10, penalty='l1', solver='liblinear', n_jobs=10), train, test, features, target, suppress_output=True)\n",
    "    accuracies.append(logRegLasso.score(test[features], test[target]))\n",
    "    aucs.append(skl_met.roc_auc_score(test[target], logRegLasso.predict_proba(test[features])[:,1]))"
   ]
  },
  {
   "cell_type": "code",
   "execution_count": 2752,
   "id": "modified-jerusalem",
   "metadata": {},
   "outputs": [
    {
     "name": "stdout",
     "output_type": "stream",
     "text": [
      "mean accuracy: 0.8979807692307693\n",
      "     mean auc: 0.9283192468298934\n"
     ]
    }
   ],
   "source": [
    "print('mean accuracy: ' + str(np.mean(accuracies)))\n",
    "print('     mean auc: ' + str(np.mean(aucs)))"
   ]
  },
  {
   "cell_type": "code",
   "execution_count": 2753,
   "id": "immune-cancellation",
   "metadata": {},
   "outputs": [
    {
     "data": {
      "image/png": "[encoded data removed]",
      "text/plain": [
       "<Figure size 432x288 with 1 Axes>"
      ]
     },
     "metadata": {
      "needs_background": "light"
     },
     "output_type": "display_data"
    }
   ],
   "source": [
    "plt.hist(accuracies)\n",
    "plt.title(f'LASSO accuracy, B = {B}')\n",
    "plt.show()"
   ]
  },
  {
   "cell_type": "markdown",
   "id": "wooden-contract",
   "metadata": {},
   "source": [
    "## Ridge\n",
    "\n",
    "Ridge is L2-regularization\n",
    "\n",
    "We do 10 folds, use `liblinear` solver that is better for smaller datasets and 10 threads in the cross-validation step.\n",
    "\n",
    "The method will try 100 values of lambda between `1e-4` and `1e4` to determine the best regularization parameter."
   ]
  },
  {
   "cell_type": "code",
   "execution_count": 2754,
   "id": "elder-function",
   "metadata": {},
   "outputs": [
    {
     "name": "stdout",
     "output_type": "stream",
     "text": [
      "accuracy: 0.9038461538461539\n",
      "     auc: 0.9060150375939849\n",
      "\n",
      "              precision    recall  f1-score   support\n",
      "\n",
      "           0       0.90      0.97      0.94        76\n",
      "           1       0.91      0.71      0.80        28\n",
      "\n",
      "    accuracy                           0.90       104\n",
      "   macro avg       0.91      0.84      0.87       104\n",
      "weighted avg       0.90      0.90      0.90       104\n",
      "\n"
     ]
    },
    {
     "data": {
      "image/png": "[encoded data removed]",
      "text/plain": [
       "<Figure size 432x288 with 1 Axes>"
      ]
     },
     "metadata": {
      "needs_background": "light"
     },
     "output_type": "display_data"
    }
   ],
   "source": [
    "logRegRidge = fit_and_test(skl_lm.LogisticRegressionCV(Cs=10, cv=20, penalty='l2', solver='liblinear', n_jobs=10), train, test, features, target)"
   ]
  },
  {
   "cell_type": "code",
   "execution_count": 2755,
   "id": "apparent-wages",
   "metadata": {},
   "outputs": [
    {
     "name": "stdout",
     "output_type": "stream",
     "text": [
      "CPU times: user 6.09 s, sys: 147 ms, total: 6.23 s\n",
      "Wall time: 20.2 s\n"
     ]
    }
   ],
   "source": [
    "%%time\n",
    "B = 400\n",
    "accuracies = []\n",
    "aucs = []\n",
    "for i in range(B):\n",
    "    train, test = skl_ms.train_test_split(data, train_size=trainRatio)\n",
    "    logRegLasso = fit_and_test(skl_lm.LogisticRegressionCV(Cs=10, cv=10, penalty='l2', solver='liblinear', n_jobs=10), train, test, features, target, suppress_output=True)\n",
    "    accuracies.append(logRegLasso.score(test[features], test[target]))\n",
    "    aucs.append(skl_met.roc_auc_score(test[target], logRegLasso.predict_proba(test[features])[:,1]))"
   ]
  },
  {
   "cell_type": "code",
   "execution_count": 2756,
   "id": "dress-touch",
   "metadata": {},
   "outputs": [
    {
     "name": "stdout",
     "output_type": "stream",
     "text": [
      "mean accuracy: 0.8984375\n",
      "     mean auc: 0.9238695273265037\n"
     ]
    }
   ],
   "source": [
    "print(\"mean accuracy: \" + str(np.mean(accuracies)))\n",
    "print('     mean auc: ' + str(np.mean(aucs)))"
   ]
  },
  {
   "cell_type": "code",
   "execution_count": 2757,
   "id": "interior-perry",
   "metadata": {},
   "outputs": [
    {
     "data": {
      "image/png": "[encoded data removed]",
      "text/plain": [
       "<Figure size 432x288 with 1 Axes>"
      ]
     },
     "metadata": {
      "needs_background": "light"
     },
     "output_type": "display_data"
    }
   ],
   "source": [
    "plt.hist(accuracies)\n",
    "plt.title(f'Ridge accuracy, B = {B}')\n",
    "plt.show()"
   ]
  },
  {
   "cell_type": "markdown",
   "id": "universal-comparative",
   "metadata": {},
   "source": [
    "## Comparison"
   ]
  },
  {
   "cell_type": "code",
   "execution_count": 2758,
   "id": "rolled-witch",
   "metadata": {},
   "outputs": [
    {
     "data": {
      "text/plain": [
       "array([1291.54966501])"
      ]
     },
     "execution_count": 2758,
     "metadata": {},
     "output_type": "execute_result"
    }
   ],
   "source": [
    "logRegLasso.C_"
   ]
  },
  {
   "cell_type": "code",
   "execution_count": 2759,
   "id": "athletic-diagram",
   "metadata": {},
   "outputs": [
    {
     "data": {
      "text/plain": [
       "array([21.5443469])"
      ]
     },
     "execution_count": 2759,
     "metadata": {},
     "output_type": "execute_result"
    }
   ],
   "source": [
    "logRegRidge.C_"
   ]
  },
  {
   "cell_type": "code",
   "execution_count": 2760,
   "id": "synthetic-hungarian",
   "metadata": {},
   "outputs": [],
   "source": [
    "predLasso = logRegLasso.predict(test[features])\n",
    "predRidge = logRegRidge.predict(test[features])"
   ]
  },
  {
   "cell_type": "code",
   "execution_count": 2761,
   "id": "involved-aquatic",
   "metadata": {},
   "outputs": [],
   "source": [
    "logRegLassoCoefs = dict(zip(features, logRegLasso.coef_[0]))"
   ]
  },
  {
   "cell_type": "markdown",
   "id": "dense-sugar",
   "metadata": {},
   "source": [
    "There is a reason that `Proportion of words female` is an indicator that the lead is male. If the `Lead` is male, `Number words female` includes the number of words spoken by the co-lead and hence `Number words female` is the total number of words spoken by **all** female actors while `Number words male` is the number of words spoken by the **non-lead** male actors. Hence, "
   ]
  },
  {
   "cell_type": "code",
   "execution_count": 2762,
   "id": "welsh-noise",
   "metadata": {},
   "outputs": [
    {
     "name": "stdout",
     "output_type": "stream",
     "text": [
      "Year                                     -0.05189\n",
      "Gross                                    -0.08959\n",
      "Number of actors                         0.53517\n",
      "Proportion of female actors              18.44820\n",
      "Mean Age Male                            0.28539\n",
      "Mean Age Female                          0.03456\n",
      "Age Lead                                 -0.38475\n",
      "Age Co-Lead                              0.19123\n",
      "Total words                              -0.61461\n",
      "Proportion of words lead                 2.03709\n",
      "Proportion of words co-lead              4.61325\n",
      "Ratio words co-lead lead                 2.75219\n",
      "Proportion of words female               -11.51988\n",
      "Older lead                               -1.20364\n"
     ]
    }
   ],
   "source": [
    "for var, coef in logRegLassoCoefs.items():\n",
    "    print(f'{var:40} {coef:.5f}')"
   ]
  },
  {
   "cell_type": "code",
   "execution_count": 2763,
   "id": "executive-complexity",
   "metadata": {},
   "outputs": [],
   "source": [
    "logRegRidgeCoefs = dict(zip(features, logRegRidge.coef_[0]))"
   ]
  },
  {
   "cell_type": "code",
   "execution_count": 2764,
   "id": "thick-devices",
   "metadata": {},
   "outputs": [
    {
     "name": "stdout",
     "output_type": "stream",
     "text": [
      "Year                                     0.00080\n",
      "Gross                                    -0.05069\n",
      "Number of actors                         0.48936\n",
      "Proportion of female actors              17.17039\n",
      "Mean Age Male                            0.17597\n",
      "Mean Age Female                          -0.00838\n",
      "Age Lead                                 -0.34007\n",
      "Age Co-Lead                              0.22842\n",
      "Total words                              -0.53862\n",
      "Proportion of words lead                 2.64158\n",
      "Proportion of words co-lead              3.75131\n",
      "Ratio words co-lead lead                 3.14909\n",
      "Proportion of words female               -10.65164\n",
      "Older lead                               -1.13606\n"
     ]
    }
   ],
   "source": [
    "for var, coef in logRegRidgeCoefs.items():\n",
    "    print(f'{var:40} {coef:.5f}')"
   ]
  },
  {
   "cell_type": "code",
   "execution_count": 2765,
   "id": "convinced-warrior",
   "metadata": {},
   "outputs": [
    {
     "data": {
      "text/plain": [
       "0.9903846153846154"
      ]
     },
     "execution_count": 2765,
     "metadata": {},
     "output_type": "execute_result"
    }
   ],
   "source": [
    "sum(predLasso == predRidge)/len(test)"
   ]
  },
  {
   "cell_type": "code",
   "execution_count": 2766,
   "id": "above-premises",
   "metadata": {},
   "outputs": [
    {
     "data": {
      "text/html": [
       "<div>\n",
       "<style scoped>\n",
       "    .dataframe tbody tr th:only-of-type {\n",
       "        vertical-align: middle;\n",
       "    }\n",
       "\n",
       "    .dataframe tbody tr th {\n",
       "        vertical-align: top;\n",
       "    }\n",
       "\n",
       "    .dataframe thead th {\n",
       "        text-align: right;\n",
       "    }\n",
       "</style>\n",
       "<table border=\"1\" class=\"dataframe\">\n",
       "  <thead>\n",
       "    <tr style=\"text-align: right;\">\n",
       "      <th>col_0</th>\n",
       "      <th>0</th>\n",
       "      <th>1</th>\n",
       "    </tr>\n",
       "    <tr>\n",
       "      <th>Lead</th>\n",
       "      <th></th>\n",
       "      <th></th>\n",
       "    </tr>\n",
       "  </thead>\n",
       "  <tbody>\n",
       "    <tr>\n",
       "      <th>0</th>\n",
       "      <td>74</td>\n",
       "      <td>2</td>\n",
       "    </tr>\n",
       "    <tr>\n",
       "      <th>1</th>\n",
       "      <td>3</td>\n",
       "      <td>25</td>\n",
       "    </tr>\n",
       "  </tbody>\n",
       "</table>\n",
       "</div>"
      ],
      "text/plain": [
       "col_0   0   1\n",
       "Lead         \n",
       "0      74   2\n",
       "1       3  25"
      ]
     },
     "execution_count": 2766,
     "metadata": {},
     "output_type": "execute_result"
    }
   ],
   "source": [
    "pd.crosstab(test[target], predLasso)"
   ]
  },
  {
   "cell_type": "code",
   "execution_count": 2767,
   "id": "social-museum",
   "metadata": {},
   "outputs": [
    {
     "data": {
      "text/html": [
       "<div>\n",
       "<style scoped>\n",
       "    .dataframe tbody tr th:only-of-type {\n",
       "        vertical-align: middle;\n",
       "    }\n",
       "\n",
       "    .dataframe tbody tr th {\n",
       "        vertical-align: top;\n",
       "    }\n",
       "\n",
       "    .dataframe thead th {\n",
       "        text-align: right;\n",
       "    }\n",
       "</style>\n",
       "<table border=\"1\" class=\"dataframe\">\n",
       "  <thead>\n",
       "    <tr style=\"text-align: right;\">\n",
       "      <th>col_0</th>\n",
       "      <th>0</th>\n",
       "      <th>1</th>\n",
       "    </tr>\n",
       "    <tr>\n",
       "      <th>Lead</th>\n",
       "      <th></th>\n",
       "      <th></th>\n",
       "    </tr>\n",
       "  </thead>\n",
       "  <tbody>\n",
       "    <tr>\n",
       "      <th>0</th>\n",
       "      <td>75</td>\n",
       "      <td>1</td>\n",
       "    </tr>\n",
       "    <tr>\n",
       "      <th>1</th>\n",
       "      <td>3</td>\n",
       "      <td>25</td>\n",
       "    </tr>\n",
       "  </tbody>\n",
       "</table>\n",
       "</div>"
      ],
      "text/plain": [
       "col_0   0   1\n",
       "Lead         \n",
       "0      75   1\n",
       "1       3  25"
      ]
     },
     "execution_count": 2767,
     "metadata": {},
     "output_type": "execute_result"
    }
   ],
   "source": [
    "pd.crosstab(test[target], predRidge)"
   ]
  },
  {
   "cell_type": "code",
   "execution_count": null,
   "id": "moderate-constitutional",
   "metadata": {},
   "outputs": [],
   "source": []
  }
 ],
 "metadata": {
  "kernelspec": {
   "display_name": "Python 3",
   "language": "python",
   "name": "python3"
  },
  "language_info": {
   "codemirror_mode": {
    "name": "ipython",
    "version": 3
   },
   "file_extension": ".py",
   "mimetype": "text/x-python",
   "name": "python",
   "nbconvert_exporter": "python",
   "pygments_lexer": "ipython3",
   "version": "3.8.6"
  }
 },
 "nbformat": 4,
 "nbformat_minor": 5
}
