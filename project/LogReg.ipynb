{
 "cells": [
  {
   "cell_type": "markdown",
   "id": "coordinate-niger",
   "metadata": {},
   "source": [
    "## Imports and data ingestion\n",
    "\n",
    "`linear_model` for Logistic Regression,\n",
    "\n",
    "`model_selection` for train-test split and cross-validation,\n",
    "\n",
    "`metrics` for ROC and AIC"
   ]
  },
  {
   "cell_type": "code",
   "execution_count": 28,
   "id": "suitable-distributor",
   "metadata": {},
   "outputs": [],
   "source": [
    "import numpy as np\n",
    "import pandas as pd\n",
    "import matplotlib.pyplot as plt\n",
    "import sklearn.linear_model as skl_lm\n",
    "import sklearn.ensemble as skl_en\n",
    "import sklearn.model_selection as skl_ms\n",
    "import sklearn.metrics as skl_met\n",
    "import sklearn.preprocessing as skl_pre"
   ]
  },
  {
   "cell_type": "code",
   "execution_count": 87,
   "id": "descending-poland",
   "metadata": {},
   "outputs": [],
   "source": [
    "rawData = pd.read_csv('train.csv')"
   ]
  },
  {
   "cell_type": "markdown",
   "id": "premium-crown",
   "metadata": {},
   "source": [
    "## Get Dummies\n",
    "\n",
    "`Lead` is `0` if the lead is `female`."
   ]
  },
  {
   "cell_type": "code",
   "execution_count": 30,
   "id": "demographic-blame",
   "metadata": {},
   "outputs": [],
   "source": [
    "data = rawData.copy()\n",
    "data['Lead'] = pd.get_dummies(data['Lead'])"
   ]
  },
  {
   "cell_type": "markdown",
   "id": "hollow-motorcycle",
   "metadata": {},
   "source": [
    "## Feature Engineering\n",
    "\n",
    "We first extract the number of words spoken by the co-lead."
   ]
  },
  {
   "cell_type": "code",
   "execution_count": 31,
   "id": "successful-range",
   "metadata": {},
   "outputs": [],
   "source": [
    "data['Number of words co-lead'] = data['Number of words lead'] - data['Difference in words lead and co-lead']"
   ]
  },
  {
   "cell_type": "markdown",
   "id": "confused-kernel",
   "metadata": {},
   "source": [
    "It is probably more important to know proportion of words spoken by lead than the absolute number of words."
   ]
  },
  {
   "cell_type": "code",
   "execution_count": 32,
   "id": "democratic-rebate",
   "metadata": {},
   "outputs": [],
   "source": [
    "data['Proportion of words lead'] = data['Number of words lead']/data['Total words']"
   ]
  },
  {
   "cell_type": "markdown",
   "id": "subject-trinity",
   "metadata": {},
   "source": [
    "We look at the proportion of dialogue from co-lead as well as the ratio of dialogue between co-lead and lead."
   ]
  },
  {
   "cell_type": "code",
   "execution_count": 33,
   "id": "molecular-liabilities",
   "metadata": {},
   "outputs": [],
   "source": [
    "data['Proportion of words co-lead'] = data['Number of words co-lead']/data['Total words']\n",
    "data['Ratio words co-lead lead'] = data['Number of words co-lead']/data['Number of words lead']"
   ]
  },
  {
   "cell_type": "markdown",
   "id": "oriental-mapping",
   "metadata": {},
   "source": [
    "Similarly for number of words spoken by male or female actors. However, here we normalize by `Total words - Number of words lead` since this only measures non-lead dialogue. We only need `Proportion of words female` since a hypothetical `Proportion of words male` is just `1 - Proportion of words female`."
   ]
  },
  {
   "cell_type": "code",
   "execution_count": 34,
   "id": "economic-vampire",
   "metadata": {},
   "outputs": [],
   "source": [
    "data['Proportion of words female'] = data['Number words female']/(data['Total words'] - data['Number of words lead'])"
   ]
  },
  {
   "cell_type": "markdown",
   "id": "apparent-encounter",
   "metadata": {},
   "source": [
    "It might be important to look at the ratio of female actors."
   ]
  },
  {
   "cell_type": "code",
   "execution_count": 35,
   "id": "sexual-letters",
   "metadata": {},
   "outputs": [],
   "source": [
    "data['Number of actors'] = data['Number of male actors'] + data['Number of female actors']"
   ]
  },
  {
   "cell_type": "code",
   "execution_count": 36,
   "id": "domestic-sarah",
   "metadata": {},
   "outputs": [
    {
     "data": {
      "text/html": [
       "<div>\n",
       "<style scoped>\n",
       "    .dataframe tbody tr th:only-of-type {\n",
       "        vertical-align: middle;\n",
       "    }\n",
       "\n",
       "    .dataframe tbody tr th {\n",
       "        vertical-align: top;\n",
       "    }\n",
       "\n",
       "    .dataframe thead th {\n",
       "        text-align: right;\n",
       "    }\n",
       "</style>\n",
       "<table border=\"1\" class=\"dataframe\">\n",
       "  <thead>\n",
       "    <tr style=\"text-align: right;\">\n",
       "      <th></th>\n",
       "      <th>Total words</th>\n",
       "      <th>Number of words lead</th>\n",
       "      <th>Difference in words lead and co-lead</th>\n",
       "      <th>Number of words co-lead</th>\n",
       "      <th>Number words male</th>\n",
       "      <th>Number words female</th>\n",
       "    </tr>\n",
       "  </thead>\n",
       "  <tbody>\n",
       "    <tr>\n",
       "      <th>0</th>\n",
       "      <td>6394</td>\n",
       "      <td>2251.0</td>\n",
       "      <td>343</td>\n",
       "      <td>1908.0</td>\n",
       "      <td>2631</td>\n",
       "      <td>1512</td>\n",
       "    </tr>\n",
       "    <tr>\n",
       "      <th>1</th>\n",
       "      <td>8780</td>\n",
       "      <td>2020.0</td>\n",
       "      <td>1219</td>\n",
       "      <td>801.0</td>\n",
       "      <td>5236</td>\n",
       "      <td>1524</td>\n",
       "    </tr>\n",
       "    <tr>\n",
       "      <th>2</th>\n",
       "      <td>4176</td>\n",
       "      <td>942.0</td>\n",
       "      <td>787</td>\n",
       "      <td>155.0</td>\n",
       "      <td>3079</td>\n",
       "      <td>155</td>\n",
       "    </tr>\n",
       "    <tr>\n",
       "      <th>3</th>\n",
       "      <td>9855</td>\n",
       "      <td>3440.0</td>\n",
       "      <td>2623</td>\n",
       "      <td>817.0</td>\n",
       "      <td>5342</td>\n",
       "      <td>1073</td>\n",
       "    </tr>\n",
       "    <tr>\n",
       "      <th>4</th>\n",
       "      <td>7688</td>\n",
       "      <td>3835.0</td>\n",
       "      <td>3149</td>\n",
       "      <td>686.0</td>\n",
       "      <td>2536</td>\n",
       "      <td>1317</td>\n",
       "    </tr>\n",
       "    <tr>\n",
       "      <th>...</th>\n",
       "      <td>...</td>\n",
       "      <td>...</td>\n",
       "      <td>...</td>\n",
       "      <td>...</td>\n",
       "      <td>...</td>\n",
       "      <td>...</td>\n",
       "    </tr>\n",
       "    <tr>\n",
       "      <th>1034</th>\n",
       "      <td>2398</td>\n",
       "      <td>1334.0</td>\n",
       "      <td>1166</td>\n",
       "      <td>168.0</td>\n",
       "      <td>761</td>\n",
       "      <td>303</td>\n",
       "    </tr>\n",
       "    <tr>\n",
       "      <th>1035</th>\n",
       "      <td>8404</td>\n",
       "      <td>1952.0</td>\n",
       "      <td>187</td>\n",
       "      <td>1765.0</td>\n",
       "      <td>5820</td>\n",
       "      <td>632</td>\n",
       "    </tr>\n",
       "    <tr>\n",
       "      <th>1036</th>\n",
       "      <td>2750</td>\n",
       "      <td>877.0</td>\n",
       "      <td>356</td>\n",
       "      <td>521.0</td>\n",
       "      <td>547</td>\n",
       "      <td>1326</td>\n",
       "    </tr>\n",
       "    <tr>\n",
       "      <th>1037</th>\n",
       "      <td>3994</td>\n",
       "      <td>775.0</td>\n",
       "      <td>52</td>\n",
       "      <td>723.0</td>\n",
       "      <td>2757</td>\n",
       "      <td>462</td>\n",
       "    </tr>\n",
       "    <tr>\n",
       "      <th>1038</th>\n",
       "      <td>11946</td>\n",
       "      <td>3410.0</td>\n",
       "      <td>1536</td>\n",
       "      <td>1874.0</td>\n",
       "      <td>5801</td>\n",
       "      <td>2735</td>\n",
       "    </tr>\n",
       "  </tbody>\n",
       "</table>\n",
       "<p>1039 rows × 6 columns</p>\n",
       "</div>"
      ],
      "text/plain": [
       "      Total words  Number of words lead  Difference in words lead and co-lead  \\\n",
       "0            6394                2251.0                                   343   \n",
       "1            8780                2020.0                                  1219   \n",
       "2            4176                 942.0                                   787   \n",
       "3            9855                3440.0                                  2623   \n",
       "4            7688                3835.0                                  3149   \n",
       "...           ...                   ...                                   ...   \n",
       "1034         2398                1334.0                                  1166   \n",
       "1035         8404                1952.0                                   187   \n",
       "1036         2750                 877.0                                   356   \n",
       "1037         3994                 775.0                                    52   \n",
       "1038        11946                3410.0                                  1536   \n",
       "\n",
       "      Number of words co-lead  Number words male  Number words female  \n",
       "0                      1908.0               2631                 1512  \n",
       "1                       801.0               5236                 1524  \n",
       "2                       155.0               3079                  155  \n",
       "3                       817.0               5342                 1073  \n",
       "4                       686.0               2536                 1317  \n",
       "...                       ...                ...                  ...  \n",
       "1034                    168.0                761                  303  \n",
       "1035                   1765.0               5820                  632  \n",
       "1036                    521.0                547                 1326  \n",
       "1037                    723.0               2757                  462  \n",
       "1038                   1874.0               5801                 2735  \n",
       "\n",
       "[1039 rows x 6 columns]"
      ]
     },
     "execution_count": 36,
     "metadata": {},
     "output_type": "execute_result"
    }
   ],
   "source": [
    "data[['Total words','Number of words lead','Difference in words lead and co-lead','Number of words co-lead','Number words male','Number words female']]"
   ]
  },
  {
   "cell_type": "code",
   "execution_count": 37,
   "id": "korean-relief",
   "metadata": {},
   "outputs": [],
   "source": [
    "data['Proportion of female actors'] = data['Number of female actors']/data['Number of actors']"
   ]
  },
  {
   "cell_type": "markdown",
   "id": "atomic-measure",
   "metadata": {},
   "source": [
    "Perhaps it is important if the lead or co-lead is oldest."
   ]
  },
  {
   "cell_type": "code",
   "execution_count": 38,
   "id": "ceramic-swift",
   "metadata": {},
   "outputs": [],
   "source": [
    "data['Older lead'] = data['Age Lead'] < data['Age Co-Lead']\n",
    "data['Older lead'] = pd.get_dummies(data['Older lead'])"
   ]
  },
  {
   "cell_type": "code",
   "execution_count": 39,
   "id": "pending-collect",
   "metadata": {},
   "outputs": [
    {
     "name": "stdout",
     "output_type": "stream",
     "text": [
      "'Number words female',\n",
      "'Total words',\n",
      "'Number of words lead',\n",
      "'Difference in words lead and co-lead',\n",
      "'Number of male actors',\n",
      "'Year',\n",
      "'Number of female actors',\n",
      "'Number words male',\n",
      "'Gross',\n",
      "'Mean Age Male',\n",
      "'Mean Age Female',\n",
      "'Age Lead',\n",
      "'Age Co-Lead',\n",
      "'Lead',\n",
      "'Number of words co-lead',\n",
      "'Proportion of words lead',\n",
      "'Proportion of words co-lead',\n",
      "'Ratio words co-lead lead',\n",
      "'Proportion of words female',\n",
      "'Number of actors',\n",
      "'Proportion of female actors',\n",
      "'Older lead',\n"
     ]
    }
   ],
   "source": [
    "for col in data.columns:\n",
    "    print(\"'\" + col + \"',\")"
   ]
  },
  {
   "cell_type": "markdown",
   "id": "cheap-intermediate",
   "metadata": {},
   "source": [
    "We center and scale all computed columns as well as some of the original columns"
   ]
  },
  {
   "cell_type": "code",
   "execution_count": 40,
   "id": "changed-latvia",
   "metadata": {},
   "outputs": [],
   "source": [
    "cols_to_norm = [\n",
    "    'Total words',\n",
    "    'Year',\n",
    "    'Gross',\n",
    "    'Mean Age Male',\n",
    "    'Mean Age Female',\n",
    "    'Age Lead',\n",
    "    'Age Co-Lead',\n",
    "    'Number of actors'#,\n",
    "    #'Proportion of words lead',\n",
    "    #'Proportion of words co-lead',\n",
    "    #'Ratio words co-lead lead',\n",
    "    #'Proportion of words female',\n",
    "    #'Proportion of female actors',\n",
    "]"
   ]
  },
  {
   "cell_type": "code",
   "execution_count": 41,
   "id": "korean-survey",
   "metadata": {},
   "outputs": [],
   "source": [
    "scaler = skl_pre.StandardScaler()\n",
    "data[cols_to_norm] = scaler.fit_transform(data[cols_to_norm])"
   ]
  },
  {
   "cell_type": "code",
   "execution_count": 42,
   "id": "piano-amino",
   "metadata": {},
   "outputs": [
    {
     "data": {
      "text/html": [
       "<div>\n",
       "<style scoped>\n",
       "    .dataframe tbody tr th:only-of-type {\n",
       "        vertical-align: middle;\n",
       "    }\n",
       "\n",
       "    .dataframe tbody tr th {\n",
       "        vertical-align: top;\n",
       "    }\n",
       "\n",
       "    .dataframe thead th {\n",
       "        text-align: right;\n",
       "    }\n",
       "</style>\n",
       "<table border=\"1\" class=\"dataframe\">\n",
       "  <thead>\n",
       "    <tr style=\"text-align: right;\">\n",
       "      <th></th>\n",
       "      <th>Number words female</th>\n",
       "      <th>Total words</th>\n",
       "      <th>Number of words lead</th>\n",
       "      <th>Difference in words lead and co-lead</th>\n",
       "      <th>Number of male actors</th>\n",
       "      <th>Year</th>\n",
       "      <th>Number of female actors</th>\n",
       "      <th>Number words male</th>\n",
       "      <th>Gross</th>\n",
       "      <th>Mean Age Male</th>\n",
       "      <th>...</th>\n",
       "      <th>Age Co-Lead</th>\n",
       "      <th>Lead</th>\n",
       "      <th>Number of words co-lead</th>\n",
       "      <th>Proportion of words lead</th>\n",
       "      <th>Proportion of words co-lead</th>\n",
       "      <th>Ratio words co-lead lead</th>\n",
       "      <th>Proportion of words female</th>\n",
       "      <th>Number of actors</th>\n",
       "      <th>Proportion of female actors</th>\n",
       "      <th>Older lead</th>\n",
       "    </tr>\n",
       "  </thead>\n",
       "  <tbody>\n",
       "    <tr>\n",
       "      <th>0</th>\n",
       "      <td>1512</td>\n",
       "      <td>-0.676591</td>\n",
       "      <td>2251.0</td>\n",
       "      <td>343</td>\n",
       "      <td>2</td>\n",
       "      <td>-0.467462</td>\n",
       "      <td>5</td>\n",
       "      <td>2631</td>\n",
       "      <td>0.203383</td>\n",
       "      <td>1.170591</td>\n",
       "      <td>...</td>\n",
       "      <td>2.451143</td>\n",
       "      <td>1</td>\n",
       "      <td>1908.0</td>\n",
       "      <td>0.352049</td>\n",
       "      <td>0.298405</td>\n",
       "      <td>0.847623</td>\n",
       "      <td>0.364953</td>\n",
       "      <td>-0.940919</td>\n",
       "      <td>0.714286</td>\n",
       "      <td>0</td>\n",
       "    </tr>\n",
       "    <tr>\n",
       "      <th>1</th>\n",
       "      <td>1524</td>\n",
       "      <td>-0.326435</td>\n",
       "      <td>2020.0</td>\n",
       "      <td>1219</td>\n",
       "      <td>9</td>\n",
       "      <td>0.109371</td>\n",
       "      <td>4</td>\n",
       "      <td>5236</td>\n",
       "      <td>-0.488825</td>\n",
       "      <td>-0.413237</td>\n",
       "      <td>...</td>\n",
       "      <td>-0.123416</td>\n",
       "      <td>0</td>\n",
       "      <td>801.0</td>\n",
       "      <td>0.230068</td>\n",
       "      <td>0.091230</td>\n",
       "      <td>0.396535</td>\n",
       "      <td>0.225444</td>\n",
       "      <td>0.379885</td>\n",
       "      <td>0.307692</td>\n",
       "      <td>1</td>\n",
       "    </tr>\n",
       "    <tr>\n",
       "      <th>2</th>\n",
       "      <td>155</td>\n",
       "      <td>-1.002092</td>\n",
       "      <td>942.0</td>\n",
       "      <td>787</td>\n",
       "      <td>7</td>\n",
       "      <td>-3.063211</td>\n",
       "      <td>1</td>\n",
       "      <td>3079</td>\n",
       "      <td>1.746018</td>\n",
       "      <td>0.018716</td>\n",
       "      <td>...</td>\n",
       "      <td>0.125734</td>\n",
       "      <td>0</td>\n",
       "      <td>155.0</td>\n",
       "      <td>0.225575</td>\n",
       "      <td>0.037117</td>\n",
       "      <td>0.164544</td>\n",
       "      <td>0.047928</td>\n",
       "      <td>-0.720785</td>\n",
       "      <td>0.125000</td>\n",
       "      <td>1</td>\n",
       "    </tr>\n",
       "    <tr>\n",
       "      <th>3</th>\n",
       "      <td>1073</td>\n",
       "      <td>-0.168675</td>\n",
       "      <td>3440.0</td>\n",
       "      <td>2623</td>\n",
       "      <td>12</td>\n",
       "      <td>0.205509</td>\n",
       "      <td>2</td>\n",
       "      <td>5342</td>\n",
       "      <td>-0.607490</td>\n",
       "      <td>-0.912739</td>\n",
       "      <td>...</td>\n",
       "      <td>-1.036970</td>\n",
       "      <td>0</td>\n",
       "      <td>817.0</td>\n",
       "      <td>0.349061</td>\n",
       "      <td>0.082902</td>\n",
       "      <td>0.237500</td>\n",
       "      <td>0.167264</td>\n",
       "      <td>0.600019</td>\n",
       "      <td>0.142857</td>\n",
       "      <td>1</td>\n",
       "    </tr>\n",
       "    <tr>\n",
       "      <th>4</th>\n",
       "      <td>1317</td>\n",
       "      <td>-0.486691</td>\n",
       "      <td>3835.0</td>\n",
       "      <td>3149</td>\n",
       "      <td>8</td>\n",
       "      <td>-1.140434</td>\n",
       "      <td>4</td>\n",
       "      <td>2536</td>\n",
       "      <td>-0.469048</td>\n",
       "      <td>0.370678</td>\n",
       "      <td>...</td>\n",
       "      <td>0.291835</td>\n",
       "      <td>0</td>\n",
       "      <td>686.0</td>\n",
       "      <td>0.498829</td>\n",
       "      <td>0.089230</td>\n",
       "      <td>0.178879</td>\n",
       "      <td>0.341812</td>\n",
       "      <td>0.159751</td>\n",
       "      <td>0.333333</td>\n",
       "      <td>0</td>\n",
       "    </tr>\n",
       "    <tr>\n",
       "      <th>...</th>\n",
       "      <td>...</td>\n",
       "      <td>...</td>\n",
       "      <td>...</td>\n",
       "      <td>...</td>\n",
       "      <td>...</td>\n",
       "      <td>...</td>\n",
       "      <td>...</td>\n",
       "      <td>...</td>\n",
       "      <td>...</td>\n",
       "      <td>...</td>\n",
       "      <td>...</td>\n",
       "      <td>...</td>\n",
       "      <td>...</td>\n",
       "      <td>...</td>\n",
       "      <td>...</td>\n",
       "      <td>...</td>\n",
       "      <td>...</td>\n",
       "      <td>...</td>\n",
       "      <td>...</td>\n",
       "      <td>...</td>\n",
       "      <td>...</td>\n",
       "    </tr>\n",
       "    <tr>\n",
       "      <th>1034</th>\n",
       "      <td>303</td>\n",
       "      <td>-1.263021</td>\n",
       "      <td>1334.0</td>\n",
       "      <td>1166</td>\n",
       "      <td>5</td>\n",
       "      <td>-2.582517</td>\n",
       "      <td>2</td>\n",
       "      <td>761</td>\n",
       "      <td>0.414341</td>\n",
       "      <td>0.108306</td>\n",
       "      <td>...</td>\n",
       "      <td>-0.953919</td>\n",
       "      <td>0</td>\n",
       "      <td>168.0</td>\n",
       "      <td>0.556297</td>\n",
       "      <td>0.070058</td>\n",
       "      <td>0.125937</td>\n",
       "      <td>0.284774</td>\n",
       "      <td>-0.940919</td>\n",
       "      <td>0.285714</td>\n",
       "      <td>1</td>\n",
       "    </tr>\n",
       "    <tr>\n",
       "      <th>1035</th>\n",
       "      <td>632</td>\n",
       "      <td>-0.381615</td>\n",
       "      <td>1952.0</td>\n",
       "      <td>187</td>\n",
       "      <td>6</td>\n",
       "      <td>-0.755879</td>\n",
       "      <td>2</td>\n",
       "      <td>5820</td>\n",
       "      <td>0.401156</td>\n",
       "      <td>-0.663877</td>\n",
       "      <td>...</td>\n",
       "      <td>-0.123416</td>\n",
       "      <td>1</td>\n",
       "      <td>1765.0</td>\n",
       "      <td>0.232270</td>\n",
       "      <td>0.210019</td>\n",
       "      <td>0.904201</td>\n",
       "      <td>0.097954</td>\n",
       "      <td>-0.720785</td>\n",
       "      <td>0.250000</td>\n",
       "      <td>0</td>\n",
       "    </tr>\n",
       "    <tr>\n",
       "      <th>1036</th>\n",
       "      <td>1326</td>\n",
       "      <td>-1.211363</td>\n",
       "      <td>877.0</td>\n",
       "      <td>356</td>\n",
       "      <td>2</td>\n",
       "      <td>0.013232</td>\n",
       "      <td>3</td>\n",
       "      <td>547</td>\n",
       "      <td>-0.383346</td>\n",
       "      <td>-1.901076</td>\n",
       "      <td>...</td>\n",
       "      <td>-0.870869</td>\n",
       "      <td>0</td>\n",
       "      <td>521.0</td>\n",
       "      <td>0.318909</td>\n",
       "      <td>0.189455</td>\n",
       "      <td>0.594071</td>\n",
       "      <td>0.707955</td>\n",
       "      <td>-1.381187</td>\n",
       "      <td>0.600000</td>\n",
       "      <td>1</td>\n",
       "    </tr>\n",
       "    <tr>\n",
       "      <th>1037</th>\n",
       "      <td>462</td>\n",
       "      <td>-1.028801</td>\n",
       "      <td>775.0</td>\n",
       "      <td>52</td>\n",
       "      <td>8</td>\n",
       "      <td>-0.371324</td>\n",
       "      <td>3</td>\n",
       "      <td>2757</td>\n",
       "      <td>-0.521788</td>\n",
       "      <td>0.064425</td>\n",
       "      <td>...</td>\n",
       "      <td>-0.289517</td>\n",
       "      <td>1</td>\n",
       "      <td>723.0</td>\n",
       "      <td>0.194041</td>\n",
       "      <td>0.181022</td>\n",
       "      <td>0.932903</td>\n",
       "      <td>0.143523</td>\n",
       "      <td>-0.060383</td>\n",
       "      <td>0.272727</td>\n",
       "      <td>0</td>\n",
       "    </tr>\n",
       "    <tr>\n",
       "      <th>1038</th>\n",
       "      <td>2735</td>\n",
       "      <td>0.138188</td>\n",
       "      <td>3410.0</td>\n",
       "      <td>1536</td>\n",
       "      <td>13</td>\n",
       "      <td>0.686204</td>\n",
       "      <td>4</td>\n",
       "      <td>5801</td>\n",
       "      <td>-0.521788</td>\n",
       "      <td>0.222330</td>\n",
       "      <td>...</td>\n",
       "      <td>1.039288</td>\n",
       "      <td>0</td>\n",
       "      <td>1874.0</td>\n",
       "      <td>0.285451</td>\n",
       "      <td>0.156873</td>\n",
       "      <td>0.549560</td>\n",
       "      <td>0.320408</td>\n",
       "      <td>1.260421</td>\n",
       "      <td>0.235294</td>\n",
       "      <td>0</td>\n",
       "    </tr>\n",
       "  </tbody>\n",
       "</table>\n",
       "<p>1039 rows × 22 columns</p>\n",
       "</div>"
      ],
      "text/plain": [
       "      Number words female  Total words  Number of words lead  \\\n",
       "0                    1512    -0.676591                2251.0   \n",
       "1                    1524    -0.326435                2020.0   \n",
       "2                     155    -1.002092                 942.0   \n",
       "3                    1073    -0.168675                3440.0   \n",
       "4                    1317    -0.486691                3835.0   \n",
       "...                   ...          ...                   ...   \n",
       "1034                  303    -1.263021                1334.0   \n",
       "1035                  632    -0.381615                1952.0   \n",
       "1036                 1326    -1.211363                 877.0   \n",
       "1037                  462    -1.028801                 775.0   \n",
       "1038                 2735     0.138188                3410.0   \n",
       "\n",
       "      Difference in words lead and co-lead  Number of male actors      Year  \\\n",
       "0                                      343                      2 -0.467462   \n",
       "1                                     1219                      9  0.109371   \n",
       "2                                      787                      7 -3.063211   \n",
       "3                                     2623                     12  0.205509   \n",
       "4                                     3149                      8 -1.140434   \n",
       "...                                    ...                    ...       ...   \n",
       "1034                                  1166                      5 -2.582517   \n",
       "1035                                   187                      6 -0.755879   \n",
       "1036                                   356                      2  0.013232   \n",
       "1037                                    52                      8 -0.371324   \n",
       "1038                                  1536                     13  0.686204   \n",
       "\n",
       "      Number of female actors  Number words male     Gross  Mean Age Male  \\\n",
       "0                           5               2631  0.203383       1.170591   \n",
       "1                           4               5236 -0.488825      -0.413237   \n",
       "2                           1               3079  1.746018       0.018716   \n",
       "3                           2               5342 -0.607490      -0.912739   \n",
       "4                           4               2536 -0.469048       0.370678   \n",
       "...                       ...                ...       ...            ...   \n",
       "1034                        2                761  0.414341       0.108306   \n",
       "1035                        2               5820  0.401156      -0.663877   \n",
       "1036                        3                547 -0.383346      -1.901076   \n",
       "1037                        3               2757 -0.521788       0.064425   \n",
       "1038                        4               5801 -0.521788       0.222330   \n",
       "\n",
       "      ...  Age Co-Lead  Lead  Number of words co-lead  \\\n",
       "0     ...     2.451143     1                   1908.0   \n",
       "1     ...    -0.123416     0                    801.0   \n",
       "2     ...     0.125734     0                    155.0   \n",
       "3     ...    -1.036970     0                    817.0   \n",
       "4     ...     0.291835     0                    686.0   \n",
       "...   ...          ...   ...                      ...   \n",
       "1034  ...    -0.953919     0                    168.0   \n",
       "1035  ...    -0.123416     1                   1765.0   \n",
       "1036  ...    -0.870869     0                    521.0   \n",
       "1037  ...    -0.289517     1                    723.0   \n",
       "1038  ...     1.039288     0                   1874.0   \n",
       "\n",
       "      Proportion of words lead  Proportion of words co-lead  \\\n",
       "0                     0.352049                     0.298405   \n",
       "1                     0.230068                     0.091230   \n",
       "2                     0.225575                     0.037117   \n",
       "3                     0.349061                     0.082902   \n",
       "4                     0.498829                     0.089230   \n",
       "...                        ...                          ...   \n",
       "1034                  0.556297                     0.070058   \n",
       "1035                  0.232270                     0.210019   \n",
       "1036                  0.318909                     0.189455   \n",
       "1037                  0.194041                     0.181022   \n",
       "1038                  0.285451                     0.156873   \n",
       "\n",
       "      Ratio words co-lead lead  Proportion of words female  Number of actors  \\\n",
       "0                     0.847623                    0.364953         -0.940919   \n",
       "1                     0.396535                    0.225444          0.379885   \n",
       "2                     0.164544                    0.047928         -0.720785   \n",
       "3                     0.237500                    0.167264          0.600019   \n",
       "4                     0.178879                    0.341812          0.159751   \n",
       "...                        ...                         ...               ...   \n",
       "1034                  0.125937                    0.284774         -0.940919   \n",
       "1035                  0.904201                    0.097954         -0.720785   \n",
       "1036                  0.594071                    0.707955         -1.381187   \n",
       "1037                  0.932903                    0.143523         -0.060383   \n",
       "1038                  0.549560                    0.320408          1.260421   \n",
       "\n",
       "      Proportion of female actors  Older lead  \n",
       "0                        0.714286           0  \n",
       "1                        0.307692           1  \n",
       "2                        0.125000           1  \n",
       "3                        0.142857           1  \n",
       "4                        0.333333           0  \n",
       "...                           ...         ...  \n",
       "1034                     0.285714           1  \n",
       "1035                     0.250000           0  \n",
       "1036                     0.600000           1  \n",
       "1037                     0.272727           0  \n",
       "1038                     0.235294           0  \n",
       "\n",
       "[1039 rows x 22 columns]"
      ]
     },
     "execution_count": 42,
     "metadata": {},
     "output_type": "execute_result"
    }
   ],
   "source": [
    "data"
   ]
  },
  {
   "cell_type": "markdown",
   "id": "institutional-administrator",
   "metadata": {},
   "source": [
    "Combining all pre-processing into a function"
   ]
  },
  {
   "cell_type": "code",
   "execution_count": 43,
   "id": "hairy-arkansas",
   "metadata": {},
   "outputs": [],
   "source": [
    "def pre_process(raw_data, cols_to_norm):\n",
    "    data = raw_data.copy()\n",
    "    \n",
    "    data['Lead'] = pd.get_dummies(data['Lead'])\n",
    "    data['Number of words co-lead'] = data['Number of words lead'] - data['Difference in words lead and co-lead']\n",
    "    data['Proportion of words lead'] = data['Number of words lead']/data['Total words']\n",
    "    data['Proportion of words co-lead'] = data['Number of words co-lead']/data['Total words']\n",
    "    data['Ratio words co-lead lead'] = data['Number of words co-lead']/data['Number of words lead']\n",
    "    data['Proportion of words female'] = data['Number words female']/(data['Total words'] - data['Number of words lead'])\n",
    "    data['Number of actors'] = data['Number of male actors'] + data['Number of female actors']\n",
    "    data['Proportion of female actors'] = data['Number of female actors']/data['Number of actors']\n",
    "    data['Older lead'] = data['Age Lead'] < data['Age Co-Lead']\n",
    "    data['Older lead'] = pd.get_dummies(data['Older lead'])\n",
    "    \n",
    "    scaler = skl_pre.StandardScaler()\n",
    "    data[cols_to_norm] = scaler.fit_transform(data[cols_to_norm])\n",
    "    \n",
    "    return data"
   ]
  },
  {
   "cell_type": "markdown",
   "id": "outdoor-milan",
   "metadata": {},
   "source": [
    "# Logistic Regression"
   ]
  },
  {
   "cell_type": "code",
   "execution_count": 44,
   "id": "specific-selection",
   "metadata": {},
   "outputs": [],
   "source": [
    "data = pre_process(rawData, cols_to_norm)"
   ]
  },
  {
   "cell_type": "code",
   "execution_count": 46,
   "id": "flying-american",
   "metadata": {},
   "outputs": [
    {
     "data": {
      "text/html": [
       "<div>\n",
       "<style scoped>\n",
       "    .dataframe tbody tr th:only-of-type {\n",
       "        vertical-align: middle;\n",
       "    }\n",
       "\n",
       "    .dataframe tbody tr th {\n",
       "        vertical-align: top;\n",
       "    }\n",
       "\n",
       "    .dataframe thead th {\n",
       "        text-align: right;\n",
       "    }\n",
       "</style>\n",
       "<table border=\"1\" class=\"dataframe\">\n",
       "  <thead>\n",
       "    <tr style=\"text-align: right;\">\n",
       "      <th></th>\n",
       "      <th>Year</th>\n",
       "      <th>Gross</th>\n",
       "    </tr>\n",
       "  </thead>\n",
       "  <tbody>\n",
       "    <tr>\n",
       "      <th>Number words female</th>\n",
       "      <td>0.031966</td>\n",
       "      <td>-0.105242</td>\n",
       "    </tr>\n",
       "    <tr>\n",
       "      <th>Total words</th>\n",
       "      <td>0.008032</td>\n",
       "      <td>-0.058728</td>\n",
       "    </tr>\n",
       "    <tr>\n",
       "      <th>Number of words lead</th>\n",
       "      <td>0.021614</td>\n",
       "      <td>-0.105794</td>\n",
       "    </tr>\n",
       "    <tr>\n",
       "      <th>Difference in words lead and co-lead</th>\n",
       "      <td>0.022759</td>\n",
       "      <td>-0.090914</td>\n",
       "    </tr>\n",
       "    <tr>\n",
       "      <th>Number of male actors</th>\n",
       "      <td>-0.052898</td>\n",
       "      <td>0.104351</td>\n",
       "    </tr>\n",
       "    <tr>\n",
       "      <th>Year</th>\n",
       "      <td>1.000000</td>\n",
       "      <td>-0.285317</td>\n",
       "    </tr>\n",
       "    <tr>\n",
       "      <th>Number of female actors</th>\n",
       "      <td>0.133975</td>\n",
       "      <td>-0.123554</td>\n",
       "    </tr>\n",
       "    <tr>\n",
       "      <th>Number words male</th>\n",
       "      <td>-0.023008</td>\n",
       "      <td>0.041563</td>\n",
       "    </tr>\n",
       "    <tr>\n",
       "      <th>Gross</th>\n",
       "      <td>-0.285317</td>\n",
       "      <td>1.000000</td>\n",
       "    </tr>\n",
       "    <tr>\n",
       "      <th>Mean Age Male</th>\n",
       "      <td>0.049926</td>\n",
       "      <td>0.048165</td>\n",
       "    </tr>\n",
       "    <tr>\n",
       "      <th>Mean Age Female</th>\n",
       "      <td>0.169557</td>\n",
       "      <td>-0.056540</td>\n",
       "    </tr>\n",
       "    <tr>\n",
       "      <th>Age Lead</th>\n",
       "      <td>0.074238</td>\n",
       "      <td>-0.013443</td>\n",
       "    </tr>\n",
       "    <tr>\n",
       "      <th>Age Co-Lead</th>\n",
       "      <td>0.146904</td>\n",
       "      <td>-0.073116</td>\n",
       "    </tr>\n",
       "    <tr>\n",
       "      <th>Lead</th>\n",
       "      <td>0.068672</td>\n",
       "      <td>-0.046519</td>\n",
       "    </tr>\n",
       "    <tr>\n",
       "      <th>Number of words co-lead</th>\n",
       "      <td>0.005522</td>\n",
       "      <td>-0.064368</td>\n",
       "    </tr>\n",
       "    <tr>\n",
       "      <th>Proportion of words lead</th>\n",
       "      <td>0.054083</td>\n",
       "      <td>-0.122503</td>\n",
       "    </tr>\n",
       "    <tr>\n",
       "      <th>Proportion of words co-lead</th>\n",
       "      <td>0.015660</td>\n",
       "      <td>-0.044897</td>\n",
       "    </tr>\n",
       "    <tr>\n",
       "      <th>Ratio words co-lead lead</th>\n",
       "      <td>-0.000543</td>\n",
       "      <td>0.002065</td>\n",
       "    </tr>\n",
       "    <tr>\n",
       "      <th>Proportion of words female</th>\n",
       "      <td>0.080606</td>\n",
       "      <td>-0.147566</td>\n",
       "    </tr>\n",
       "    <tr>\n",
       "      <th>Number of actors</th>\n",
       "      <td>0.016157</td>\n",
       "      <td>0.032801</td>\n",
       "    </tr>\n",
       "    <tr>\n",
       "      <th>Proportion of female actors</th>\n",
       "      <td>0.152456</td>\n",
       "      <td>-0.161308</td>\n",
       "    </tr>\n",
       "    <tr>\n",
       "      <th>Older lead</th>\n",
       "      <td>-0.105458</td>\n",
       "      <td>0.069210</td>\n",
       "    </tr>\n",
       "  </tbody>\n",
       "</table>\n",
       "</div>"
      ],
      "text/plain": [
       "                                          Year     Gross\n",
       "Number words female                   0.031966 -0.105242\n",
       "Total words                           0.008032 -0.058728\n",
       "Number of words lead                  0.021614 -0.105794\n",
       "Difference in words lead and co-lead  0.022759 -0.090914\n",
       "Number of male actors                -0.052898  0.104351\n",
       "Year                                  1.000000 -0.285317\n",
       "Number of female actors               0.133975 -0.123554\n",
       "Number words male                    -0.023008  0.041563\n",
       "Gross                                -0.285317  1.000000\n",
       "Mean Age Male                         0.049926  0.048165\n",
       "Mean Age Female                       0.169557 -0.056540\n",
       "Age Lead                              0.074238 -0.013443\n",
       "Age Co-Lead                           0.146904 -0.073116\n",
       "Lead                                  0.068672 -0.046519\n",
       "Number of words co-lead               0.005522 -0.064368\n",
       "Proportion of words lead              0.054083 -0.122503\n",
       "Proportion of words co-lead           0.015660 -0.044897\n",
       "Ratio words co-lead lead             -0.000543  0.002065\n",
       "Proportion of words female            0.080606 -0.147566\n",
       "Number of actors                      0.016157  0.032801\n",
       "Proportion of female actors           0.152456 -0.161308\n",
       "Older lead                           -0.105458  0.069210"
      ]
     },
     "execution_count": 46,
     "metadata": {},
     "output_type": "execute_result"
    }
   ],
   "source": [
    "data.corr()[['Year','Gross']]"
   ]
  },
  {
   "cell_type": "code",
   "execution_count": 47,
   "id": "micro-turkey",
   "metadata": {},
   "outputs": [],
   "source": [
    "config = pd.read_csv('config.csv')\n",
    "trainRatio = config['Train Ratio'][0]\n",
    "seed = config['Random Seed'][0]\n",
    "train, test = skl_ms.train_test_split(data, train_size=trainRatio) #, random_state=seed)"
   ]
  },
  {
   "cell_type": "code",
   "execution_count": 48,
   "id": "hidden-keeping",
   "metadata": {},
   "outputs": [],
   "source": [
    "rawFeatures = [\n",
    "    'Number words female',\n",
    "    'Total words',\n",
    "    'Number of words lead',\n",
    "    'Difference in words lead and co-lead',\n",
    "    'Number of male actors',\n",
    "    'Year',\n",
    "    'Number of female actors',\n",
    "    'Number words male',\n",
    "    'Gross',\n",
    "    'Mean Age Male',\n",
    "    'Mean Age Female',\n",
    "    'Age Lead',\n",
    "    'Age Co-Lead'\n",
    "]\n",
    "\n",
    "featureSet1 = [\n",
    "    'Year',\n",
    "    'Gross',\n",
    "    'Number of actors',\n",
    "    'Proportion of female actors',\n",
    "    'Mean Age Male',\n",
    "    'Mean Age Female',\n",
    "    'Age Lead',\n",
    "    'Age Co-Lead',\n",
    "    'Total words',\n",
    "    'Proportion of words lead',\n",
    "    'Proportion of words co-lead',\n",
    "    'Ratio words co-lead lead',\n",
    "    'Proportion of words female',\n",
    "    'Older lead'\n",
    "]"
   ]
  },
  {
   "cell_type": "code",
   "execution_count": 49,
   "id": "associate-karaoke",
   "metadata": {},
   "outputs": [
    {
     "data": {
      "text/plain": [
       "{'Older lead',\n",
       " 'Proportion of female actors',\n",
       " 'Proportion of words co-lead',\n",
       " 'Proportion of words female',\n",
       " 'Proportion of words lead',\n",
       " 'Ratio words co-lead lead'}"
      ]
     },
     "execution_count": 49,
     "metadata": {},
     "output_type": "execute_result"
    }
   ],
   "source": [
    "set(featureSet1) - set(cols_to_norm)"
   ]
  },
  {
   "cell_type": "code",
   "execution_count": 50,
   "id": "combined-romance",
   "metadata": {},
   "outputs": [],
   "source": [
    "features = featureSet1.copy()\n",
    "#features.remove('Proportion of words female')\n",
    "#features.remove('Year')\n",
    "#features.remove('Gross')\n",
    "#features = ['Proportion of words lead']\n",
    "target = 'Lead'"
   ]
  },
  {
   "cell_type": "code",
   "execution_count": 51,
   "id": "lovely-virus",
   "metadata": {},
   "outputs": [],
   "source": [
    "def fit_and_test(classifier, train, test, features, target, suppress_output = False):\n",
    "    classifier.fit(train[features], train[target])\n",
    "    if not suppress_output:\n",
    "        skl_met.plot_roc_curve(classifier, test[features], test[target])\n",
    "        print('accuracy: ' + str(classifier.score(test[features], test[target])))\n",
    "        print('     auc: ' + str(skl_met.roc_auc_score(test[target], classifier.predict_proba(test[features])[:,1])) + '\\n')\n",
    "        print(skl_met.classification_report(test[target], classifier.predict(test[features])))\n",
    "    return classifier"
   ]
  },
  {
   "cell_type": "code",
   "execution_count": 52,
   "id": "pacific-basement",
   "metadata": {},
   "outputs": [
    {
     "name": "stdout",
     "output_type": "stream",
     "text": [
      "Null accuracy: 0.7555341674687199\n"
     ]
    }
   ],
   "source": [
    "print('Null accuracy: ' + str(max([np.mean(data[target]), 1 - np.mean(data[target])])))"
   ]
  },
  {
   "cell_type": "markdown",
   "id": "amino-marina",
   "metadata": {},
   "source": [
    "## No regularization"
   ]
  },
  {
   "cell_type": "code",
   "execution_count": 53,
   "id": "ready-expansion",
   "metadata": {},
   "outputs": [
    {
     "name": "stdout",
     "output_type": "stream",
     "text": [
      "CPU times: user 8.33 s, sys: 22.9 s, total: 31.3 s\n",
      "Wall time: 2.81 s\n"
     ]
    }
   ],
   "source": [
    "%%time\n",
    "B = 100\n",
    "accuracies = []\n",
    "aucs = []\n",
    "for i in range(B):\n",
    "    train, test = skl_ms.train_test_split(data, train_size=trainRatio)\n",
    "    logReg = fit_and_test(skl_lm.LogisticRegression(penalty='none', solver='newton-cg'), train, test, features, target, suppress_output=True)\n",
    "    accuracies.append(logReg.score(test[features], test[target]))\n",
    "    aucs.append(skl_met.roc_auc_score(test[target], logReg.predict_proba(test[features])[:,1]))"
   ]
  },
  {
   "cell_type": "code",
   "execution_count": 54,
   "id": "pressing-density",
   "metadata": {},
   "outputs": [
    {
     "name": "stdout",
     "output_type": "stream",
     "text": [
      "mean accuracy: 0.8972115384615384\n",
      "     mean auc: 0.9238786312893039\n"
     ]
    }
   ],
   "source": [
    "print('mean accuracy: ' + str(np.mean(accuracies)))\n",
    "print('     mean auc: ' + str(np.mean(aucs)))"
   ]
  },
  {
   "cell_type": "code",
   "execution_count": 55,
   "id": "graphic-norman",
   "metadata": {},
   "outputs": [
    {
     "data": {
      "image/png": "[encoded data removed]",
      "text/plain": [
       "<Figure size 432x288 with 1 Axes>"
      ]
     },
     "metadata": {
      "needs_background": "light"
     },
     "output_type": "display_data"
    }
   ],
   "source": [
    "plt.hist(accuracies)\n",
    "plt.title(f'no regularization accuracy, B = {B}')\n",
    "plt.show()"
   ]
  },
  {
   "cell_type": "markdown",
   "id": "responsible-mobility",
   "metadata": {},
   "source": [
    "## Lasso\n",
    "\n",
    "Lasso is L1 regularization"
   ]
  },
  {
   "cell_type": "markdown",
   "id": "headed-classics",
   "metadata": {},
   "source": [
    "We do 20 folds, use `liblinear` solver that is better for smaller datasets and 10 threads in the cross-validation step.\n",
    "\n",
    "The method will try 10 values of lambda between `1e-4` and `1e4` to determine the best regularization parameter."
   ]
  },
  {
   "cell_type": "code",
   "execution_count": 214,
   "id": "distinct-boring",
   "metadata": {},
   "outputs": [
    {
     "name": "stdout",
     "output_type": "stream",
     "text": [
      "accuracy: 0.9038461538461539\n",
      "     auc: 0.9235033259423504\n",
      "\n",
      "              precision    recall  f1-score   support\n",
      "\n",
      "           0       0.92      0.96      0.94        82\n",
      "           1       0.83      0.68      0.75        22\n",
      "\n",
      "    accuracy                           0.90       104\n",
      "   macro avg       0.88      0.82      0.85       104\n",
      "weighted avg       0.90      0.90      0.90       104\n",
      "\n"
     ]
    },
    {
     "data": {
      "image/png": "[encoded data removed]",
      "text/plain": [
       "<Figure size 432x288 with 1 Axes>"
      ]
     },
     "metadata": {
      "needs_background": "light"
     },
     "output_type": "display_data"
    }
   ],
   "source": [
    "logRegLasso = fit_and_test(skl_lm.LogisticRegressionCV(Cs=10, cv=50, penalty='l1', solver='liblinear', n_jobs=10), train, test, features, target)"
   ]
  },
  {
   "cell_type": "markdown",
   "id": "monetary-diesel",
   "metadata": {},
   "source": [
    "We want to know how the algorithm performs over different splits of training and testing data"
   ]
  },
  {
   "cell_type": "code",
   "execution_count": 215,
   "id": "above-princeton",
   "metadata": {},
   "outputs": [
    {
     "name": "stdout",
     "output_type": "stream",
     "text": [
      "CPU times: user 4.31 s, sys: 46.4 ms, total: 4.36 s\n",
      "Wall time: 23.2 s\n"
     ]
    }
   ],
   "source": [
    "%%time\n",
    "B = 100\n",
    "accuracies = []\n",
    "aucs = []\n",
    "for i in range(B):\n",
    "    train, test = skl_ms.train_test_split(data, train_size=trainRatio)\n",
    "    logRegLasso = fit_and_test(skl_lm.LogisticRegressionCV(Cs=10, cv=10, penalty='l1', solver='liblinear', n_jobs=10), train, test, features, target, suppress_output=True)\n",
    "    accuracies.append(logRegLasso.score(test[features], test[target]))\n",
    "    aucs.append(skl_met.roc_auc_score(test[target], logRegLasso.predict_proba(test[features])[:,1]))"
   ]
  },
  {
   "cell_type": "code",
   "execution_count": 216,
   "id": "olympic-guide",
   "metadata": {},
   "outputs": [
    {
     "name": "stdout",
     "output_type": "stream",
     "text": [
      "mean accuracy: 0.8972115384615386\n",
      "     mean auc: 0.9244666002902575\n"
     ]
    }
   ],
   "source": [
    "print('mean accuracy: ' + str(np.mean(accuracies)))\n",
    "print('     mean auc: ' + str(np.mean(aucs)))"
   ]
  },
  {
   "cell_type": "code",
   "execution_count": 217,
   "id": "coupled-difference",
   "metadata": {},
   "outputs": [
    {
     "data": {
      "image/png": "[encoded data removed]",
      "text/plain": [
       "<Figure size 432x288 with 1 Axes>"
      ]
     },
     "metadata": {
      "needs_background": "light"
     },
     "output_type": "display_data"
    }
   ],
   "source": [
    "plt.hist(accuracies)\n",
    "plt.title(f'LASSO accuracy, B = {B}')\n",
    "plt.show()"
   ]
  },
  {
   "cell_type": "markdown",
   "id": "incredible-juice",
   "metadata": {},
   "source": [
    "## Ridge\n",
    "\n",
    "Ridge is L2-regularization\n",
    "\n",
    "We do 10 folds, use `liblinear` solver that is better for smaller datasets and 10 threads in the cross-validation step.\n",
    "\n",
    "The method will try 100 values of lambda between `1e-4` and `1e4` to determine the best regularization parameter."
   ]
  },
  {
   "cell_type": "code",
   "execution_count": 218,
   "id": "armed-fabric",
   "metadata": {},
   "outputs": [
    {
     "name": "stdout",
     "output_type": "stream",
     "text": [
      "accuracy: 0.9038461538461539\n",
      "     auc: 0.9098734177215191\n",
      "\n",
      "              precision    recall  f1-score   support\n",
      "\n",
      "           0       0.93      0.95      0.94        79\n",
      "           1       0.83      0.76      0.79        25\n",
      "\n",
      "    accuracy                           0.90       104\n",
      "   macro avg       0.88      0.85      0.86       104\n",
      "weighted avg       0.90      0.90      0.90       104\n",
      "\n"
     ]
    },
    {
     "data": {
      "image/png": "[encoded data removed]",
      "text/plain": [
       "<Figure size 432x288 with 1 Axes>"
      ]
     },
     "metadata": {
      "needs_background": "light"
     },
     "output_type": "display_data"
    }
   ],
   "source": [
    "logRegRidge = fit_and_test(skl_lm.LogisticRegressionCV(Cs=10, cv=20, penalty='l2', solver='liblinear', n_jobs=10), train, test, features, target)"
   ]
  },
  {
   "cell_type": "code",
   "execution_count": 219,
   "id": "complicated-parker",
   "metadata": {},
   "outputs": [
    {
     "name": "stdout",
     "output_type": "stream",
     "text": [
      "CPU times: user 5.96 s, sys: 233 ms, total: 6.19 s\n",
      "Wall time: 20 s\n"
     ]
    }
   ],
   "source": [
    "%%time\n",
    "B = 400\n",
    "accuracies = []\n",
    "aucs = []\n",
    "for i in range(B):\n",
    "    train, test = skl_ms.train_test_split(data, train_size=trainRatio)\n",
    "    logRegLasso = fit_and_test(skl_lm.LogisticRegressionCV(Cs=10, cv=10, penalty='l2', solver='liblinear', n_jobs=10), train, test, features, target, suppress_output=True)\n",
    "    accuracies.append(logRegLasso.score(test[features], test[target]))\n",
    "    aucs.append(skl_met.roc_auc_score(test[target], logRegLasso.predict_proba(test[features])[:,1]))"
   ]
  },
  {
   "cell_type": "code",
   "execution_count": 220,
   "id": "hybrid-viewer",
   "metadata": {},
   "outputs": [
    {
     "name": "stdout",
     "output_type": "stream",
     "text": [
      "mean accuracy: 0.8977884615384616\n",
      "     mean auc: 0.9231520433528324\n"
     ]
    }
   ],
   "source": [
    "print(\"mean accuracy: \" + str(np.mean(accuracies)))\n",
    "print('     mean auc: ' + str(np.mean(aucs)))"
   ]
  },
  {
   "cell_type": "code",
   "execution_count": 221,
   "id": "precious-bermuda",
   "metadata": {},
   "outputs": [
    {
     "data": {
      "image/png": "[encoded data removed]",
      "text/plain": [
       "<Figure size 432x288 with 1 Axes>"
      ]
     },
     "metadata": {
      "needs_background": "light"
     },
     "output_type": "display_data"
    }
   ],
   "source": [
    "plt.hist(accuracies)\n",
    "plt.title(f'Ridge accuracy, B = {B}')\n",
    "plt.show()"
   ]
  },
  {
   "cell_type": "markdown",
   "id": "infectious-retailer",
   "metadata": {},
   "source": [
    "## Comparison"
   ]
  },
  {
   "cell_type": "code",
   "execution_count": 222,
   "id": "perfect-holder",
   "metadata": {},
   "outputs": [
    {
     "data": {
      "text/plain": [
       "array([10000.])"
      ]
     },
     "execution_count": 222,
     "metadata": {},
     "output_type": "execute_result"
    }
   ],
   "source": [
    "logRegLasso.C_"
   ]
  },
  {
   "cell_type": "code",
   "execution_count": 223,
   "id": "abandoned-candy",
   "metadata": {},
   "outputs": [
    {
     "data": {
      "text/plain": [
       "array([21.5443469])"
      ]
     },
     "execution_count": 223,
     "metadata": {},
     "output_type": "execute_result"
    }
   ],
   "source": [
    "logRegRidge.C_"
   ]
  },
  {
   "cell_type": "code",
   "execution_count": 224,
   "id": "floating-morrison",
   "metadata": {},
   "outputs": [],
   "source": [
    "predLasso = logRegLasso.predict(test[features])\n",
    "predRidge = logRegRidge.predict(test[features])"
   ]
  },
  {
   "cell_type": "code",
   "execution_count": 225,
   "id": "polish-flash",
   "metadata": {},
   "outputs": [],
   "source": [
    "logRegLassoCoefs = dict(zip(features, logRegLasso.coef_[0]))"
   ]
  },
  {
   "cell_type": "markdown",
   "id": "unauthorized-genealogy",
   "metadata": {},
   "source": [
    "There is a reason that `Proportion of words female` is an indicator that the lead is male. If the `Lead` is male, `Number words female` includes the number of words spoken by the co-lead and hence `Number words female` is the total number of words spoken by **all** female actors while `Number words male` is the number of words spoken by the **non-lead** male actors. Hence, "
   ]
  },
  {
   "cell_type": "code",
   "execution_count": 226,
   "id": "collect-judge",
   "metadata": {},
   "outputs": [
    {
     "name": "stdout",
     "output_type": "stream",
     "text": [
      "Year                                     -0.07222\n",
      "Gross                                    -0.02181\n",
      "Number of actors                         0.56105\n",
      "Proportion of female actors              18.62474\n",
      "Mean Age Male                            0.19473\n",
      "Mean Age Female                          0.05373\n",
      "Age Lead                                 -0.30258\n",
      "Age Co-Lead                              0.21755\n",
      "Total words                              -0.58851\n",
      "Proportion of words lead                 2.64110\n",
      "Proportion of words co-lead              3.81626\n",
      "Ratio words co-lead lead                 3.30966\n",
      "Proportion of words female               -11.55700\n",
      "Older lead                               -1.21839\n"
     ]
    }
   ],
   "source": [
    "for var, coef in logRegLassoCoefs.items():\n",
    "    print(f'{var:40} {coef:.5f}')"
   ]
  },
  {
   "cell_type": "code",
   "execution_count": 227,
   "id": "wrong-reflection",
   "metadata": {},
   "outputs": [],
   "source": [
    "logRegRidgeCoefs = dict(zip(features, logRegRidge.coef_[0]))"
   ]
  },
  {
   "cell_type": "code",
   "execution_count": 228,
   "id": "surface-humidity",
   "metadata": {},
   "outputs": [
    {
     "name": "stdout",
     "output_type": "stream",
     "text": [
      "Year                                     -0.05445\n",
      "Gross                                    -0.04454\n",
      "Number of actors                         0.41936\n",
      "Proportion of female actors              16.99463\n",
      "Mean Age Male                            0.15562\n",
      "Mean Age Female                          0.09000\n",
      "Age Lead                                 -0.32796\n",
      "Age Co-Lead                              0.19087\n",
      "Total words                              -0.48615\n",
      "Proportion of words lead                 2.14504\n",
      "Proportion of words co-lead              4.16098\n",
      "Ratio words co-lead lead                 2.88327\n",
      "Proportion of words female               -10.79023\n",
      "Older lead                               -1.23370\n"
     ]
    }
   ],
   "source": [
    "for var, coef in logRegRidgeCoefs.items():\n",
    "    print(f'{var:40} {coef:.5f}')"
   ]
  },
  {
   "cell_type": "code",
   "execution_count": 229,
   "id": "beneficial-money",
   "metadata": {},
   "outputs": [
    {
     "data": {
      "text/plain": [
       "0.9615384615384616"
      ]
     },
     "execution_count": 229,
     "metadata": {},
     "output_type": "execute_result"
    }
   ],
   "source": [
    "sum(predLasso == predRidge)/len(test)"
   ]
  },
  {
   "cell_type": "code",
   "execution_count": 230,
   "id": "handmade-johnson",
   "metadata": {},
   "outputs": [
    {
     "data": {
      "text/html": [
       "<div>\n",
       "<style scoped>\n",
       "    .dataframe tbody tr th:only-of-type {\n",
       "        vertical-align: middle;\n",
       "    }\n",
       "\n",
       "    .dataframe tbody tr th {\n",
       "        vertical-align: top;\n",
       "    }\n",
       "\n",
       "    .dataframe thead th {\n",
       "        text-align: right;\n",
       "    }\n",
       "</style>\n",
       "<table border=\"1\" class=\"dataframe\">\n",
       "  <thead>\n",
       "    <tr style=\"text-align: right;\">\n",
       "      <th>col_0</th>\n",
       "      <th>0</th>\n",
       "      <th>1</th>\n",
       "    </tr>\n",
       "    <tr>\n",
       "      <th>Lead</th>\n",
       "      <th></th>\n",
       "      <th></th>\n",
       "    </tr>\n",
       "  </thead>\n",
       "  <tbody>\n",
       "    <tr>\n",
       "      <th>0</th>\n",
       "      <td>69</td>\n",
       "      <td>4</td>\n",
       "    </tr>\n",
       "    <tr>\n",
       "      <th>1</th>\n",
       "      <td>5</td>\n",
       "      <td>26</td>\n",
       "    </tr>\n",
       "  </tbody>\n",
       "</table>\n",
       "</div>"
      ],
      "text/plain": [
       "col_0   0   1\n",
       "Lead         \n",
       "0      69   4\n",
       "1       5  26"
      ]
     },
     "execution_count": 230,
     "metadata": {},
     "output_type": "execute_result"
    }
   ],
   "source": [
    "pd.crosstab(test[target], predLasso)"
   ]
  },
  {
   "cell_type": "code",
   "execution_count": 231,
   "id": "static-consumer",
   "metadata": {},
   "outputs": [
    {
     "data": {
      "text/html": [
       "<div>\n",
       "<style scoped>\n",
       "    .dataframe tbody tr th:only-of-type {\n",
       "        vertical-align: middle;\n",
       "    }\n",
       "\n",
       "    .dataframe tbody tr th {\n",
       "        vertical-align: top;\n",
       "    }\n",
       "\n",
       "    .dataframe thead th {\n",
       "        text-align: right;\n",
       "    }\n",
       "</style>\n",
       "<table border=\"1\" class=\"dataframe\">\n",
       "  <thead>\n",
       "    <tr style=\"text-align: right;\">\n",
       "      <th>col_0</th>\n",
       "      <th>0</th>\n",
       "      <th>1</th>\n",
       "    </tr>\n",
       "    <tr>\n",
       "      <th>Lead</th>\n",
       "      <th></th>\n",
       "      <th></th>\n",
       "    </tr>\n",
       "  </thead>\n",
       "  <tbody>\n",
       "    <tr>\n",
       "      <th>0</th>\n",
       "      <td>71</td>\n",
       "      <td>2</td>\n",
       "    </tr>\n",
       "    <tr>\n",
       "      <th>1</th>\n",
       "      <td>5</td>\n",
       "      <td>26</td>\n",
       "    </tr>\n",
       "  </tbody>\n",
       "</table>\n",
       "</div>"
      ],
      "text/plain": [
       "col_0   0   1\n",
       "Lead         \n",
       "0      71   2\n",
       "1       5  26"
      ]
     },
     "execution_count": 231,
     "metadata": {},
     "output_type": "execute_result"
    }
   ],
   "source": [
    "pd.crosstab(test[target], predRidge)"
   ]
  },
  {
   "cell_type": "code",
   "execution_count": null,
   "id": "removable-individual",
   "metadata": {},
   "outputs": [],
   "source": []
  }
 ],
 "metadata": {
  "kernelspec": {
   "display_name": "Python 3",
   "language": "python",
   "name": "python3"
  },
  "language_info": {
   "codemirror_mode": {
    "name": "ipython",
    "version": 3
   },
   "file_extension": ".py",
   "mimetype": "text/x-python",
   "name": "python",
   "nbconvert_exporter": "python",
   "pygments_lexer": "ipython3",
   "version": "3.8.6"
  }
 },
 "nbformat": 4,
 "nbformat_minor": 5
}
