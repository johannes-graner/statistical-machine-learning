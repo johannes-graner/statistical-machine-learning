{
 "cells": [
  {
   "cell_type": "markdown",
   "id": "specialized-silly",
   "metadata": {},
   "source": [
    "## Imports and data ingestion\n",
    "\n",
    "`linear_model` for Logistic Regression,\n",
    "\n",
    "`model_selection` for train-test split and cross-validation,\n",
    "\n",
    "`metrics` for ROC and AIC"
   ]
  },
  {
   "cell_type": "code",
   "execution_count": 2120,
   "id": "geographic-hacker",
   "metadata": {},
   "outputs": [],
   "source": [
    "import numpy as np\n",
    "import pandas as pd\n",
    "import sklearn.linear_model as skl_lm\n",
    "import sklearn.ensemble as skl_en\n",
    "import sklearn.model_selection as skl_ms\n",
    "import sklearn.metrics as skl_met\n",
    "import sklearn.preprocessing as skl_pre"
   ]
  },
  {
   "cell_type": "code",
   "execution_count": 2121,
   "id": "tight-curtis",
   "metadata": {},
   "outputs": [],
   "source": [
    "rawData = pd.read_csv('train.csv')"
   ]
  },
  {
   "cell_type": "markdown",
   "id": "voluntary-invitation",
   "metadata": {},
   "source": [
    "## Get Dummies\n",
    "\n",
    "`Lead` is `0` if the lead is `female`."
   ]
  },
  {
   "cell_type": "code",
   "execution_count": 2122,
   "id": "fixed-destruction",
   "metadata": {},
   "outputs": [],
   "source": [
    "data = rawData.copy()\n",
    "data['Lead'] = pd.get_dummies(data['Lead'])"
   ]
  },
  {
   "cell_type": "markdown",
   "id": "valued-header",
   "metadata": {},
   "source": [
    "## Feature Engineering\n",
    "\n",
    "We first extract the number of words spoken by the co-lead."
   ]
  },
  {
   "cell_type": "code",
   "execution_count": 2123,
   "id": "agreed-winning",
   "metadata": {},
   "outputs": [],
   "source": [
    "data['Number of words co-lead'] = data['Number of words lead'] - data['Difference in words lead and co-lead']"
   ]
  },
  {
   "cell_type": "markdown",
   "id": "diverse-tattoo",
   "metadata": {},
   "source": [
    "It is probably more important to know proportion of words spoken by lead than the absolute number of words."
   ]
  },
  {
   "cell_type": "code",
   "execution_count": 2124,
   "id": "recorded-swaziland",
   "metadata": {},
   "outputs": [],
   "source": [
    "data['Proportion of words lead'] = data['Number of words lead']/data['Total words']"
   ]
  },
  {
   "cell_type": "markdown",
   "id": "compact-ordinance",
   "metadata": {},
   "source": [
    "We look at the proportion of dialogue from co-lead as well as the ratio of dialogue between co-lead and lead."
   ]
  },
  {
   "cell_type": "code",
   "execution_count": 2125,
   "id": "indirect-decimal",
   "metadata": {},
   "outputs": [],
   "source": [
    "data['Proportion of words co-lead'] = data['Number of words co-lead']/data['Total words']\n",
    "data['Ratio words co-lead lead'] = data['Number of words co-lead']/data['Number of words lead']"
   ]
  },
  {
   "cell_type": "markdown",
   "id": "sunrise-chair",
   "metadata": {},
   "source": [
    "Similarly for number of words spoken by male or female actors. However, here we normalize by `Total words - Number of words lead` since this only measures non-lead dialogue. We only need `Proportion of words female` since a hypothetical `Proportion of words male` is just `1 - Proportion of words female`."
   ]
  },
  {
   "cell_type": "code",
   "execution_count": 2126,
   "id": "instant-therapy",
   "metadata": {},
   "outputs": [],
   "source": [
    "data['Proportion of words female'] = data['Number words female']/(data['Total words'] - data['Number of words lead'])"
   ]
  },
  {
   "cell_type": "markdown",
   "id": "pursuant-barrel",
   "metadata": {},
   "source": [
    "It might be important to look at the ratio of female actors."
   ]
  },
  {
   "cell_type": "code",
   "execution_count": 2127,
   "id": "urban-overview",
   "metadata": {},
   "outputs": [],
   "source": [
    "data['Number of actors'] = data['Number of male actors'] + data['Number of female actors']"
   ]
  },
  {
   "cell_type": "code",
   "execution_count": 2128,
   "id": "competitive-fruit",
   "metadata": {},
   "outputs": [
    {
     "data": {
      "text/html": [
       "<div>\n",
       "<style scoped>\n",
       "    .dataframe tbody tr th:only-of-type {\n",
       "        vertical-align: middle;\n",
       "    }\n",
       "\n",
       "    .dataframe tbody tr th {\n",
       "        vertical-align: top;\n",
       "    }\n",
       "\n",
       "    .dataframe thead th {\n",
       "        text-align: right;\n",
       "    }\n",
       "</style>\n",
       "<table border=\"1\" class=\"dataframe\">\n",
       "  <thead>\n",
       "    <tr style=\"text-align: right;\">\n",
       "      <th></th>\n",
       "      <th>Total words</th>\n",
       "      <th>Number of words lead</th>\n",
       "      <th>Difference in words lead and co-lead</th>\n",
       "      <th>Number of words co-lead</th>\n",
       "      <th>Number words male</th>\n",
       "      <th>Number words female</th>\n",
       "    </tr>\n",
       "  </thead>\n",
       "  <tbody>\n",
       "    <tr>\n",
       "      <th>0</th>\n",
       "      <td>6394</td>\n",
       "      <td>2251.0</td>\n",
       "      <td>343</td>\n",
       "      <td>1908.0</td>\n",
       "      <td>2631</td>\n",
       "      <td>1512</td>\n",
       "    </tr>\n",
       "    <tr>\n",
       "      <th>1</th>\n",
       "      <td>8780</td>\n",
       "      <td>2020.0</td>\n",
       "      <td>1219</td>\n",
       "      <td>801.0</td>\n",
       "      <td>5236</td>\n",
       "      <td>1524</td>\n",
       "    </tr>\n",
       "    <tr>\n",
       "      <th>2</th>\n",
       "      <td>4176</td>\n",
       "      <td>942.0</td>\n",
       "      <td>787</td>\n",
       "      <td>155.0</td>\n",
       "      <td>3079</td>\n",
       "      <td>155</td>\n",
       "    </tr>\n",
       "    <tr>\n",
       "      <th>3</th>\n",
       "      <td>9855</td>\n",
       "      <td>3440.0</td>\n",
       "      <td>2623</td>\n",
       "      <td>817.0</td>\n",
       "      <td>5342</td>\n",
       "      <td>1073</td>\n",
       "    </tr>\n",
       "    <tr>\n",
       "      <th>4</th>\n",
       "      <td>7688</td>\n",
       "      <td>3835.0</td>\n",
       "      <td>3149</td>\n",
       "      <td>686.0</td>\n",
       "      <td>2536</td>\n",
       "      <td>1317</td>\n",
       "    </tr>\n",
       "    <tr>\n",
       "      <th>...</th>\n",
       "      <td>...</td>\n",
       "      <td>...</td>\n",
       "      <td>...</td>\n",
       "      <td>...</td>\n",
       "      <td>...</td>\n",
       "      <td>...</td>\n",
       "    </tr>\n",
       "    <tr>\n",
       "      <th>1034</th>\n",
       "      <td>2398</td>\n",
       "      <td>1334.0</td>\n",
       "      <td>1166</td>\n",
       "      <td>168.0</td>\n",
       "      <td>761</td>\n",
       "      <td>303</td>\n",
       "    </tr>\n",
       "    <tr>\n",
       "      <th>1035</th>\n",
       "      <td>8404</td>\n",
       "      <td>1952.0</td>\n",
       "      <td>187</td>\n",
       "      <td>1765.0</td>\n",
       "      <td>5820</td>\n",
       "      <td>632</td>\n",
       "    </tr>\n",
       "    <tr>\n",
       "      <th>1036</th>\n",
       "      <td>2750</td>\n",
       "      <td>877.0</td>\n",
       "      <td>356</td>\n",
       "      <td>521.0</td>\n",
       "      <td>547</td>\n",
       "      <td>1326</td>\n",
       "    </tr>\n",
       "    <tr>\n",
       "      <th>1037</th>\n",
       "      <td>3994</td>\n",
       "      <td>775.0</td>\n",
       "      <td>52</td>\n",
       "      <td>723.0</td>\n",
       "      <td>2757</td>\n",
       "      <td>462</td>\n",
       "    </tr>\n",
       "    <tr>\n",
       "      <th>1038</th>\n",
       "      <td>11946</td>\n",
       "      <td>3410.0</td>\n",
       "      <td>1536</td>\n",
       "      <td>1874.0</td>\n",
       "      <td>5801</td>\n",
       "      <td>2735</td>\n",
       "    </tr>\n",
       "  </tbody>\n",
       "</table>\n",
       "<p>1039 rows × 6 columns</p>\n",
       "</div>"
      ],
      "text/plain": [
       "      Total words  Number of words lead  Difference in words lead and co-lead  \\\n",
       "0            6394                2251.0                                   343   \n",
       "1            8780                2020.0                                  1219   \n",
       "2            4176                 942.0                                   787   \n",
       "3            9855                3440.0                                  2623   \n",
       "4            7688                3835.0                                  3149   \n",
       "...           ...                   ...                                   ...   \n",
       "1034         2398                1334.0                                  1166   \n",
       "1035         8404                1952.0                                   187   \n",
       "1036         2750                 877.0                                   356   \n",
       "1037         3994                 775.0                                    52   \n",
       "1038        11946                3410.0                                  1536   \n",
       "\n",
       "      Number of words co-lead  Number words male  Number words female  \n",
       "0                      1908.0               2631                 1512  \n",
       "1                       801.0               5236                 1524  \n",
       "2                       155.0               3079                  155  \n",
       "3                       817.0               5342                 1073  \n",
       "4                       686.0               2536                 1317  \n",
       "...                       ...                ...                  ...  \n",
       "1034                    168.0                761                  303  \n",
       "1035                   1765.0               5820                  632  \n",
       "1036                    521.0                547                 1326  \n",
       "1037                    723.0               2757                  462  \n",
       "1038                   1874.0               5801                 2735  \n",
       "\n",
       "[1039 rows x 6 columns]"
      ]
     },
     "execution_count": 2128,
     "metadata": {},
     "output_type": "execute_result"
    }
   ],
   "source": [
    "data[['Total words','Number of words lead','Difference in words lead and co-lead','Number of words co-lead','Number words male','Number words female']]"
   ]
  },
  {
   "cell_type": "code",
   "execution_count": 2129,
   "id": "determined-kruger",
   "metadata": {},
   "outputs": [],
   "source": [
    "data['Proportion of female actors'] = data['Number of female actors']/data['Number of actors']"
   ]
  },
  {
   "cell_type": "markdown",
   "id": "regulated-growth",
   "metadata": {},
   "source": [
    "Perhaps it is important if the lead or co-lead is oldest."
   ]
  },
  {
   "cell_type": "code",
   "execution_count": 2130,
   "id": "respected-cornell",
   "metadata": {},
   "outputs": [],
   "source": [
    "data['Older lead'] = data['Age Lead'] < data['Age Co-Lead']\n",
    "data['Older lead'] = pd.get_dummies(data['Older lead'])"
   ]
  },
  {
   "cell_type": "code",
   "execution_count": 2131,
   "id": "included-monthly",
   "metadata": {},
   "outputs": [
    {
     "name": "stdout",
     "output_type": "stream",
     "text": [
      "'Number words female',\n",
      "'Total words',\n",
      "'Number of words lead',\n",
      "'Difference in words lead and co-lead',\n",
      "'Number of male actors',\n",
      "'Year',\n",
      "'Number of female actors',\n",
      "'Number words male',\n",
      "'Gross',\n",
      "'Mean Age Male',\n",
      "'Mean Age Female',\n",
      "'Age Lead',\n",
      "'Age Co-Lead',\n",
      "'Lead',\n",
      "'Number of words co-lead',\n",
      "'Proportion of words lead',\n",
      "'Proportion of words co-lead',\n",
      "'Ratio words co-lead lead',\n",
      "'Proportion of words female',\n",
      "'Number of actors',\n",
      "'Proportion of female actors',\n",
      "'Older lead',\n"
     ]
    }
   ],
   "source": [
    "for col in data.columns:\n",
    "    print(\"'\" + col + \"',\")"
   ]
  },
  {
   "cell_type": "markdown",
   "id": "referenced-clearance",
   "metadata": {},
   "source": [
    "We center and scale all computed columns as well as some of the original columns"
   ]
  },
  {
   "cell_type": "code",
   "execution_count": 2132,
   "id": "dependent-kelly",
   "metadata": {},
   "outputs": [],
   "source": [
    "cols_to_norm = [\n",
    "    'Total words',\n",
    "    'Year',\n",
    "    'Gross',\n",
    "    'Mean Age Male',\n",
    "    'Mean Age Female',\n",
    "    'Age Lead',\n",
    "    'Age Co-Lead',\n",
    "    'Number of actors',\n",
    "    'Proportion of words lead',\n",
    "    'Proportion of words co-lead',\n",
    "    'Ratio words co-lead lead',\n",
    "    'Proportion of words female',\n",
    "    'Proportion of female actors',\n",
    "    'Older lead'\n",
    "]"
   ]
  },
  {
   "cell_type": "code",
   "execution_count": 2133,
   "id": "interpreted-ladder",
   "metadata": {},
   "outputs": [],
   "source": [
    "scaler = skl_pre.StandardScaler()\n",
    "data[cols_to_norm] = scaler.fit_transform(data[cols_to_norm])"
   ]
  },
  {
   "cell_type": "code",
   "execution_count": 2134,
   "id": "radical-constant",
   "metadata": {},
   "outputs": [
    {
     "data": {
      "text/html": [
       "<div>\n",
       "<style scoped>\n",
       "    .dataframe tbody tr th:only-of-type {\n",
       "        vertical-align: middle;\n",
       "    }\n",
       "\n",
       "    .dataframe tbody tr th {\n",
       "        vertical-align: top;\n",
       "    }\n",
       "\n",
       "    .dataframe thead th {\n",
       "        text-align: right;\n",
       "    }\n",
       "</style>\n",
       "<table border=\"1\" class=\"dataframe\">\n",
       "  <thead>\n",
       "    <tr style=\"text-align: right;\">\n",
       "      <th></th>\n",
       "      <th>Number words female</th>\n",
       "      <th>Total words</th>\n",
       "      <th>Number of words lead</th>\n",
       "      <th>Difference in words lead and co-lead</th>\n",
       "      <th>Number of male actors</th>\n",
       "      <th>Year</th>\n",
       "      <th>Number of female actors</th>\n",
       "      <th>Number words male</th>\n",
       "      <th>Gross</th>\n",
       "      <th>Mean Age Male</th>\n",
       "      <th>...</th>\n",
       "      <th>Age Co-Lead</th>\n",
       "      <th>Lead</th>\n",
       "      <th>Number of words co-lead</th>\n",
       "      <th>Proportion of words lead</th>\n",
       "      <th>Proportion of words co-lead</th>\n",
       "      <th>Ratio words co-lead lead</th>\n",
       "      <th>Proportion of words female</th>\n",
       "      <th>Number of actors</th>\n",
       "      <th>Proportion of female actors</th>\n",
       "      <th>Older lead</th>\n",
       "    </tr>\n",
       "  </thead>\n",
       "  <tbody>\n",
       "    <tr>\n",
       "      <th>0</th>\n",
       "      <td>1512</td>\n",
       "      <td>-0.676591</td>\n",
       "      <td>2251.0</td>\n",
       "      <td>343</td>\n",
       "      <td>2</td>\n",
       "      <td>-0.467462</td>\n",
       "      <td>5</td>\n",
       "      <td>2631</td>\n",
       "      <td>0.203383</td>\n",
       "      <td>1.170591</td>\n",
       "      <td>...</td>\n",
       "      <td>2.451143</td>\n",
       "      <td>1</td>\n",
       "      <td>1908.0</td>\n",
       "      <td>-0.172223</td>\n",
       "      <td>1.848446</td>\n",
       "      <td>1.605265</td>\n",
       "      <td>0.091674</td>\n",
       "      <td>-0.940919</td>\n",
       "      <td>2.463347</td>\n",
       "      <td>-1.370444</td>\n",
       "    </tr>\n",
       "    <tr>\n",
       "      <th>1</th>\n",
       "      <td>1524</td>\n",
       "      <td>-0.326435</td>\n",
       "      <td>2020.0</td>\n",
       "      <td>1219</td>\n",
       "      <td>9</td>\n",
       "      <td>0.109371</td>\n",
       "      <td>4</td>\n",
       "      <td>5236</td>\n",
       "      <td>-0.488825</td>\n",
       "      <td>-0.413237</td>\n",
       "      <td>...</td>\n",
       "      <td>-0.123416</td>\n",
       "      <td>0</td>\n",
       "      <td>801.0</td>\n",
       "      <td>-1.167466</td>\n",
       "      <td>-0.695841</td>\n",
       "      <td>-0.156442</td>\n",
       "      <td>-0.571524</td>\n",
       "      <td>0.379885</td>\n",
       "      <td>-0.096459</td>\n",
       "      <td>0.729691</td>\n",
       "    </tr>\n",
       "    <tr>\n",
       "      <th>2</th>\n",
       "      <td>155</td>\n",
       "      <td>-1.002092</td>\n",
       "      <td>942.0</td>\n",
       "      <td>787</td>\n",
       "      <td>7</td>\n",
       "      <td>-3.063211</td>\n",
       "      <td>1</td>\n",
       "      <td>3079</td>\n",
       "      <td>1.746018</td>\n",
       "      <td>0.018716</td>\n",
       "      <td>...</td>\n",
       "      <td>0.125734</td>\n",
       "      <td>0</td>\n",
       "      <td>155.0</td>\n",
       "      <td>-1.204130</td>\n",
       "      <td>-1.360398</td>\n",
       "      <td>-1.062474</td>\n",
       "      <td>-1.415397</td>\n",
       "      <td>-0.720785</td>\n",
       "      <td>-1.246642</td>\n",
       "      <td>0.729691</td>\n",
       "    </tr>\n",
       "    <tr>\n",
       "      <th>3</th>\n",
       "      <td>1073</td>\n",
       "      <td>-0.168675</td>\n",
       "      <td>3440.0</td>\n",
       "      <td>2623</td>\n",
       "      <td>12</td>\n",
       "      <td>0.205509</td>\n",
       "      <td>2</td>\n",
       "      <td>5342</td>\n",
       "      <td>-0.607490</td>\n",
       "      <td>-0.912739</td>\n",
       "      <td>...</td>\n",
       "      <td>-1.036970</td>\n",
       "      <td>0</td>\n",
       "      <td>817.0</td>\n",
       "      <td>-0.196598</td>\n",
       "      <td>-0.798116</td>\n",
       "      <td>-0.777545</td>\n",
       "      <td>-0.848098</td>\n",
       "      <td>0.600019</td>\n",
       "      <td>-1.134218</td>\n",
       "      <td>0.729691</td>\n",
       "    </tr>\n",
       "    <tr>\n",
       "      <th>4</th>\n",
       "      <td>1317</td>\n",
       "      <td>-0.486691</td>\n",
       "      <td>3835.0</td>\n",
       "      <td>3149</td>\n",
       "      <td>8</td>\n",
       "      <td>-1.140434</td>\n",
       "      <td>4</td>\n",
       "      <td>2536</td>\n",
       "      <td>-0.469048</td>\n",
       "      <td>0.370678</td>\n",
       "      <td>...</td>\n",
       "      <td>0.291835</td>\n",
       "      <td>0</td>\n",
       "      <td>686.0</td>\n",
       "      <td>1.025364</td>\n",
       "      <td>-0.720404</td>\n",
       "      <td>-1.006488</td>\n",
       "      <td>-0.018335</td>\n",
       "      <td>0.159751</td>\n",
       "      <td>0.064971</td>\n",
       "      <td>-1.370444</td>\n",
       "    </tr>\n",
       "    <tr>\n",
       "      <th>...</th>\n",
       "      <td>...</td>\n",
       "      <td>...</td>\n",
       "      <td>...</td>\n",
       "      <td>...</td>\n",
       "      <td>...</td>\n",
       "      <td>...</td>\n",
       "      <td>...</td>\n",
       "      <td>...</td>\n",
       "      <td>...</td>\n",
       "      <td>...</td>\n",
       "      <td>...</td>\n",
       "      <td>...</td>\n",
       "      <td>...</td>\n",
       "      <td>...</td>\n",
       "      <td>...</td>\n",
       "      <td>...</td>\n",
       "      <td>...</td>\n",
       "      <td>...</td>\n",
       "      <td>...</td>\n",
       "      <td>...</td>\n",
       "      <td>...</td>\n",
       "    </tr>\n",
       "    <tr>\n",
       "      <th>1034</th>\n",
       "      <td>303</td>\n",
       "      <td>-1.263021</td>\n",
       "      <td>1334.0</td>\n",
       "      <td>1166</td>\n",
       "      <td>5</td>\n",
       "      <td>-2.582517</td>\n",
       "      <td>2</td>\n",
       "      <td>761</td>\n",
       "      <td>0.414341</td>\n",
       "      <td>0.108306</td>\n",
       "      <td>...</td>\n",
       "      <td>-0.953919</td>\n",
       "      <td>0</td>\n",
       "      <td>168.0</td>\n",
       "      <td>1.494244</td>\n",
       "      <td>-0.955847</td>\n",
       "      <td>-1.213250</td>\n",
       "      <td>-0.289478</td>\n",
       "      <td>-0.940919</td>\n",
       "      <td>-0.234826</td>\n",
       "      <td>0.729691</td>\n",
       "    </tr>\n",
       "    <tr>\n",
       "      <th>1035</th>\n",
       "      <td>632</td>\n",
       "      <td>-0.381615</td>\n",
       "      <td>1952.0</td>\n",
       "      <td>187</td>\n",
       "      <td>6</td>\n",
       "      <td>-0.755879</td>\n",
       "      <td>2</td>\n",
       "      <td>5820</td>\n",
       "      <td>0.401156</td>\n",
       "      <td>-0.663877</td>\n",
       "      <td>...</td>\n",
       "      <td>-0.123416</td>\n",
       "      <td>1</td>\n",
       "      <td>1765.0</td>\n",
       "      <td>-1.149500</td>\n",
       "      <td>0.762992</td>\n",
       "      <td>1.826226</td>\n",
       "      <td>-1.177584</td>\n",
       "      <td>-0.720785</td>\n",
       "      <td>-0.459674</td>\n",
       "      <td>-1.370444</td>\n",
       "    </tr>\n",
       "    <tr>\n",
       "      <th>1036</th>\n",
       "      <td>1326</td>\n",
       "      <td>-1.211363</td>\n",
       "      <td>877.0</td>\n",
       "      <td>356</td>\n",
       "      <td>2</td>\n",
       "      <td>0.013232</td>\n",
       "      <td>3</td>\n",
       "      <td>547</td>\n",
       "      <td>-0.383346</td>\n",
       "      <td>-1.901076</td>\n",
       "      <td>...</td>\n",
       "      <td>-0.870869</td>\n",
       "      <td>0</td>\n",
       "      <td>521.0</td>\n",
       "      <td>-0.442611</td>\n",
       "      <td>0.510442</td>\n",
       "      <td>0.615026</td>\n",
       "      <td>1.722238</td>\n",
       "      <td>-1.381187</td>\n",
       "      <td>1.743834</td>\n",
       "      <td>0.729691</td>\n",
       "    </tr>\n",
       "    <tr>\n",
       "      <th>1037</th>\n",
       "      <td>462</td>\n",
       "      <td>-1.028801</td>\n",
       "      <td>775.0</td>\n",
       "      <td>52</td>\n",
       "      <td>8</td>\n",
       "      <td>-0.371324</td>\n",
       "      <td>3</td>\n",
       "      <td>2757</td>\n",
       "      <td>-0.521788</td>\n",
       "      <td>0.064425</td>\n",
       "      <td>...</td>\n",
       "      <td>-0.289517</td>\n",
       "      <td>1</td>\n",
       "      <td>723.0</td>\n",
       "      <td>-1.461414</td>\n",
       "      <td>0.406877</td>\n",
       "      <td>1.938322</td>\n",
       "      <td>-0.960960</td>\n",
       "      <td>-0.060383</td>\n",
       "      <td>-0.316589</td>\n",
       "      <td>-1.370444</td>\n",
       "    </tr>\n",
       "    <tr>\n",
       "      <th>1038</th>\n",
       "      <td>2735</td>\n",
       "      <td>0.138188</td>\n",
       "      <td>3410.0</td>\n",
       "      <td>1536</td>\n",
       "      <td>13</td>\n",
       "      <td>0.686204</td>\n",
       "      <td>4</td>\n",
       "      <td>5801</td>\n",
       "      <td>-0.521788</td>\n",
       "      <td>0.222330</td>\n",
       "      <td>...</td>\n",
       "      <td>1.039288</td>\n",
       "      <td>0</td>\n",
       "      <td>1874.0</td>\n",
       "      <td>-0.715595</td>\n",
       "      <td>0.110307</td>\n",
       "      <td>0.441192</td>\n",
       "      <td>-0.120085</td>\n",
       "      <td>1.260421</td>\n",
       "      <td>-0.552259</td>\n",
       "      <td>-1.370444</td>\n",
       "    </tr>\n",
       "  </tbody>\n",
       "</table>\n",
       "<p>1039 rows × 22 columns</p>\n",
       "</div>"
      ],
      "text/plain": [
       "      Number words female  Total words  Number of words lead  \\\n",
       "0                    1512    -0.676591                2251.0   \n",
       "1                    1524    -0.326435                2020.0   \n",
       "2                     155    -1.002092                 942.0   \n",
       "3                    1073    -0.168675                3440.0   \n",
       "4                    1317    -0.486691                3835.0   \n",
       "...                   ...          ...                   ...   \n",
       "1034                  303    -1.263021                1334.0   \n",
       "1035                  632    -0.381615                1952.0   \n",
       "1036                 1326    -1.211363                 877.0   \n",
       "1037                  462    -1.028801                 775.0   \n",
       "1038                 2735     0.138188                3410.0   \n",
       "\n",
       "      Difference in words lead and co-lead  Number of male actors      Year  \\\n",
       "0                                      343                      2 -0.467462   \n",
       "1                                     1219                      9  0.109371   \n",
       "2                                      787                      7 -3.063211   \n",
       "3                                     2623                     12  0.205509   \n",
       "4                                     3149                      8 -1.140434   \n",
       "...                                    ...                    ...       ...   \n",
       "1034                                  1166                      5 -2.582517   \n",
       "1035                                   187                      6 -0.755879   \n",
       "1036                                   356                      2  0.013232   \n",
       "1037                                    52                      8 -0.371324   \n",
       "1038                                  1536                     13  0.686204   \n",
       "\n",
       "      Number of female actors  Number words male     Gross  Mean Age Male  \\\n",
       "0                           5               2631  0.203383       1.170591   \n",
       "1                           4               5236 -0.488825      -0.413237   \n",
       "2                           1               3079  1.746018       0.018716   \n",
       "3                           2               5342 -0.607490      -0.912739   \n",
       "4                           4               2536 -0.469048       0.370678   \n",
       "...                       ...                ...       ...            ...   \n",
       "1034                        2                761  0.414341       0.108306   \n",
       "1035                        2               5820  0.401156      -0.663877   \n",
       "1036                        3                547 -0.383346      -1.901076   \n",
       "1037                        3               2757 -0.521788       0.064425   \n",
       "1038                        4               5801 -0.521788       0.222330   \n",
       "\n",
       "      ...  Age Co-Lead  Lead  Number of words co-lead  \\\n",
       "0     ...     2.451143     1                   1908.0   \n",
       "1     ...    -0.123416     0                    801.0   \n",
       "2     ...     0.125734     0                    155.0   \n",
       "3     ...    -1.036970     0                    817.0   \n",
       "4     ...     0.291835     0                    686.0   \n",
       "...   ...          ...   ...                      ...   \n",
       "1034  ...    -0.953919     0                    168.0   \n",
       "1035  ...    -0.123416     1                   1765.0   \n",
       "1036  ...    -0.870869     0                    521.0   \n",
       "1037  ...    -0.289517     1                    723.0   \n",
       "1038  ...     1.039288     0                   1874.0   \n",
       "\n",
       "      Proportion of words lead  Proportion of words co-lead  \\\n",
       "0                    -0.172223                     1.848446   \n",
       "1                    -1.167466                    -0.695841   \n",
       "2                    -1.204130                    -1.360398   \n",
       "3                    -0.196598                    -0.798116   \n",
       "4                     1.025364                    -0.720404   \n",
       "...                        ...                          ...   \n",
       "1034                  1.494244                    -0.955847   \n",
       "1035                 -1.149500                     0.762992   \n",
       "1036                 -0.442611                     0.510442   \n",
       "1037                 -1.461414                     0.406877   \n",
       "1038                 -0.715595                     0.110307   \n",
       "\n",
       "      Ratio words co-lead lead  Proportion of words female  Number of actors  \\\n",
       "0                     1.605265                    0.091674         -0.940919   \n",
       "1                    -0.156442                   -0.571524          0.379885   \n",
       "2                    -1.062474                   -1.415397         -0.720785   \n",
       "3                    -0.777545                   -0.848098          0.600019   \n",
       "4                    -1.006488                   -0.018335          0.159751   \n",
       "...                        ...                         ...               ...   \n",
       "1034                 -1.213250                   -0.289478         -0.940919   \n",
       "1035                  1.826226                   -1.177584         -0.720785   \n",
       "1036                  0.615026                    1.722238         -1.381187   \n",
       "1037                  1.938322                   -0.960960         -0.060383   \n",
       "1038                  0.441192                   -0.120085          1.260421   \n",
       "\n",
       "      Proportion of female actors  Older lead  \n",
       "0                        2.463347   -1.370444  \n",
       "1                       -0.096459    0.729691  \n",
       "2                       -1.246642    0.729691  \n",
       "3                       -1.134218    0.729691  \n",
       "4                        0.064971   -1.370444  \n",
       "...                           ...         ...  \n",
       "1034                    -0.234826    0.729691  \n",
       "1035                    -0.459674   -1.370444  \n",
       "1036                     1.743834    0.729691  \n",
       "1037                    -0.316589   -1.370444  \n",
       "1038                    -0.552259   -1.370444  \n",
       "\n",
       "[1039 rows x 22 columns]"
      ]
     },
     "execution_count": 2134,
     "metadata": {},
     "output_type": "execute_result"
    }
   ],
   "source": [
    "data"
   ]
  },
  {
   "cell_type": "markdown",
   "id": "remarkable-tampa",
   "metadata": {},
   "source": [
    "Combining all pre-processing into a function"
   ]
  },
  {
   "cell_type": "code",
   "execution_count": 2135,
   "id": "planned-experiment",
   "metadata": {},
   "outputs": [],
   "source": [
    "def pre_process(raw_data, cols_to_norm):\n",
    "    data = raw_data.copy()\n",
    "    \n",
    "    data['Lead'] = pd.get_dummies(data['Lead'])\n",
    "    data['Number of words co-lead'] = data['Number of words lead'] - data['Difference in words lead and co-lead']\n",
    "    data['Proportion of words lead'] = data['Number of words lead']/data['Total words']\n",
    "    data['Proportion of words co-lead'] = data['Number of words co-lead']/data['Total words']\n",
    "    data['Ratio words co-lead lead'] = data['Number of words co-lead']/data['Number of words lead']\n",
    "    data['Proportion of words female'] = data['Number words female']/(data['Total words'] - data['Number of words lead'])\n",
    "    data['Number of actors'] = data['Number of male actors'] + data['Number of female actors']\n",
    "    data['Proportion of female actors'] = data['Number of female actors']/data['Number of actors']\n",
    "    data['Older lead'] = data['Age Lead'] < data['Age Co-Lead']\n",
    "    data['Older lead'] = pd.get_dummies(data['Older lead'])\n",
    "    \n",
    "    scaler = skl_pre.StandardScaler()\n",
    "    data[cols_to_norm] = scaler.fit_transform(data[cols_to_norm])\n",
    "    \n",
    "    return data"
   ]
  },
  {
   "cell_type": "markdown",
   "id": "korean-avatar",
   "metadata": {},
   "source": [
    "# Logistic Regression"
   ]
  },
  {
   "cell_type": "code",
   "execution_count": 2136,
   "id": "forced-incident",
   "metadata": {},
   "outputs": [],
   "source": [
    "data = pre_process(rawData, cols_to_norm)"
   ]
  },
  {
   "cell_type": "code",
   "execution_count": 2137,
   "id": "regulated-preview",
   "metadata": {},
   "outputs": [],
   "source": [
    "config = pd.read_csv('config.csv')\n",
    "trainRatio = config['Train Ratio'][0]\n",
    "seed = config['Random Seed'][0]\n",
    "train, test = skl_ms.train_test_split(data, train_size=trainRatio) #, random_state=seed)"
   ]
  },
  {
   "cell_type": "code",
   "execution_count": 2138,
   "id": "quarterly-leone",
   "metadata": {},
   "outputs": [],
   "source": [
    "rawFeatures = [\n",
    "    'Number words female',\n",
    "    'Total words',\n",
    "    'Number of words lead',\n",
    "    'Difference in words lead and co-lead',\n",
    "    'Number of male actors',\n",
    "    'Year',\n",
    "    'Number of female actors',\n",
    "    'Number words male',\n",
    "    'Gross',\n",
    "    'Mean Age Male',\n",
    "    'Mean Age Female',\n",
    "    'Age Lead',\n",
    "    'Age Co-Lead'\n",
    "]\n",
    "\n",
    "featureSet1 = [\n",
    "    'Year',\n",
    "    'Gross',\n",
    "    'Number of actors',\n",
    "    'Proportion of female actors',\n",
    "    'Mean Age Male',\n",
    "    'Mean Age Female',\n",
    "    'Age Lead',\n",
    "    'Age Co-Lead',\n",
    "    'Total words',\n",
    "    'Proportion of words lead',\n",
    "    'Proportion of words co-lead',\n",
    "    'Ratio words co-lead lead',\n",
    "    'Proportion of words female',\n",
    "    'Older lead'\n",
    "]"
   ]
  },
  {
   "cell_type": "code",
   "execution_count": 2139,
   "id": "forward-granny",
   "metadata": {},
   "outputs": [
    {
     "data": {
      "text/plain": [
       "True"
      ]
     },
     "execution_count": 2139,
     "metadata": {},
     "output_type": "execute_result"
    }
   ],
   "source": [
    "set(cols_to_norm) == set(featureSet1) "
   ]
  },
  {
   "cell_type": "code",
   "execution_count": 2140,
   "id": "north-greek",
   "metadata": {},
   "outputs": [],
   "source": [
    "features = featureSet1.copy()\n",
    "#features.remove('Proportion of words female')\n",
    "target = 'Lead'"
   ]
  },
  {
   "cell_type": "markdown",
   "id": "dutch-invite",
   "metadata": {},
   "source": [
    "## Lasso\n",
    "\n",
    "Lasso is L1 regularization"
   ]
  },
  {
   "cell_type": "markdown",
   "id": "noble-headset",
   "metadata": {},
   "source": [
    "We do 20 folds, use `liblinear` solver that is better for smaller datasets and 10 threads in the cross-validation step.\n",
    "\n",
    "The method will try 10 values of lambda between `1e-4` and `1e4` to determine the best regularization parameter."
   ]
  },
  {
   "cell_type": "code",
   "execution_count": 2141,
   "id": "infinite-independence",
   "metadata": {},
   "outputs": [],
   "source": [
    "logRegLasso = skl_lm.LogisticRegressionCV(Cs=10, cv=20, penalty='l1', solver='liblinear', n_jobs=10)"
   ]
  },
  {
   "cell_type": "code",
   "execution_count": 2142,
   "id": "infectious-scoop",
   "metadata": {},
   "outputs": [
    {
     "data": {
      "text/plain": [
       "LogisticRegressionCV(cv=20, n_jobs=10, penalty='l1', solver='liblinear')"
      ]
     },
     "execution_count": 2142,
     "metadata": {},
     "output_type": "execute_result"
    }
   ],
   "source": [
    "logRegLasso.fit(train[features], train[target])"
   ]
  },
  {
   "cell_type": "code",
   "execution_count": 2143,
   "id": "occasional-uncle",
   "metadata": {},
   "outputs": [
    {
     "data": {
      "text/plain": [
       "0.9230769230769231"
      ]
     },
     "execution_count": 2143,
     "metadata": {},
     "output_type": "execute_result"
    }
   ],
   "source": [
    "logRegLasso.score(test[features], test[target])"
   ]
  },
  {
   "cell_type": "code",
   "execution_count": 2144,
   "id": "mobile-uganda",
   "metadata": {},
   "outputs": [
    {
     "data": {
      "text/plain": [
       "<sklearn.metrics._plot.roc_curve.RocCurveDisplay at 0x7f7759808e50>"
      ]
     },
     "execution_count": 2144,
     "metadata": {},
     "output_type": "execute_result"
    },
    {
     "data": {
      "image/png": "[encoded data removed]",
      "text/plain": [
       "<Figure size 432x288 with 1 Axes>"
      ]
     },
     "metadata": {
      "needs_background": "light"
     },
     "output_type": "display_data"
    }
   ],
   "source": [
    "skl_met.plot_roc_curve(logRegLasso, test[features], test[target], name='LogReg with CV and Lasso')"
   ]
  },
  {
   "cell_type": "code",
   "execution_count": 2145,
   "id": "north-profession",
   "metadata": {},
   "outputs": [
    {
     "data": {
      "text/plain": [
       "0.9529411764705882"
      ]
     },
     "execution_count": 2145,
     "metadata": {},
     "output_type": "execute_result"
    }
   ],
   "source": [
    "skl_met.roc_auc_score(test[target], logRegLasso.predict_proba(test[features])[:,1])"
   ]
  },
  {
   "cell_type": "code",
   "execution_count": 2146,
   "id": "broad-utility",
   "metadata": {},
   "outputs": [
    {
     "name": "stdout",
     "output_type": "stream",
     "text": [
      "              precision    recall  f1-score   support\n",
      "\n",
      "           0       0.98      0.93      0.95        85\n",
      "           1       0.74      0.89      0.81        19\n",
      "\n",
      "    accuracy                           0.92       104\n",
      "   macro avg       0.86      0.91      0.88       104\n",
      "weighted avg       0.93      0.92      0.93       104\n",
      "\n"
     ]
    }
   ],
   "source": [
    "print(skl_met.classification_report(test[target], logRegLasso.predict(test[features])))"
   ]
  },
  {
   "cell_type": "markdown",
   "id": "clean-eugene",
   "metadata": {},
   "source": [
    "## Ridge\n",
    "\n",
    "Ridge is L2-regularization\n",
    "\n",
    "We do 10 folds, use `liblinear` solver that is better for smaller datasets and 10 threads in the cross-validation step.\n",
    "\n",
    "The method will try 100 values of lambda between `1e-4` and `1e4` to determine the best regularization parameter."
   ]
  },
  {
   "cell_type": "code",
   "execution_count": 2147,
   "id": "seeing-cincinnati",
   "metadata": {},
   "outputs": [
    {
     "data": {
      "text/plain": [
       "LogisticRegressionCV(cv=10, n_jobs=10, solver='liblinear')"
      ]
     },
     "execution_count": 2147,
     "metadata": {},
     "output_type": "execute_result"
    }
   ],
   "source": [
    "logRegRidge = skl_lm.LogisticRegressionCV(Cs=10, cv=10, penalty='l2', solver='liblinear', n_jobs=10)\n",
    "logRegRidge.fit(train[features], train[target])"
   ]
  },
  {
   "cell_type": "code",
   "execution_count": 2148,
   "id": "blank-solid",
   "metadata": {},
   "outputs": [
    {
     "data": {
      "text/plain": [
       "0.9230769230769231"
      ]
     },
     "execution_count": 2148,
     "metadata": {},
     "output_type": "execute_result"
    }
   ],
   "source": [
    "logRegRidge.score(test[features], test[target])"
   ]
  },
  {
   "cell_type": "code",
   "execution_count": 2149,
   "id": "asian-practice",
   "metadata": {},
   "outputs": [
    {
     "data": {
      "text/plain": [
       "<sklearn.metrics._plot.roc_curve.RocCurveDisplay at 0x7f77598b0d90>"
      ]
     },
     "execution_count": 2149,
     "metadata": {},
     "output_type": "execute_result"
    },
    {
     "data": {
      "image/png": "[encoded data removed]",
      "text/plain": [
       "<Figure size 432x288 with 1 Axes>"
      ]
     },
     "metadata": {
      "needs_background": "light"
     },
     "output_type": "display_data"
    }
   ],
   "source": [
    "skl_met.plot_roc_curve(logRegRidge, test[features], test[target], name='LogReg with CV and Ridge')"
   ]
  },
  {
   "cell_type": "code",
   "execution_count": 2150,
   "id": "corresponding-stevens",
   "metadata": {},
   "outputs": [
    {
     "data": {
      "text/plain": [
       "0.9547987616099072"
      ]
     },
     "execution_count": 2150,
     "metadata": {},
     "output_type": "execute_result"
    }
   ],
   "source": [
    "skl_met.roc_auc_score(test[target], logRegRidge.predict_proba(test[features])[:,1])"
   ]
  },
  {
   "cell_type": "code",
   "execution_count": 2151,
   "id": "patient-edgar",
   "metadata": {},
   "outputs": [
    {
     "name": "stdout",
     "output_type": "stream",
     "text": [
      "              precision    recall  f1-score   support\n",
      "\n",
      "           0       0.96      0.94      0.95        85\n",
      "           1       0.76      0.84      0.80        19\n",
      "\n",
      "    accuracy                           0.92       104\n",
      "   macro avg       0.86      0.89      0.88       104\n",
      "weighted avg       0.93      0.92      0.92       104\n",
      "\n"
     ]
    }
   ],
   "source": [
    "print(skl_met.classification_report(test[target], logRegRidge.predict(test[features])))"
   ]
  },
  {
   "cell_type": "markdown",
   "id": "buried-presentation",
   "metadata": {},
   "source": [
    "## Comparison"
   ]
  },
  {
   "cell_type": "code",
   "execution_count": 2152,
   "id": "living-drain",
   "metadata": {},
   "outputs": [
    {
     "data": {
      "text/plain": [
       "array([0.35938137])"
      ]
     },
     "execution_count": 2152,
     "metadata": {},
     "output_type": "execute_result"
    }
   ],
   "source": [
    "logRegLasso.C_"
   ]
  },
  {
   "cell_type": "code",
   "execution_count": 2153,
   "id": "controversial-retreat",
   "metadata": {},
   "outputs": [
    {
     "data": {
      "text/plain": [
       "array([0.35938137])"
      ]
     },
     "execution_count": 2153,
     "metadata": {},
     "output_type": "execute_result"
    }
   ],
   "source": [
    "logRegRidge.C_"
   ]
  },
  {
   "cell_type": "code",
   "execution_count": 2154,
   "id": "beginning-tyler",
   "metadata": {},
   "outputs": [],
   "source": [
    "predLasso = logRegLasso.predict(test[features])\n",
    "predRidge = logRegRidge.predict(test[features])"
   ]
  },
  {
   "cell_type": "code",
   "execution_count": 2155,
   "id": "frank-pride",
   "metadata": {},
   "outputs": [],
   "source": [
    "logRegLassoCoefs = dict(zip(features, logRegLasso.coef_[0]))"
   ]
  },
  {
   "cell_type": "markdown",
   "id": "turkish-methodology",
   "metadata": {},
   "source": [
    "There is a reason that `Proportion of words female` is an indicator that the lead is male. If the `Lead` is male, `Number words female` includes the number of words spoken by the co-lead and hence `Number words female` is the total number of words spoken by **all** female actors while `Number words male` is the number of words spoken by the **non-lead** male actors. Hence, "
   ]
  },
  {
   "cell_type": "code",
   "execution_count": 2156,
   "id": "silver-fifth",
   "metadata": {},
   "outputs": [
    {
     "name": "stdout",
     "output_type": "stream",
     "text": [
      "Year                                     0.00000\n",
      "Gross                                    -0.02579\n",
      "Number of actors                         0.26970\n",
      "Proportion of female actors              2.70100\n",
      "Mean Age Male                            0.19059\n",
      "Mean Age Female                          0.00000\n",
      "Age Lead                                 -0.22738\n",
      "Age Co-Lead                              0.14815\n",
      "Total words                              -0.38620\n",
      "Proportion of words lead                 0.04839\n",
      "Proportion of words co-lead              0.48159\n",
      "Ratio words co-lead lead                 0.44788\n",
      "Proportion of words female               -2.24377\n",
      "Older lead                               -0.60093\n"
     ]
    }
   ],
   "source": [
    "for var, coef in logRegLassoCoefs.items():\n",
    "    print(f'{var:40} {coef:.5f}')"
   ]
  },
  {
   "cell_type": "code",
   "execution_count": 2157,
   "id": "twelve-colony",
   "metadata": {},
   "outputs": [],
   "source": [
    "logRegRidgeCoefs = dict(zip(features, logRegRidge.coef_[0]))"
   ]
  },
  {
   "cell_type": "code",
   "execution_count": 2158,
   "id": "macro-strengthening",
   "metadata": {},
   "outputs": [
    {
     "name": "stdout",
     "output_type": "stream",
     "text": [
      "Year                                     -0.03473\n",
      "Gross                                    -0.07147\n",
      "Number of actors                         0.33993\n",
      "Proportion of female actors              2.44194\n",
      "Mean Age Male                            0.22188\n",
      "Mean Age Female                          -0.00983\n",
      "Age Lead                                 -0.28581\n",
      "Age Co-Lead                              0.17455\n",
      "Total words                              -0.42875\n",
      "Proportion of words lead                 0.19050\n",
      "Proportion of words co-lead              0.38413\n",
      "Ratio words co-lead lead                 0.56990\n",
      "Proportion of words female               -2.00485\n",
      "Older lead                               -0.56183\n"
     ]
    }
   ],
   "source": [
    "for var, coef in logRegRidgeCoefs.items():\n",
    "    print(f'{var:40} {coef:.5f}')"
   ]
  },
  {
   "cell_type": "code",
   "execution_count": 2159,
   "id": "greek-fiber",
   "metadata": {},
   "outputs": [
    {
     "data": {
      "text/plain": [
       "0.9807692307692307"
      ]
     },
     "execution_count": 2159,
     "metadata": {},
     "output_type": "execute_result"
    }
   ],
   "source": [
    "sum(predLasso == predRidge)/len(test)"
   ]
  },
  {
   "cell_type": "code",
   "execution_count": 2160,
   "id": "registered-raise",
   "metadata": {},
   "outputs": [
    {
     "data": {
      "text/html": [
       "<div>\n",
       "<style scoped>\n",
       "    .dataframe tbody tr th:only-of-type {\n",
       "        vertical-align: middle;\n",
       "    }\n",
       "\n",
       "    .dataframe tbody tr th {\n",
       "        vertical-align: top;\n",
       "    }\n",
       "\n",
       "    .dataframe thead th {\n",
       "        text-align: right;\n",
       "    }\n",
       "</style>\n",
       "<table border=\"1\" class=\"dataframe\">\n",
       "  <thead>\n",
       "    <tr style=\"text-align: right;\">\n",
       "      <th>col_0</th>\n",
       "      <th>0</th>\n",
       "      <th>1</th>\n",
       "    </tr>\n",
       "    <tr>\n",
       "      <th>Lead</th>\n",
       "      <th></th>\n",
       "      <th></th>\n",
       "    </tr>\n",
       "  </thead>\n",
       "  <tbody>\n",
       "    <tr>\n",
       "      <th>0</th>\n",
       "      <td>79</td>\n",
       "      <td>6</td>\n",
       "    </tr>\n",
       "    <tr>\n",
       "      <th>1</th>\n",
       "      <td>2</td>\n",
       "      <td>17</td>\n",
       "    </tr>\n",
       "  </tbody>\n",
       "</table>\n",
       "</div>"
      ],
      "text/plain": [
       "col_0   0   1\n",
       "Lead         \n",
       "0      79   6\n",
       "1       2  17"
      ]
     },
     "execution_count": 2160,
     "metadata": {},
     "output_type": "execute_result"
    }
   ],
   "source": [
    "pd.crosstab(test[target], predLasso)"
   ]
  },
  {
   "cell_type": "code",
   "execution_count": 2161,
   "id": "decreased-canal",
   "metadata": {},
   "outputs": [
    {
     "data": {
      "text/html": [
       "<div>\n",
       "<style scoped>\n",
       "    .dataframe tbody tr th:only-of-type {\n",
       "        vertical-align: middle;\n",
       "    }\n",
       "\n",
       "    .dataframe tbody tr th {\n",
       "        vertical-align: top;\n",
       "    }\n",
       "\n",
       "    .dataframe thead th {\n",
       "        text-align: right;\n",
       "    }\n",
       "</style>\n",
       "<table border=\"1\" class=\"dataframe\">\n",
       "  <thead>\n",
       "    <tr style=\"text-align: right;\">\n",
       "      <th>col_0</th>\n",
       "      <th>0</th>\n",
       "      <th>1</th>\n",
       "    </tr>\n",
       "    <tr>\n",
       "      <th>Lead</th>\n",
       "      <th></th>\n",
       "      <th></th>\n",
       "    </tr>\n",
       "  </thead>\n",
       "  <tbody>\n",
       "    <tr>\n",
       "      <th>0</th>\n",
       "      <td>80</td>\n",
       "      <td>5</td>\n",
       "    </tr>\n",
       "    <tr>\n",
       "      <th>1</th>\n",
       "      <td>3</td>\n",
       "      <td>16</td>\n",
       "    </tr>\n",
       "  </tbody>\n",
       "</table>\n",
       "</div>"
      ],
      "text/plain": [
       "col_0   0   1\n",
       "Lead         \n",
       "0      80   5\n",
       "1       3  16"
      ]
     },
     "execution_count": 2161,
     "metadata": {},
     "output_type": "execute_result"
    }
   ],
   "source": [
    "pd.crosstab(test[target], predRidge)"
   ]
  },
  {
   "cell_type": "code",
   "execution_count": null,
   "id": "regional-stockholm",
   "metadata": {},
   "outputs": [],
   "source": []
  }
 ],
 "metadata": {
  "kernelspec": {
   "display_name": "Python 3",
   "language": "python",
   "name": "python3"
  },
  "language_info": {
   "codemirror_mode": {
    "name": "ipython",
    "version": 3
   },
   "file_extension": ".py",
   "mimetype": "text/x-python",
   "name": "python",
   "nbconvert_exporter": "python",
   "pygments_lexer": "ipython3",
   "version": "3.8.6"
  }
 },
 "nbformat": 4,
 "nbformat_minor": 5
}
