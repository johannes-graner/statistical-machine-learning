{
 "cells": [
  {
   "cell_type": "markdown",
   "id": "dangerous-thunder",
   "metadata": {},
   "source": [
    "## Imports and data ingestion\n",
    "\n",
    "`linear_model` for Logistic Regression,\n",
    "\n",
    "`model_selection` for train-test split and cross-validation,\n",
    "\n",
    "`metrics` for ROC and AIC"
   ]
  },
  {
   "cell_type": "code",
   "execution_count": 1858,
   "id": "classical-danger",
   "metadata": {},
   "outputs": [],
   "source": [
    "import numpy as np\n",
    "import pandas as pd\n",
    "import sklearn.linear_model as skl_lm\n",
    "import sklearn.ensemble as skl_en\n",
    "import sklearn.model_selection as skl_ms\n",
    "import sklearn.metrics as skl_met"
   ]
  },
  {
   "cell_type": "code",
   "execution_count": 1859,
   "id": "danish-anthony",
   "metadata": {},
   "outputs": [],
   "source": [
    "rawData = pd.read_csv('train.csv')"
   ]
  },
  {
   "cell_type": "markdown",
   "id": "noticed-science",
   "metadata": {},
   "source": [
    "## Get Dummies\n",
    "\n",
    "`Lead` is `0` if the lead is `female`."
   ]
  },
  {
   "cell_type": "code",
   "execution_count": 1860,
   "id": "fifth-layer",
   "metadata": {},
   "outputs": [],
   "source": [
    "data = rawData.copy()\n",
    "data['Lead'] = pd.get_dummies(data['Lead'])"
   ]
  },
  {
   "cell_type": "markdown",
   "id": "reliable-armstrong",
   "metadata": {},
   "source": [
    "## Feature Engineering\n",
    "\n",
    "We first extract the number of words spoken by the co-lead."
   ]
  },
  {
   "cell_type": "code",
   "execution_count": 1861,
   "id": "accepted-greek",
   "metadata": {},
   "outputs": [],
   "source": [
    "data['Number of words co-lead'] = data['Number of words lead'] - data['Difference in words lead and co-lead']"
   ]
  },
  {
   "cell_type": "markdown",
   "id": "recovered-thermal",
   "metadata": {},
   "source": [
    "It is probably more important to know proportion of words spoken by lead than the absolute number of words."
   ]
  },
  {
   "cell_type": "code",
   "execution_count": 1862,
   "id": "turkish-source",
   "metadata": {},
   "outputs": [],
   "source": [
    "data['Proportion of words lead'] = data['Number of words lead']/data['Total words']"
   ]
  },
  {
   "cell_type": "markdown",
   "id": "distant-pottery",
   "metadata": {},
   "source": [
    "We look at the proportion of dialogue from co-lead as well as the ratio of dialogue between co-lead and lead."
   ]
  },
  {
   "cell_type": "code",
   "execution_count": 1863,
   "id": "prescribed-nelson",
   "metadata": {},
   "outputs": [],
   "source": [
    "data['Proportion of words co-lead'] = data['Number of words co-lead']/data['Total words']\n",
    "data['Ratio words co-lead lead'] = data['Number of words co-lead']/data['Number of words lead']"
   ]
  },
  {
   "cell_type": "markdown",
   "id": "signed-think",
   "metadata": {},
   "source": [
    "Similarly for number of words spoken by male or female actors. However, here we normalize by `Total words - Number of words lead` since this only measures non-lead dialogue. We only need `Proportion of words female` since a hypothetical `Proportion of words male` is just `1 - Proportion of words female`."
   ]
  },
  {
   "cell_type": "code",
   "execution_count": 1864,
   "id": "focused-alfred",
   "metadata": {},
   "outputs": [],
   "source": [
    "data['Proportion of words female'] = data['Number words female']/(data['Total words'] - data['Number of words lead'])"
   ]
  },
  {
   "cell_type": "markdown",
   "id": "southwest-power",
   "metadata": {},
   "source": [
    "It might be important to look at the ratio of female actors."
   ]
  },
  {
   "cell_type": "code",
   "execution_count": 1865,
   "id": "literary-clinton",
   "metadata": {},
   "outputs": [],
   "source": [
    "data['Proportion of female actors'] = data['Number of female actors']/(data['Number of male actors'] + data['Number of female actors'])"
   ]
  },
  {
   "cell_type": "markdown",
   "id": "headed-keeping",
   "metadata": {},
   "source": [
    "Perhaps it is important if the lead or co-lead is oldest."
   ]
  },
  {
   "cell_type": "code",
   "execution_count": 1866,
   "id": "after-sequence",
   "metadata": {},
   "outputs": [],
   "source": [
    "data['Older lead'] = data['Age Lead'] < data['Age Co-Lead']\n",
    "data['Older lead'] = pd.get_dummies(data['Older lead'])"
   ]
  },
  {
   "cell_type": "code",
   "execution_count": 1867,
   "id": "comic-greece",
   "metadata": {},
   "outputs": [
    {
     "data": {
      "text/plain": [
       "Index(['Number words female', 'Total words', 'Number of words lead',\n",
       "       'Difference in words lead and co-lead', 'Number of male actors', 'Year',\n",
       "       'Number of female actors', 'Number words male', 'Gross',\n",
       "       'Mean Age Male', 'Mean Age Female', 'Age Lead', 'Age Co-Lead', 'Lead',\n",
       "       'Number of words co-lead', 'Proportion of words lead',\n",
       "       'Proportion of words co-lead', 'Ratio words co-lead lead',\n",
       "       'Proportion of words female', 'Proportion of female actors',\n",
       "       'Older lead'],\n",
       "      dtype='object')"
      ]
     },
     "execution_count": 1867,
     "metadata": {},
     "output_type": "execute_result"
    }
   ],
   "source": [
    "data.columns"
   ]
  },
  {
   "cell_type": "markdown",
   "id": "fifth-method",
   "metadata": {},
   "source": [
    "Combining all pre-processing into a function"
   ]
  },
  {
   "cell_type": "code",
   "execution_count": 1868,
   "id": "virtual-kingston",
   "metadata": {},
   "outputs": [],
   "source": [
    "def pre_process(raw_data):\n",
    "    data = raw_data.copy()\n",
    "    \n",
    "    data['Lead'] = pd.get_dummies(data['Lead'])\n",
    "    data['Number of words co-lead'] = data['Number of words lead'] - data['Difference in words lead and co-lead']\n",
    "    data['Proportion of words lead'] = data['Number of words lead']/data['Total words']\n",
    "    data['Proportion of words co-lead'] = data['Number of words co-lead']/data['Total words']\n",
    "    data['Ratio words co-lead lead'] = data['Number of words co-lead']/data['Number of words lead']\n",
    "    data['Proportion of words female'] = data['Number words female']/(data['Total words'] - data['Number of words lead'])\n",
    "    data['Proportion of female actors'] = data['Number of female actors']/(data['Number of male actors'] + data['Number of female actors'])\n",
    "    data['Older lead'] = data['Age Lead'] < data['Age Co-Lead']\n",
    "    data['Older lead'] = pd.get_dummies(data['Older lead'])\n",
    "    \n",
    "    return data"
   ]
  },
  {
   "cell_type": "markdown",
   "id": "stable-subdivision",
   "metadata": {},
   "source": [
    "# Logistic Regression"
   ]
  },
  {
   "cell_type": "code",
   "execution_count": 1869,
   "id": "worth-falls",
   "metadata": {},
   "outputs": [],
   "source": [
    "data = pre_process(rawData)"
   ]
  },
  {
   "cell_type": "code",
   "execution_count": 1870,
   "id": "earned-desperate",
   "metadata": {},
   "outputs": [],
   "source": [
    "config = pd.read_csv('config.csv')\n",
    "trainRatio = config['Train Ratio'][0]\n",
    "seed = config['Random Seed'][0]\n",
    "train, test = skl_ms.train_test_split(data, train_size=trainRatio) #, random_state=seed)"
   ]
  },
  {
   "cell_type": "code",
   "execution_count": 1871,
   "id": "peaceful-austin",
   "metadata": {},
   "outputs": [],
   "source": [
    "rawFeatures = [\n",
    "    'Number words female',\n",
    "    'Total words',\n",
    "    'Number of words lead',\n",
    "    'Difference in words lead and co-lead',\n",
    "    'Number of male actors',\n",
    "    'Year',\n",
    "    'Number of female actors',\n",
    "    'Number words male',\n",
    "    'Gross',\n",
    "    'Mean Age Male',\n",
    "    'Mean Age Female',\n",
    "    'Age Lead',\n",
    "    'Age Co-Lead'\n",
    "]\n",
    "\n",
    "featureSet1 = [\n",
    "    'Year',\n",
    "    'Gross',\n",
    "    'Number of female actors',\n",
    "    'Proportion of female actors',\n",
    "    'Mean Age Male',\n",
    "    'Mean Age Female',\n",
    "    'Age Lead',\n",
    "    'Age Co-Lead',\n",
    "    'Total words',\n",
    "    'Proportion of words lead',\n",
    "    'Proportion of words co-lead',\n",
    "    'Ratio words co-lead lead',\n",
    "    'Proportion of words female',\n",
    "    'Older lead'\n",
    "]"
   ]
  },
  {
   "cell_type": "code",
   "execution_count": 1872,
   "id": "acting-bridge",
   "metadata": {},
   "outputs": [],
   "source": [
    "features = featureSet1.copy()\n",
    "#features.remove('Proportion of words female')\n",
    "target = 'Lead'"
   ]
  },
  {
   "cell_type": "markdown",
   "id": "clinical-taxation",
   "metadata": {},
   "source": [
    "## Lasso\n",
    "\n",
    "Lasso is L1 regularization"
   ]
  },
  {
   "cell_type": "markdown",
   "id": "tutorial-collapse",
   "metadata": {},
   "source": [
    "We do 20 folds, use `liblinear` solver that is better for smaller datasets and 10 threads in the cross-validation step.\n",
    "\n",
    "The method will try 10 values of lambda between `1e-4` and `1e4` to determine the best regularization parameter."
   ]
  },
  {
   "cell_type": "code",
   "execution_count": 1873,
   "id": "taken-metro",
   "metadata": {},
   "outputs": [],
   "source": [
    "logRegLasso = skl_lm.LogisticRegressionCV(Cs=10, cv=20, penalty='l1', solver='liblinear', n_jobs=10)"
   ]
  },
  {
   "cell_type": "code",
   "execution_count": 1874,
   "id": "desperate-action",
   "metadata": {},
   "outputs": [
    {
     "data": {
      "text/plain": [
       "LogisticRegressionCV(cv=20, n_jobs=10, penalty='l1', solver='liblinear')"
      ]
     },
     "execution_count": 1874,
     "metadata": {},
     "output_type": "execute_result"
    }
   ],
   "source": [
    "logRegLasso.fit(train[features], train[target])"
   ]
  },
  {
   "cell_type": "code",
   "execution_count": 1875,
   "id": "opposite-hardware",
   "metadata": {},
   "outputs": [
    {
     "data": {
      "text/plain": [
       "0.9115384615384615"
      ]
     },
     "execution_count": 1875,
     "metadata": {},
     "output_type": "execute_result"
    }
   ],
   "source": [
    "logRegLasso.score(test[features], test[target])"
   ]
  },
  {
   "cell_type": "code",
   "execution_count": 1876,
   "id": "detailed-carnival",
   "metadata": {},
   "outputs": [
    {
     "data": {
      "text/plain": [
       "<sklearn.metrics._plot.roc_curve.RocCurveDisplay at 0x7f34e83fb820>"
      ]
     },
     "execution_count": 1876,
     "metadata": {},
     "output_type": "execute_result"
    },
    {
     "data": {
      "image/png": "[encoded data removed]",
      "text/plain": [
       "<Figure size 432x288 with 1 Axes>"
      ]
     },
     "metadata": {
      "needs_background": "light"
     },
     "output_type": "display_data"
    }
   ],
   "source": [
    "skl_met.plot_roc_curve(logRegLasso, test[features], test[target], name='LogReg with CV and Lasso')"
   ]
  },
  {
   "cell_type": "code",
   "execution_count": 1877,
   "id": "comic-orbit",
   "metadata": {},
   "outputs": [
    {
     "data": {
      "text/plain": [
       "0.9190507345506453"
      ]
     },
     "execution_count": 1877,
     "metadata": {},
     "output_type": "execute_result"
    }
   ],
   "source": [
    "skl_met.roc_auc_score(test[target], logRegLasso.predict_proba(test[features])[:,1])"
   ]
  },
  {
   "cell_type": "code",
   "execution_count": 1878,
   "id": "violent-diary",
   "metadata": {},
   "outputs": [
    {
     "name": "stdout",
     "output_type": "stream",
     "text": [
      "              precision    recall  f1-score   support\n",
      "\n",
      "           0       0.92      0.97      0.94       391\n",
      "           1       0.88      0.74      0.81       129\n",
      "\n",
      "    accuracy                           0.91       520\n",
      "   macro avg       0.90      0.86      0.87       520\n",
      "weighted avg       0.91      0.91      0.91       520\n",
      "\n"
     ]
    }
   ],
   "source": [
    "print(skl_met.classification_report(test[target], logRegLasso.predict(test[features])))"
   ]
  },
  {
   "cell_type": "markdown",
   "id": "homeless-attack",
   "metadata": {},
   "source": [
    "## Ridge\n",
    "\n",
    "Ridge is L2-regularization\n",
    "\n",
    "We do 10 folds, use `liblinear` solver that is better for smaller datasets and 10 threads in the cross-validation step.\n",
    "\n",
    "The method will try 100 values of lambda between `1e-4` and `1e4` to determine the best regularization parameter."
   ]
  },
  {
   "cell_type": "code",
   "execution_count": 1879,
   "id": "short-biodiversity",
   "metadata": {},
   "outputs": [
    {
     "data": {
      "text/plain": [
       "LogisticRegressionCV(cv=10, n_jobs=10, solver='liblinear')"
      ]
     },
     "execution_count": 1879,
     "metadata": {},
     "output_type": "execute_result"
    }
   ],
   "source": [
    "logRegRidge = skl_lm.LogisticRegressionCV(Cs=10, cv=10, penalty='l2', solver='liblinear', n_jobs=10)\n",
    "logRegRidge.fit(train[features], train[target])"
   ]
  },
  {
   "cell_type": "code",
   "execution_count": 1880,
   "id": "careful-spine",
   "metadata": {},
   "outputs": [
    {
     "data": {
      "text/plain": [
       "0.801923076923077"
      ]
     },
     "execution_count": 1880,
     "metadata": {},
     "output_type": "execute_result"
    }
   ],
   "source": [
    "logRegRidge.score(test[features], test[target])"
   ]
  },
  {
   "cell_type": "code",
   "execution_count": 1881,
   "id": "entitled-communist",
   "metadata": {},
   "outputs": [
    {
     "data": {
      "text/plain": [
       "<sklearn.metrics._plot.roc_curve.RocCurveDisplay at 0x7f34e826b580>"
      ]
     },
     "execution_count": 1881,
     "metadata": {},
     "output_type": "execute_result"
    },
    {
     "data": {
      "image/png": "[encoded data removed]",
      "text/plain": [
       "<Figure size 432x288 with 1 Axes>"
      ]
     },
     "metadata": {
      "needs_background": "light"
     },
     "output_type": "display_data"
    }
   ],
   "source": [
    "skl_met.plot_roc_curve(logRegRidge, test[features], test[target], name='LogReg with CV and Ridge')"
   ]
  },
  {
   "cell_type": "code",
   "execution_count": 1882,
   "id": "renewable-scholarship",
   "metadata": {},
   "outputs": [
    {
     "data": {
      "text/plain": [
       "0.8649259501576161"
      ]
     },
     "execution_count": 1882,
     "metadata": {},
     "output_type": "execute_result"
    }
   ],
   "source": [
    "skl_met.roc_auc_score(test[target], logRegRidge.predict_proba(test[features])[:,1])"
   ]
  },
  {
   "cell_type": "code",
   "execution_count": 1883,
   "id": "developed-validity",
   "metadata": {},
   "outputs": [
    {
     "name": "stdout",
     "output_type": "stream",
     "text": [
      "              precision    recall  f1-score   support\n",
      "\n",
      "           0       0.82      0.95      0.88       391\n",
      "           1       0.70      0.36      0.47       129\n",
      "\n",
      "    accuracy                           0.80       520\n",
      "   macro avg       0.76      0.65      0.67       520\n",
      "weighted avg       0.79      0.80      0.78       520\n",
      "\n"
     ]
    }
   ],
   "source": [
    "print(skl_met.classification_report(test[target], logRegRidge.predict(test[features])))"
   ]
  },
  {
   "cell_type": "markdown",
   "id": "heavy-pension",
   "metadata": {},
   "source": [
    "## Comparison"
   ]
  },
  {
   "cell_type": "code",
   "execution_count": 1884,
   "id": "nervous-emphasis",
   "metadata": {},
   "outputs": [
    {
     "data": {
      "text/plain": [
       "array([2.7825594])"
      ]
     },
     "execution_count": 1884,
     "metadata": {},
     "output_type": "execute_result"
    }
   ],
   "source": [
    "logRegLasso.C_"
   ]
  },
  {
   "cell_type": "code",
   "execution_count": 1885,
   "id": "heated-surgeon",
   "metadata": {},
   "outputs": [
    {
     "data": {
      "text/plain": [
       "array([1291.54966501])"
      ]
     },
     "execution_count": 1885,
     "metadata": {},
     "output_type": "execute_result"
    }
   ],
   "source": [
    "logRegRidge.C_"
   ]
  },
  {
   "cell_type": "code",
   "execution_count": 1886,
   "id": "first-pierre",
   "metadata": {},
   "outputs": [],
   "source": [
    "predLasso = logRegLasso.predict(test[features])\n",
    "predRidge = logRegRidge.predict(test[features])"
   ]
  },
  {
   "cell_type": "code",
   "execution_count": 1887,
   "id": "express-amount",
   "metadata": {},
   "outputs": [],
   "source": [
    "logRegLassoCoefs = dict(zip(features, logRegLasso.coef_[0]))"
   ]
  },
  {
   "cell_type": "code",
   "execution_count": 1888,
   "id": "imposed-suffering",
   "metadata": {},
   "outputs": [
    {
     "name": "stdout",
     "output_type": "stream",
     "text": [
      "Year                                     -0.00228\n",
      "Gross                                    -0.00045\n",
      "Number of female actors                  0.28814\n",
      "Proportion of female actors              13.30094\n",
      "Mean Age Male                            0.01138\n",
      "Mean Age Female                          -0.00719\n",
      "Age Lead                                 -0.01934\n",
      "Age Co-Lead                              0.01708\n",
      "Total words                              -0.00009\n",
      "Proportion of words lead                 2.34306\n",
      "Proportion of words co-lead              4.40514\n",
      "Ratio words co-lead lead                 3.04489\n",
      "Proportion of words female               -10.97327\n",
      "Older lead                               -1.24827\n"
     ]
    }
   ],
   "source": [
    "for var, coef in logRegLassoCoefs.items():\n",
    "    print(f'{var:40} {coef:.5f}')"
   ]
  },
  {
   "cell_type": "code",
   "execution_count": 1889,
   "id": "scientific-kitchen",
   "metadata": {},
   "outputs": [],
   "source": [
    "logRegRidgeCoefs = dict(zip(features, logRegRidge.coef_[0]))"
   ]
  },
  {
   "cell_type": "code",
   "execution_count": 1890,
   "id": "intermediate-creature",
   "metadata": {},
   "outputs": [
    {
     "name": "stdout",
     "output_type": "stream",
     "text": [
      "Year                                     -0.00062\n",
      "Gross                                    -0.00067\n",
      "Number of female actors                  0.39238\n",
      "Proportion of female actors              0.38648\n",
      "Mean Age Male                            0.00736\n",
      "Mean Age Female                          -0.00522\n",
      "Age Lead                                 -0.03212\n",
      "Age Co-Lead                              0.02445\n",
      "Total words                              -0.00009\n",
      "Proportion of words lead                 0.00157\n",
      "Proportion of words co-lead              0.29041\n",
      "Ratio words co-lead lead                 0.86509\n",
      "Proportion of words female               -0.70500\n",
      "Older lead                               -0.82625\n"
     ]
    }
   ],
   "source": [
    "for var, coef in logRegRidgeCoefs.items():\n",
    "    print(f'{var:40} {coef:.5f}')"
   ]
  },
  {
   "cell_type": "code",
   "execution_count": 1891,
   "id": "biblical-quality",
   "metadata": {},
   "outputs": [
    {
     "data": {
      "text/plain": [
       "0.8557692307692307"
      ]
     },
     "execution_count": 1891,
     "metadata": {},
     "output_type": "execute_result"
    }
   ],
   "source": [
    "sum(predLasso == predRidge)/len(test)"
   ]
  },
  {
   "cell_type": "code",
   "execution_count": 1892,
   "id": "flush-debut",
   "metadata": {},
   "outputs": [
    {
     "data": {
      "text/html": [
       "<div>\n",
       "<style scoped>\n",
       "    .dataframe tbody tr th:only-of-type {\n",
       "        vertical-align: middle;\n",
       "    }\n",
       "\n",
       "    .dataframe tbody tr th {\n",
       "        vertical-align: top;\n",
       "    }\n",
       "\n",
       "    .dataframe thead th {\n",
       "        text-align: right;\n",
       "    }\n",
       "</style>\n",
       "<table border=\"1\" class=\"dataframe\">\n",
       "  <thead>\n",
       "    <tr style=\"text-align: right;\">\n",
       "      <th>col_0</th>\n",
       "      <th>0</th>\n",
       "      <th>1</th>\n",
       "    </tr>\n",
       "    <tr>\n",
       "      <th>Lead</th>\n",
       "      <th></th>\n",
       "      <th></th>\n",
       "    </tr>\n",
       "  </thead>\n",
       "  <tbody>\n",
       "    <tr>\n",
       "      <th>0</th>\n",
       "      <td>378</td>\n",
       "      <td>13</td>\n",
       "    </tr>\n",
       "    <tr>\n",
       "      <th>1</th>\n",
       "      <td>33</td>\n",
       "      <td>96</td>\n",
       "    </tr>\n",
       "  </tbody>\n",
       "</table>\n",
       "</div>"
      ],
      "text/plain": [
       "col_0    0   1\n",
       "Lead          \n",
       "0      378  13\n",
       "1       33  96"
      ]
     },
     "execution_count": 1892,
     "metadata": {},
     "output_type": "execute_result"
    }
   ],
   "source": [
    "pd.crosstab(test[target], predLasso)"
   ]
  },
  {
   "cell_type": "code",
   "execution_count": 1893,
   "id": "known-tongue",
   "metadata": {},
   "outputs": [
    {
     "data": {
      "text/html": [
       "<div>\n",
       "<style scoped>\n",
       "    .dataframe tbody tr th:only-of-type {\n",
       "        vertical-align: middle;\n",
       "    }\n",
       "\n",
       "    .dataframe tbody tr th {\n",
       "        vertical-align: top;\n",
       "    }\n",
       "\n",
       "    .dataframe thead th {\n",
       "        text-align: right;\n",
       "    }\n",
       "</style>\n",
       "<table border=\"1\" class=\"dataframe\">\n",
       "  <thead>\n",
       "    <tr style=\"text-align: right;\">\n",
       "      <th>col_0</th>\n",
       "      <th>0</th>\n",
       "      <th>1</th>\n",
       "    </tr>\n",
       "    <tr>\n",
       "      <th>Lead</th>\n",
       "      <th></th>\n",
       "      <th></th>\n",
       "    </tr>\n",
       "  </thead>\n",
       "  <tbody>\n",
       "    <tr>\n",
       "      <th>0</th>\n",
       "      <td>371</td>\n",
       "      <td>20</td>\n",
       "    </tr>\n",
       "    <tr>\n",
       "      <th>1</th>\n",
       "      <td>83</td>\n",
       "      <td>46</td>\n",
       "    </tr>\n",
       "  </tbody>\n",
       "</table>\n",
       "</div>"
      ],
      "text/plain": [
       "col_0    0   1\n",
       "Lead          \n",
       "0      371  20\n",
       "1       83  46"
      ]
     },
     "execution_count": 1893,
     "metadata": {},
     "output_type": "execute_result"
    }
   ],
   "source": [
    "pd.crosstab(test[target], predRidge)"
   ]
  },
  {
   "cell_type": "code",
   "execution_count": null,
   "id": "powered-reasoning",
   "metadata": {},
   "outputs": [],
   "source": []
  }
 ],
 "metadata": {
  "kernelspec": {
   "display_name": "Python 3",
   "language": "python",
   "name": "python3"
  },
  "language_info": {
   "codemirror_mode": {
    "name": "ipython",
    "version": 3
   },
   "file_extension": ".py",
   "mimetype": "text/x-python",
   "name": "python",
   "nbconvert_exporter": "python",
   "pygments_lexer": "ipython3",
   "version": "3.8.6"
  }
 },
 "nbformat": 4,
 "nbformat_minor": 5
}
