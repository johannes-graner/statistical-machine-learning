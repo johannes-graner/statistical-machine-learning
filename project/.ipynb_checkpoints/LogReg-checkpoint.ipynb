{
 "cells": [
  {
   "cell_type": "markdown",
   "id": "adopted-browser",
   "metadata": {},
   "source": [
    "## Imports and data ingestion\n",
    "\n",
    "`linear_model` for Logistic Regression,\n",
    "\n",
    "`model_selection` for train-test split and cross-validation,\n",
    "\n",
    "`metrics` for ROC and AIC"
   ]
  },
  {
   "cell_type": "code",
   "execution_count": 1714,
   "id": "metric-secretary",
   "metadata": {},
   "outputs": [],
   "source": [
    "import numpy as np\n",
    "import pandas as pd\n",
    "import sklearn.linear_model as skl_lm\n",
    "import sklearn.ensemble as skl_en\n",
    "import sklearn.model_selection as skl_ms\n",
    "import sklearn.metrics as skl_met"
   ]
  },
  {
   "cell_type": "code",
   "execution_count": 1715,
   "id": "connected-external",
   "metadata": {},
   "outputs": [],
   "source": [
    "rawData = pd.read_csv('train.csv')"
   ]
  },
  {
   "cell_type": "markdown",
   "id": "green-luxury",
   "metadata": {},
   "source": [
    "## Get Dummies\n",
    "\n",
    "`Lead` is `0` if the lead is `female`."
   ]
  },
  {
   "cell_type": "code",
   "execution_count": 1716,
   "id": "finnish-celebration",
   "metadata": {},
   "outputs": [],
   "source": [
    "data = rawData.copy()\n",
    "data['Lead'] = pd.get_dummies(data['Lead'])"
   ]
  },
  {
   "cell_type": "markdown",
   "id": "radical-springer",
   "metadata": {},
   "source": [
    "## Feature Engineering\n",
    "\n",
    "We first extract the number of words spoken by the co-lead."
   ]
  },
  {
   "cell_type": "code",
   "execution_count": 1717,
   "id": "diverse-divide",
   "metadata": {},
   "outputs": [],
   "source": [
    "data['Number of words co-lead'] = data['Number of words lead'] - data['Difference in words lead and co-lead']"
   ]
  },
  {
   "cell_type": "markdown",
   "id": "timely-ethnic",
   "metadata": {},
   "source": [
    "It is probably more important to know proportion of words spoken by lead than the absolute number of words."
   ]
  },
  {
   "cell_type": "code",
   "execution_count": 1718,
   "id": "linear-equality",
   "metadata": {},
   "outputs": [],
   "source": [
    "data['Proportion of words lead'] = data['Number of words lead']/data['Total words']"
   ]
  },
  {
   "cell_type": "markdown",
   "id": "ecological-walnut",
   "metadata": {},
   "source": [
    "We look at the proportion of dialogue from co-lead as well as the ratio of dialogue between co-lead and lead."
   ]
  },
  {
   "cell_type": "code",
   "execution_count": 1719,
   "id": "major-application",
   "metadata": {},
   "outputs": [],
   "source": [
    "data['Proportion of words co-lead'] = data['Number of words co-lead']/data['Total words']\n",
    "data['Ratio words co-lead lead'] = data['Number of words co-lead']/data['Number of words lead']"
   ]
  },
  {
   "cell_type": "markdown",
   "id": "large-sustainability",
   "metadata": {},
   "source": [
    "Similarly for number of words spoken by male or female actors. However, here we normalize by `Total words - Number of words lead` since this only measures non-lead dialogue. We only need `Proportion of words female` since a hypothetical `Proportion of words male` is just `1 - Proportion of words female`."
   ]
  },
  {
   "cell_type": "code",
   "execution_count": 1720,
   "id": "supreme-lewis",
   "metadata": {},
   "outputs": [],
   "source": [
    "data['Proportion of words female'] = data['Number words female']/(data['Total words'] - data['Number of words lead'])"
   ]
  },
  {
   "cell_type": "markdown",
   "id": "typical-allocation",
   "metadata": {},
   "source": [
    "It might be important to look at the ratio of female actors."
   ]
  },
  {
   "cell_type": "code",
   "execution_count": 1721,
   "id": "junior-vulnerability",
   "metadata": {},
   "outputs": [],
   "source": [
    "data['Proportion of female actors'] = data['Number of female actors']/(data['Number of male actors'] + data['Number of female actors'])"
   ]
  },
  {
   "cell_type": "markdown",
   "id": "respiratory-correction",
   "metadata": {},
   "source": [
    "Perhaps it is important if the lead or co-lead is oldest."
   ]
  },
  {
   "cell_type": "code",
   "execution_count": 1722,
   "id": "initial-detroit",
   "metadata": {},
   "outputs": [],
   "source": [
    "data['Older lead'] = data['Age Lead'] < data['Age Co-Lead']\n",
    "data['Older lead'] = pd.get_dummies(data['Older lead'])"
   ]
  },
  {
   "cell_type": "code",
   "execution_count": 1723,
   "id": "generic-generator",
   "metadata": {},
   "outputs": [
    {
     "data": {
      "text/plain": [
       "Index(['Number words female', 'Total words', 'Number of words lead',\n",
       "       'Difference in words lead and co-lead', 'Number of male actors', 'Year',\n",
       "       'Number of female actors', 'Number words male', 'Gross',\n",
       "       'Mean Age Male', 'Mean Age Female', 'Age Lead', 'Age Co-Lead', 'Lead',\n",
       "       'Number of words co-lead', 'Proportion of words lead',\n",
       "       'Proportion of words co-lead', 'Ratio words co-lead lead',\n",
       "       'Proportion of words female', 'Proportion of female actors',\n",
       "       'Older lead'],\n",
       "      dtype='object')"
      ]
     },
     "execution_count": 1723,
     "metadata": {},
     "output_type": "execute_result"
    }
   ],
   "source": [
    "data.columns"
   ]
  },
  {
   "cell_type": "markdown",
   "id": "minus-mustang",
   "metadata": {},
   "source": [
    "Combining all pre-processing into a function"
   ]
  },
  {
   "cell_type": "code",
   "execution_count": 1724,
   "id": "italian-memorial",
   "metadata": {},
   "outputs": [],
   "source": [
    "def pre_process(raw_data):\n",
    "    data = raw_data.copy()\n",
    "    \n",
    "    data['Lead'] = pd.get_dummies(data['Lead'])\n",
    "    data['Number of words co-lead'] = data['Number of words lead'] - data['Difference in words lead and co-lead']\n",
    "    data['Proportion of words lead'] = data['Number of words lead']/data['Total words']\n",
    "    data['Proportion of words co-lead'] = data['Number of words co-lead']/data['Total words']\n",
    "    data['Ratio words co-lead lead'] = data['Number of words co-lead']/data['Number of words lead']\n",
    "    data['Proportion of words female'] = data['Number words female']/(data['Total words'] - data['Number of words lead'])\n",
    "    data['Proportion of female actors'] = data['Number of female actors']/(data['Number of male actors'] + data['Number of female actors'])\n",
    "    data['Older lead'] = data['Age Lead'] < data['Age Co-Lead']\n",
    "    data['Older lead'] = pd.get_dummies(data['Older lead'])\n",
    "    \n",
    "    return data"
   ]
  },
  {
   "cell_type": "markdown",
   "id": "heated-mozambique",
   "metadata": {},
   "source": [
    "# Logistic Regression"
   ]
  },
  {
   "cell_type": "code",
   "execution_count": 1725,
   "id": "anonymous-local",
   "metadata": {},
   "outputs": [],
   "source": [
    "data = pre_process(rawData)"
   ]
  },
  {
   "cell_type": "code",
   "execution_count": 1726,
   "id": "perceived-wealth",
   "metadata": {},
   "outputs": [],
   "source": [
    "config = pd.read_csv('config.csv')\n",
    "trainRatio = config['Train Ratio'][0]\n",
    "seed = config['Random Seed'][0]\n",
    "train, test = skl_ms.train_test_split(data, train_size=trainRatio) #, random_state=seed)"
   ]
  },
  {
   "cell_type": "code",
   "execution_count": 1727,
   "id": "regulated-spring",
   "metadata": {},
   "outputs": [],
   "source": [
    "rawFeatures = [\n",
    "    'Number words female',\n",
    "    'Total words',\n",
    "    'Number of words lead',\n",
    "    'Difference in words lead and co-lead',\n",
    "    'Number of male actors',\n",
    "    'Year',\n",
    "    'Number of female actors',\n",
    "    'Number words male',\n",
    "    'Gross',\n",
    "    'Mean Age Male',\n",
    "    'Mean Age Female',\n",
    "    'Age Lead',\n",
    "    'Age Co-Lead'\n",
    "]\n",
    "\n",
    "featureSet1 = [\n",
    "    'Year',\n",
    "    'Gross',\n",
    "    'Number of female actors',\n",
    "    'Proportion of female actors',\n",
    "    'Mean Age Male',\n",
    "    'Mean Age Female',\n",
    "    'Age Lead',\n",
    "    'Age Co-Lead',\n",
    "    'Total words',\n",
    "    'Proportion of words lead',\n",
    "    'Proportion of words co-lead',\n",
    "    'Ratio words co-lead lead',\n",
    "    'Proportion of words female',\n",
    "    'Older lead'\n",
    "]"
   ]
  },
  {
   "cell_type": "code",
   "execution_count": 1728,
   "id": "attempted-introduction",
   "metadata": {},
   "outputs": [],
   "source": [
    "features = featureSet1.copy()\n",
    "#features.remove('Proportion of words female')\n",
    "target = 'Lead'"
   ]
  },
  {
   "cell_type": "markdown",
   "id": "ordered-python",
   "metadata": {},
   "source": [
    "## Lasso\n",
    "\n",
    "Lasso is L1 regularization"
   ]
  },
  {
   "cell_type": "markdown",
   "id": "legendary-desperate",
   "metadata": {},
   "source": [
    "We do 20 folds, use `liblinear` solver that is better for smaller datasets and 10 threads in the cross-validation step.\n",
    "\n",
    "The method will try 10 values of lambda between `1e-4` and `1e4` to determine the best regularization parameter."
   ]
  },
  {
   "cell_type": "code",
   "execution_count": 1729,
   "id": "bearing-piano",
   "metadata": {},
   "outputs": [],
   "source": [
    "logRegLasso = skl_lm.LogisticRegressionCV(Cs=10, cv=20, penalty='l1', solver='liblinear', n_jobs=10)"
   ]
  },
  {
   "cell_type": "code",
   "execution_count": 1730,
   "id": "adverse-catch",
   "metadata": {},
   "outputs": [
    {
     "data": {
      "text/plain": [
       "LogisticRegressionCV(Cs=20, cv=20, n_jobs=10, penalty='l1', solver='liblinear')"
      ]
     },
     "execution_count": 1730,
     "metadata": {},
     "output_type": "execute_result"
    }
   ],
   "source": [
    "logRegLasso.fit(train[features], train[target])"
   ]
  },
  {
   "cell_type": "code",
   "execution_count": 1731,
   "id": "unexpected-primary",
   "metadata": {},
   "outputs": [
    {
     "data": {
      "text/plain": [
       "0.8673076923076923"
      ]
     },
     "execution_count": 1731,
     "metadata": {},
     "output_type": "execute_result"
    }
   ],
   "source": [
    "logRegLasso.score(test[features], test[target])"
   ]
  },
  {
   "cell_type": "code",
   "execution_count": 1732,
   "id": "parental-species",
   "metadata": {},
   "outputs": [
    {
     "data": {
      "text/plain": [
       "<sklearn.metrics._plot.roc_curve.RocCurveDisplay at 0x7f34e8c6cac0>"
      ]
     },
     "execution_count": 1732,
     "metadata": {},
     "output_type": "execute_result"
    },
    {
     "data": {
      "image/png": "[encoded data removed]",
      "text/plain": [
       "<Figure size 432x288 with 1 Axes>"
      ]
     },
     "metadata": {
      "needs_background": "light"
     },
     "output_type": "display_data"
    }
   ],
   "source": [
    "skl_met.plot_roc_curve(logRegLasso, test[features], test[target], name='LogReg with CV and Lasso')"
   ]
  },
  {
   "cell_type": "code",
   "execution_count": 1733,
   "id": "marked-technician",
   "metadata": {},
   "outputs": [
    {
     "data": {
      "text/plain": [
       "0.8978722532817267"
      ]
     },
     "execution_count": 1733,
     "metadata": {},
     "output_type": "execute_result"
    }
   ],
   "source": [
    "skl_met.roc_auc_score(test[target], logRegLasso.predict_proba(test[features])[:,1])"
   ]
  },
  {
   "cell_type": "code",
   "execution_count": 1734,
   "id": "limited-principle",
   "metadata": {},
   "outputs": [
    {
     "name": "stdout",
     "output_type": "stream",
     "text": [
      "              precision    recall  f1-score   support\n",
      "\n",
      "           0       0.91      0.92      0.91       397\n",
      "           1       0.73      0.70      0.71       123\n",
      "\n",
      "    accuracy                           0.87       520\n",
      "   macro avg       0.82      0.81      0.81       520\n",
      "weighted avg       0.87      0.87      0.87       520\n",
      "\n"
     ]
    }
   ],
   "source": [
    "print(skl_met.classification_report(test[target], logRegLasso.predict(test[features])))"
   ]
  },
  {
   "cell_type": "markdown",
   "id": "downtown-receiver",
   "metadata": {},
   "source": [
    "## Ridge\n",
    "\n",
    "Ridge is L2-regularization\n",
    "\n",
    "We do 10 folds, use `liblinear` solver that is better for smaller datasets and 10 threads in the cross-validation step.\n",
    "\n",
    "The method will try 100 values of lambda between `1e-4` and `1e4` to determine the best regularization parameter."
   ]
  },
  {
   "cell_type": "code",
   "execution_count": 1735,
   "id": "asian-direction",
   "metadata": {},
   "outputs": [
    {
     "data": {
      "text/plain": [
       "LogisticRegressionCV(cv=10, n_jobs=10, solver='liblinear')"
      ]
     },
     "execution_count": 1735,
     "metadata": {},
     "output_type": "execute_result"
    }
   ],
   "source": [
    "logRegRidge = skl_lm.LogisticRegressionCV(Cs=10, cv=10, penalty='l2', solver='liblinear', n_jobs=10)\n",
    "logRegRidge.fit(train[features], train[target])"
   ]
  },
  {
   "cell_type": "code",
   "execution_count": 1736,
   "id": "gentle-cargo",
   "metadata": {},
   "outputs": [
    {
     "data": {
      "text/plain": [
       "0.7961538461538461"
      ]
     },
     "execution_count": 1736,
     "metadata": {},
     "output_type": "execute_result"
    }
   ],
   "source": [
    "logRegRidge.score(test[features], test[target])"
   ]
  },
  {
   "cell_type": "code",
   "execution_count": 1737,
   "id": "protecting-sound",
   "metadata": {},
   "outputs": [
    {
     "data": {
      "text/plain": [
       "<sklearn.metrics._plot.roc_curve.RocCurveDisplay at 0x7f34e8416700>"
      ]
     },
     "execution_count": 1737,
     "metadata": {},
     "output_type": "execute_result"
    },
    {
     "data": {
      "image/png": "[encoded data removed]",
      "text/plain": [
       "<Figure size 432x288 with 1 Axes>"
      ]
     },
     "metadata": {
      "needs_background": "light"
     },
     "output_type": "display_data"
    }
   ],
   "source": [
    "skl_met.plot_roc_curve(logRegRidge, test[features], test[target], name='LogReg with CV and Ridge')"
   ]
  },
  {
   "cell_type": "code",
   "execution_count": 1738,
   "id": "liberal-graphics",
   "metadata": {},
   "outputs": [
    {
     "data": {
      "text/plain": [
       "0.835104749032377"
      ]
     },
     "execution_count": 1738,
     "metadata": {},
     "output_type": "execute_result"
    }
   ],
   "source": [
    "skl_met.roc_auc_score(test[target], logRegRidge.predict_proba(test[features])[:,1])"
   ]
  },
  {
   "cell_type": "code",
   "execution_count": 1739,
   "id": "hollywood-truth",
   "metadata": {},
   "outputs": [
    {
     "name": "stdout",
     "output_type": "stream",
     "text": [
      "              precision    recall  f1-score   support\n",
      "\n",
      "           0       0.85      0.88      0.87       397\n",
      "           1       0.58      0.51      0.54       123\n",
      "\n",
      "    accuracy                           0.80       520\n",
      "   macro avg       0.72      0.70      0.71       520\n",
      "weighted avg       0.79      0.80      0.79       520\n",
      "\n"
     ]
    }
   ],
   "source": [
    "print(skl_met.classification_report(test[target], logRegRidge.predict(test[features])))"
   ]
  },
  {
   "cell_type": "markdown",
   "id": "mexican-shelter",
   "metadata": {},
   "source": [
    "## Comparison"
   ]
  },
  {
   "cell_type": "code",
   "execution_count": 1740,
   "id": "champion-toilet",
   "metadata": {},
   "outputs": [
    {
     "data": {
      "text/plain": [
       "array([11.28837892])"
      ]
     },
     "execution_count": 1740,
     "metadata": {},
     "output_type": "execute_result"
    }
   ],
   "source": [
    "logRegLasso.C_"
   ]
  },
  {
   "cell_type": "code",
   "execution_count": 1741,
   "id": "complex-shore",
   "metadata": {},
   "outputs": [
    {
     "data": {
      "text/plain": [
       "array([2.7825594])"
      ]
     },
     "execution_count": 1741,
     "metadata": {},
     "output_type": "execute_result"
    }
   ],
   "source": [
    "logRegRidge.C_"
   ]
  },
  {
   "cell_type": "code",
   "execution_count": 1742,
   "id": "abandoned-christopher",
   "metadata": {},
   "outputs": [],
   "source": [
    "predLasso = logRegLasso.predict(test[features])\n",
    "predRidge = logRegRidge.predict(test[features])"
   ]
  },
  {
   "cell_type": "code",
   "execution_count": 1743,
   "id": "reliable-yacht",
   "metadata": {},
   "outputs": [],
   "source": [
    "logRegLassoCoefs = dict(zip(features, logRegLasso.coef_[0]))"
   ]
  },
  {
   "cell_type": "code",
   "execution_count": 1744,
   "id": "egyptian-vacuum",
   "metadata": {},
   "outputs": [
    {
     "name": "stdout",
     "output_type": "stream",
     "text": [
      "Year                                     -0.00173\n",
      "Gross                                    -0.00354\n",
      "Number of female actors                  0.50898\n",
      "Proportion of female actors              14.04969\n",
      "Mean Age Male                            0.03108\n",
      "Mean Age Female                          0.00177\n",
      "Age Lead                                 -0.01452\n",
      "Age Co-Lead                              -0.00676\n",
      "Total words                              -0.00013\n",
      "Proportion of words lead                 0.00000\n",
      "Proportion of words co-lead              8.83608\n",
      "Ratio words co-lead lead                 0.63445\n",
      "Proportion of words female               -11.52731\n",
      "Older lead                               -2.38238\n"
     ]
    }
   ],
   "source": [
    "for var, coef in logRegLassoCoefs.items():\n",
    "    print(f'{var:40} {coef:.5f}')"
   ]
  },
  {
   "cell_type": "code",
   "execution_count": 1745,
   "id": "boring-restoration",
   "metadata": {},
   "outputs": [],
   "source": [
    "logRegRidgeCoefs = dict(zip(features, logRegRidge.coef_[0]))"
   ]
  },
  {
   "cell_type": "code",
   "execution_count": 1746,
   "id": "adult-senator",
   "metadata": {},
   "outputs": [
    {
     "name": "stdout",
     "output_type": "stream",
     "text": [
      "Year                                     -0.00047\n",
      "Gross                                    -0.00252\n",
      "Number of female actors                  0.63189\n",
      "Proportion of female actors              1.87992\n",
      "Mean Age Male                            0.01559\n",
      "Mean Age Female                          -0.00381\n",
      "Age Lead                                 -0.02272\n",
      "Age Co-Lead                              -0.00406\n",
      "Total words                              -0.00014\n",
      "Proportion of words lead                 0.69341\n",
      "Proportion of words co-lead              0.97136\n",
      "Ratio words co-lead lead                 1.70811\n",
      "Proportion of words female               -3.24087\n",
      "Older lead                               -2.08292\n"
     ]
    }
   ],
   "source": [
    "for var, coef in logRegRidgeCoefs.items():\n",
    "    print(f'{var:40} {coef:.5f}')"
   ]
  },
  {
   "cell_type": "code",
   "execution_count": 1747,
   "id": "compact-blogger",
   "metadata": {},
   "outputs": [
    {
     "data": {
      "text/plain": [
       "0.8980769230769231"
      ]
     },
     "execution_count": 1747,
     "metadata": {},
     "output_type": "execute_result"
    }
   ],
   "source": [
    "sum(predLasso == predRidge)/len(test)"
   ]
  },
  {
   "cell_type": "code",
   "execution_count": 1748,
   "id": "institutional-belief",
   "metadata": {},
   "outputs": [
    {
     "data": {
      "text/html": [
       "<div>\n",
       "<style scoped>\n",
       "    .dataframe tbody tr th:only-of-type {\n",
       "        vertical-align: middle;\n",
       "    }\n",
       "\n",
       "    .dataframe tbody tr th {\n",
       "        vertical-align: top;\n",
       "    }\n",
       "\n",
       "    .dataframe thead th {\n",
       "        text-align: right;\n",
       "    }\n",
       "</style>\n",
       "<table border=\"1\" class=\"dataframe\">\n",
       "  <thead>\n",
       "    <tr style=\"text-align: right;\">\n",
       "      <th>col_0</th>\n",
       "      <th>0</th>\n",
       "      <th>1</th>\n",
       "    </tr>\n",
       "    <tr>\n",
       "      <th>Lead</th>\n",
       "      <th></th>\n",
       "      <th></th>\n",
       "    </tr>\n",
       "  </thead>\n",
       "  <tbody>\n",
       "    <tr>\n",
       "      <th>0</th>\n",
       "      <td>365</td>\n",
       "      <td>32</td>\n",
       "    </tr>\n",
       "    <tr>\n",
       "      <th>1</th>\n",
       "      <td>37</td>\n",
       "      <td>86</td>\n",
       "    </tr>\n",
       "  </tbody>\n",
       "</table>\n",
       "</div>"
      ],
      "text/plain": [
       "col_0    0   1\n",
       "Lead          \n",
       "0      365  32\n",
       "1       37  86"
      ]
     },
     "execution_count": 1748,
     "metadata": {},
     "output_type": "execute_result"
    }
   ],
   "source": [
    "pd.crosstab(test[target], predLasso)"
   ]
  },
  {
   "cell_type": "code",
   "execution_count": 1749,
   "id": "native-second",
   "metadata": {},
   "outputs": [
    {
     "data": {
      "text/html": [
       "<div>\n",
       "<style scoped>\n",
       "    .dataframe tbody tr th:only-of-type {\n",
       "        vertical-align: middle;\n",
       "    }\n",
       "\n",
       "    .dataframe tbody tr th {\n",
       "        vertical-align: top;\n",
       "    }\n",
       "\n",
       "    .dataframe thead th {\n",
       "        text-align: right;\n",
       "    }\n",
       "</style>\n",
       "<table border=\"1\" class=\"dataframe\">\n",
       "  <thead>\n",
       "    <tr style=\"text-align: right;\">\n",
       "      <th>col_0</th>\n",
       "      <th>0</th>\n",
       "      <th>1</th>\n",
       "    </tr>\n",
       "    <tr>\n",
       "      <th>Lead</th>\n",
       "      <th></th>\n",
       "      <th></th>\n",
       "    </tr>\n",
       "  </thead>\n",
       "  <tbody>\n",
       "    <tr>\n",
       "      <th>0</th>\n",
       "      <td>351</td>\n",
       "      <td>46</td>\n",
       "    </tr>\n",
       "    <tr>\n",
       "      <th>1</th>\n",
       "      <td>60</td>\n",
       "      <td>63</td>\n",
       "    </tr>\n",
       "  </tbody>\n",
       "</table>\n",
       "</div>"
      ],
      "text/plain": [
       "col_0    0   1\n",
       "Lead          \n",
       "0      351  46\n",
       "1       60  63"
      ]
     },
     "execution_count": 1749,
     "metadata": {},
     "output_type": "execute_result"
    }
   ],
   "source": [
    "pd.crosstab(test[target], predRidge)"
   ]
  },
  {
   "cell_type": "code",
   "execution_count": null,
   "id": "breathing-nevada",
   "metadata": {},
   "outputs": [],
   "source": []
  }
 ],
 "metadata": {
  "kernelspec": {
   "display_name": "Python 3",
   "language": "python",
   "name": "python3"
  },
  "language_info": {
   "codemirror_mode": {
    "name": "ipython",
    "version": 3
   },
   "file_extension": ".py",
   "mimetype": "text/x-python",
   "name": "python",
   "nbconvert_exporter": "python",
   "pygments_lexer": "ipython3",
   "version": "3.8.6"
  }
 },
 "nbformat": 4,
 "nbformat_minor": 5
}
