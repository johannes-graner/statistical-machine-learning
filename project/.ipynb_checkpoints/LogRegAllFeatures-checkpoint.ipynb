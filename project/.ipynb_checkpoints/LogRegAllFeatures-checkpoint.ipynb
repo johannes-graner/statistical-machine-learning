{
 "cells": [
  {
   "cell_type": "markdown",
   "id": "genetic-darkness",
   "metadata": {},
   "source": [
    "## Imports and data ingestion\n",
    "\n",
    "`linear_model` for Logistic Regression,\n",
    "\n",
    "`model_selection` for train-test split and cross-validation,\n",
    "\n",
    "`metrics` for ROC and AIC"
   ]
  },
  {
   "cell_type": "code",
   "execution_count": 1,
   "id": "hybrid-custody",
   "metadata": {},
   "outputs": [],
   "source": [
    "import numpy as np\n",
    "import pandas as pd\n",
    "import sklearn.linear_model as skl_lm\n",
    "import sklearn.model_selection as skl_ms\n",
    "import sklearn.metrics as skl_met"
   ]
  },
  {
   "cell_type": "code",
   "execution_count": 2,
   "id": "plain-mileage",
   "metadata": {},
   "outputs": [],
   "source": [
    "rawData = pd.read_csv('train.csv')"
   ]
  },
  {
   "cell_type": "markdown",
   "id": "significant-beauty",
   "metadata": {},
   "source": [
    "## Get Dummies\n",
    "\n",
    "`Lead` is `0` if the lead is `female`."
   ]
  },
  {
   "cell_type": "code",
   "execution_count": 3,
   "id": "acknowledged-storage",
   "metadata": {},
   "outputs": [],
   "source": [
    "data = rawData.copy()\n",
    "data['Lead'] = pd.get_dummies(data['Lead'])"
   ]
  },
  {
   "cell_type": "markdown",
   "id": "large-plate",
   "metadata": {},
   "source": [
    "## Feature Engineering\n",
    "\n",
    "We first extract the number of words spoken by the co-lead."
   ]
  },
  {
   "cell_type": "code",
   "execution_count": 4,
   "id": "selected-genius",
   "metadata": {},
   "outputs": [],
   "source": [
    "data['Number of words co-lead'] = data['Number of words lead'] - data['Difference in words lead and co-lead']"
   ]
  },
  {
   "cell_type": "markdown",
   "id": "subjective-specific",
   "metadata": {},
   "source": [
    "It is probably more important to know proportion of words spoken by lead than the absolute number of words."
   ]
  },
  {
   "cell_type": "code",
   "execution_count": 5,
   "id": "south-appreciation",
   "metadata": {},
   "outputs": [],
   "source": [
    "data['Proportion of words lead'] = data['Number of words lead']/data['Total words']"
   ]
  },
  {
   "cell_type": "markdown",
   "id": "encouraging-assurance",
   "metadata": {},
   "source": [
    "We look at the proportion of dialogue from co-lead as well as the ratio of dialogue between co-lead and lead."
   ]
  },
  {
   "cell_type": "code",
   "execution_count": 6,
   "id": "joint-amazon",
   "metadata": {},
   "outputs": [],
   "source": [
    "data['Proportion of words co-lead'] = data['Number of words co-lead']/data['Total words']\n",
    "data['Ratio words co-lead lead'] = data['Number of words co-lead']/data['Number of words lead']"
   ]
  },
  {
   "cell_type": "markdown",
   "id": "coordinate-secretariat",
   "metadata": {},
   "source": [
    "Similarly for number of words spoken by male or female actors. However, here we normalize by `Total words - Number of words lead` since this only measures non-lead dialogue. We only need `Proportion of words female` since a hypothetical `Proportion of words male` is just `1 - Proportion of words female`."
   ]
  },
  {
   "cell_type": "code",
   "execution_count": 7,
   "id": "professional-subscription",
   "metadata": {},
   "outputs": [],
   "source": [
    "data['Proportion of words female'] = data['Number words female']/(data['Total words'] - data['Number of words lead'])"
   ]
  },
  {
   "cell_type": "markdown",
   "id": "dying-wealth",
   "metadata": {},
   "source": [
    "It might be important to look at the ratio of female actors."
   ]
  },
  {
   "cell_type": "code",
   "execution_count": 8,
   "id": "included-shadow",
   "metadata": {},
   "outputs": [],
   "source": [
    "data['Proportion of female actors'] = data['Number of female actors']/(data['Number of male actors'] + data['Number of female actors'])"
   ]
  },
  {
   "cell_type": "markdown",
   "id": "finnish-commons",
   "metadata": {},
   "source": [
    "Perhaps it is important if the lead or co-lead is oldest."
   ]
  },
  {
   "cell_type": "code",
   "execution_count": 9,
   "id": "fifty-ambassador",
   "metadata": {},
   "outputs": [],
   "source": [
    "data['Older lead'] = data['Age Lead'] < data['Age Co-Lead']\n",
    "data['Older lead'] = pd.get_dummies(data['Older lead'])"
   ]
  },
  {
   "cell_type": "code",
   "execution_count": 10,
   "id": "abroad-bosnia",
   "metadata": {},
   "outputs": [
    {
     "data": {
      "text/plain": [
       "Index(['Number words female', 'Total words', 'Number of words lead',\n",
       "       'Difference in words lead and co-lead', 'Number of male actors', 'Year',\n",
       "       'Number of female actors', 'Number words male', 'Gross',\n",
       "       'Mean Age Male', 'Mean Age Female', 'Age Lead', 'Age Co-Lead', 'Lead',\n",
       "       'Number of words co-lead', 'Proportion of words lead',\n",
       "       'Proportion of words co-lead', 'Ratio words co-lead lead',\n",
       "       'Proportion of words female', 'Proportion of female actors',\n",
       "       'Older lead'],\n",
       "      dtype='object')"
      ]
     },
     "execution_count": 10,
     "metadata": {},
     "output_type": "execute_result"
    }
   ],
   "source": [
    "data.columns"
   ]
  },
  {
   "cell_type": "markdown",
   "id": "honest-castle",
   "metadata": {},
   "source": [
    "# Logistic Regression"
   ]
  },
  {
   "cell_type": "code",
   "execution_count": 11,
   "id": "based-merchandise",
   "metadata": {},
   "outputs": [],
   "source": [
    "config = pd.read_csv('config.csv')\n",
    "trainRatio = config['Train Ratio'][0]\n",
    "train, test = skl_ms.train_test_split(data, train_size=trainRatio, random_state=1234)"
   ]
  },
  {
   "cell_type": "code",
   "execution_count": 12,
   "id": "specified-insertion",
   "metadata": {},
   "outputs": [],
   "source": [
    "rawFeatures = [\n",
    "    'Number words female',\n",
    "    'Total words',\n",
    "    'Number of words lead',\n",
    "    'Difference in words lead and co-lead',\n",
    "    'Number of male actors',\n",
    "    'Year',\n",
    "    'Number of female actors',\n",
    "    'Number words male',\n",
    "    'Gross',\n",
    "    'Mean Age Male',\n",
    "    'Mean Age Female',\n",
    "    'Age Lead',\n",
    "    'Age Co-Lead'\n",
    "]\n",
    "\n",
    "featureSet1 = [\n",
    "    'Year',\n",
    "    'Gross',\n",
    "    'Number of female actors',\n",
    "    'Proportion of female actors',\n",
    "    'Mean Age Male',\n",
    "    'Mean Age Female',\n",
    "    'Age Lead',\n",
    "    'Age Co-Lead',\n",
    "    'Total words',\n",
    "    'Proportion of words lead',\n",
    "    'Proportion of words co-lead',\n",
    "    'Ratio words co-lead lead',\n",
    "    'Proportion of words female',\n",
    "    'Older lead'\n",
    "]"
   ]
  },
  {
   "cell_type": "code",
   "execution_count": 13,
   "id": "perceived-postage",
   "metadata": {},
   "outputs": [],
   "source": [
    "features = list(train.columns.drop('Lead'))\n",
    "target = 'Lead'"
   ]
  },
  {
   "cell_type": "markdown",
   "id": "explicit-progress",
   "metadata": {},
   "source": [
    "## Lasso\n",
    "\n",
    "Lasso is L1 regularization"
   ]
  },
  {
   "cell_type": "markdown",
   "id": "persistent-malpractice",
   "metadata": {},
   "source": [
    "We do 10 folds, use `liblinear` solver that is better for smaller datasets and 10 threads in the cross-validation step.\n",
    "\n",
    "The method will try 100 values of lambda between `1e-4` and `1e4` to determine the best regularization parameter."
   ]
  },
  {
   "cell_type": "code",
   "execution_count": 14,
   "id": "proprietary-creation",
   "metadata": {},
   "outputs": [],
   "source": [
    "logRegLasso = skl_lm.LogisticRegressionCV(Cs=10, cv=10, penalty='l1', solver='liblinear', n_jobs=10)"
   ]
  },
  {
   "cell_type": "code",
   "execution_count": 15,
   "id": "appropriate-satin",
   "metadata": {},
   "outputs": [
    {
     "data": {
      "text/plain": [
       "LogisticRegressionCV(cv=10, n_jobs=10, penalty='l1', solver='liblinear')"
      ]
     },
     "execution_count": 15,
     "metadata": {},
     "output_type": "execute_result"
    }
   ],
   "source": [
    "logRegLasso.fit(train[features], train[target])"
   ]
  },
  {
   "cell_type": "code",
   "execution_count": 16,
   "id": "becoming-session",
   "metadata": {},
   "outputs": [
    {
     "data": {
      "text/plain": [
       "0.8884615384615384"
      ]
     },
     "execution_count": 16,
     "metadata": {},
     "output_type": "execute_result"
    }
   ],
   "source": [
    "logRegLasso.score(test[features], test[target])"
   ]
  },
  {
   "cell_type": "code",
   "execution_count": 17,
   "id": "buried-filling",
   "metadata": {},
   "outputs": [
    {
     "data": {
      "text/plain": [
       "<sklearn.metrics._plot.roc_curve.RocCurveDisplay at 0x7f4748ab8730>"
      ]
     },
     "execution_count": 17,
     "metadata": {},
     "output_type": "execute_result"
    },
    {
     "data": {
      "image/png": "[encoded data removed]",
      "text/plain": [
       "<Figure size 432x288 with 1 Axes>"
      ]
     },
     "metadata": {
      "needs_background": "light"
     },
     "output_type": "display_data"
    }
   ],
   "source": [
    "skl_met.plot_roc_curve(logRegLasso, test[features], test[target], name='LogReg with CV and Lasso')"
   ]
  },
  {
   "cell_type": "code",
   "execution_count": 18,
   "id": "fewer-superintendent",
   "metadata": {},
   "outputs": [
    {
     "data": {
      "text/plain": [
       "0.9168176950325398"
      ]
     },
     "execution_count": 18,
     "metadata": {},
     "output_type": "execute_result"
    }
   ],
   "source": [
    "skl_met.roc_auc_score(test[target], logRegLasso.predict_proba(test[features])[:,1])"
   ]
  },
  {
   "cell_type": "code",
   "execution_count": 19,
   "id": "contemporary-forge",
   "metadata": {},
   "outputs": [
    {
     "name": "stdout",
     "output_type": "stream",
     "text": [
      "              precision    recall  f1-score   support\n",
      "\n",
      "           0       0.92      0.93      0.93       398\n",
      "           1       0.78      0.74      0.76       122\n",
      "\n",
      "    accuracy                           0.89       520\n",
      "   macro avg       0.85      0.84      0.84       520\n",
      "weighted avg       0.89      0.89      0.89       520\n",
      "\n"
     ]
    }
   ],
   "source": [
    "print(skl_met.classification_report(test[target], logRegLasso.predict(test[features])))"
   ]
  },
  {
   "cell_type": "markdown",
   "id": "shaped-stevens",
   "metadata": {},
   "source": [
    "## Ridge\n",
    "\n",
    "Ridge is L2-regularization\n",
    "\n",
    "We do 10 folds, use `liblinear` solver that is better for smaller datasets and 10 threads in the cross-validation step.\n",
    "\n",
    "The method will try 100 values of lambda between `1e-4` and `1e4` to determine the best regularization parameter."
   ]
  },
  {
   "cell_type": "code",
   "execution_count": 20,
   "id": "found-cannon",
   "metadata": {},
   "outputs": [
    {
     "data": {
      "text/plain": [
       "LogisticRegressionCV(cv=10, n_jobs=10, solver='liblinear')"
      ]
     },
     "execution_count": 20,
     "metadata": {},
     "output_type": "execute_result"
    }
   ],
   "source": [
    "logRegRidge = skl_lm.LogisticRegressionCV(Cs=10, cv=10, penalty='l2', solver='liblinear', n_jobs=10)\n",
    "logRegRidge.fit(train[features], train[target])"
   ]
  },
  {
   "cell_type": "code",
   "execution_count": 21,
   "id": "every-pacific",
   "metadata": {},
   "outputs": [
    {
     "data": {
      "text/plain": [
       "0.8826923076923077"
      ]
     },
     "execution_count": 21,
     "metadata": {},
     "output_type": "execute_result"
    }
   ],
   "source": [
    "logRegRidge.score(test[features], test[target])"
   ]
  },
  {
   "cell_type": "code",
   "execution_count": 22,
   "id": "straight-western",
   "metadata": {},
   "outputs": [
    {
     "data": {
      "text/plain": [
       "<sklearn.metrics._plot.roc_curve.RocCurveDisplay at 0x7f4710555b20>"
      ]
     },
     "execution_count": 22,
     "metadata": {},
     "output_type": "execute_result"
    },
    {
     "data": {
      "image/png": "[encoded data removed]",
      "text/plain": [
       "<Figure size 432x288 with 1 Axes>"
      ]
     },
     "metadata": {
      "needs_background": "light"
     },
     "output_type": "display_data"
    }
   ],
   "source": [
    "skl_met.plot_roc_curve(logRegRidge, test[features], test[target], name='LogReg with CV and Ridge')"
   ]
  },
  {
   "cell_type": "code",
   "execution_count": 23,
   "id": "divided-diagnosis",
   "metadata": {},
   "outputs": [
    {
     "data": {
      "text/plain": [
       "0.892042178103633"
      ]
     },
     "execution_count": 23,
     "metadata": {},
     "output_type": "execute_result"
    }
   ],
   "source": [
    "skl_met.roc_auc_score(test[target], logRegRidge.predict_proba(test[features])[:,1])"
   ]
  },
  {
   "cell_type": "code",
   "execution_count": 24,
   "id": "younger-innocent",
   "metadata": {},
   "outputs": [
    {
     "name": "stdout",
     "output_type": "stream",
     "text": [
      "              precision    recall  f1-score   support\n",
      "\n",
      "           0       0.89      0.96      0.93       398\n",
      "           1       0.84      0.61      0.71       122\n",
      "\n",
      "    accuracy                           0.88       520\n",
      "   macro avg       0.87      0.79      0.82       520\n",
      "weighted avg       0.88      0.88      0.88       520\n",
      "\n"
     ]
    }
   ],
   "source": [
    "print(skl_met.classification_report(test[target], logRegRidge.predict(test[features])))"
   ]
  },
  {
   "cell_type": "markdown",
   "id": "exotic-former",
   "metadata": {},
   "source": [
    "## Comparison"
   ]
  },
  {
   "cell_type": "code",
   "execution_count": 26,
   "id": "fancy-deposit",
   "metadata": {},
   "outputs": [
    {
     "data": {
      "text/plain": [
       "array([21.5443469])"
      ]
     },
     "execution_count": 26,
     "metadata": {},
     "output_type": "execute_result"
    }
   ],
   "source": [
    "logRegLasso.C_"
   ]
  },
  {
   "cell_type": "code",
   "execution_count": 25,
   "id": "official-settle",
   "metadata": {},
   "outputs": [
    {
     "data": {
      "text/plain": [
       "array([0.04641589])"
      ]
     },
     "execution_count": 25,
     "metadata": {},
     "output_type": "execute_result"
    }
   ],
   "source": [
    "logRegRidge.C_"
   ]
  },
  {
   "cell_type": "code",
   "execution_count": 27,
   "id": "opening-charleston",
   "metadata": {},
   "outputs": [],
   "source": [
    "predLasso = logRegLasso.predict(test[features])\n",
    "predRidge = logRegRidge.predict(test[features])"
   ]
  },
  {
   "cell_type": "code",
   "execution_count": 28,
   "id": "choice-anniversary",
   "metadata": {},
   "outputs": [],
   "source": [
    "logRegLassoCoefs = dict(zip(features, logRegLasso.coef_[0]))"
   ]
  },
  {
   "cell_type": "code",
   "execution_count": 29,
   "id": "empirical-moses",
   "metadata": {},
   "outputs": [
    {
     "name": "stdout",
     "output_type": "stream",
     "text": [
      "Number words female                      0.00032\n",
      "Total words                              0.00002\n",
      "Number of words lead                     -0.00009\n",
      "Difference in words lead and co-lead     -0.00004\n",
      "Number of male actors                    0.21023\n",
      "Year                                     -0.00480\n",
      "Number of female actors                  0.00478\n",
      "Number words male                        -0.00009\n",
      "Gross                                    -0.00116\n",
      "Mean Age Male                            0.03624\n",
      "Mean Age Female                          0.01046\n",
      "Age Lead                                 -0.02771\n",
      "Age Co-Lead                              0.00604\n",
      "Number of words co-lead                  -0.00054\n",
      "Proportion of words lead                 6.13634\n",
      "Proportion of words co-lead              10.44758\n",
      "Ratio words co-lead lead                 3.39371\n",
      "Proportion of words female               -15.51278\n",
      "Proportion of female actors              21.26522\n",
      "Older lead                               -1.56353\n"
     ]
    }
   ],
   "source": [
    "for var, coef in logRegLassoCoefs.items():\n",
    "    print(f'{var:40} {coef:.5f}')"
   ]
  },
  {
   "cell_type": "code",
   "execution_count": 30,
   "id": "overall-requirement",
   "metadata": {},
   "outputs": [],
   "source": [
    "logRegRidgeCoefs = dict(zip(features, logRegRidge.coef_[0]))"
   ]
  },
  {
   "cell_type": "code",
   "execution_count": 31,
   "id": "sublime-latex",
   "metadata": {},
   "outputs": [
    {
     "name": "stdout",
     "output_type": "stream",
     "text": [
      "Number words female                      -0.00053\n",
      "Total words                              -0.00010\n",
      "Number of words lead                     0.00016\n",
      "Difference in words lead and co-lead     -0.00024\n",
      "Number of male actors                    -0.26198\n",
      "Year                                     -0.00076\n",
      "Number of female actors                  0.62222\n",
      "Number words male                        0.00027\n",
      "Gross                                    -0.00055\n",
      "Mean Age Male                            0.03850\n",
      "Mean Age Female                          -0.00478\n",
      "Age Lead                                 -0.06568\n",
      "Age Co-Lead                              0.04164\n",
      "Number of words co-lead                  0.00040\n",
      "Proportion of words lead                 0.00362\n",
      "Proportion of words co-lead              0.00482\n",
      "Ratio words co-lead lead                 0.02950\n",
      "Proportion of words female               -0.03577\n",
      "Proportion of female actors              0.05152\n",
      "Older lead                               -0.11281\n"
     ]
    }
   ],
   "source": [
    "for var, coef in logRegRidgeCoefs.items():\n",
    "    print(f'{var:40} {coef:.5f}')"
   ]
  },
  {
   "cell_type": "code",
   "execution_count": 32,
   "id": "transsexual-workplace",
   "metadata": {},
   "outputs": [
    {
     "data": {
      "text/plain": [
       "0.8942307692307693"
      ]
     },
     "execution_count": 32,
     "metadata": {},
     "output_type": "execute_result"
    }
   ],
   "source": [
    "sum(predLasso == predRidge)/len(test)"
   ]
  },
  {
   "cell_type": "code",
   "execution_count": 33,
   "id": "utility-lighting",
   "metadata": {},
   "outputs": [
    {
     "data": {
      "text/html": [
       "<div>\n",
       "<style scoped>\n",
       "    .dataframe tbody tr th:only-of-type {\n",
       "        vertical-align: middle;\n",
       "    }\n",
       "\n",
       "    .dataframe tbody tr th {\n",
       "        vertical-align: top;\n",
       "    }\n",
       "\n",
       "    .dataframe thead th {\n",
       "        text-align: right;\n",
       "    }\n",
       "</style>\n",
       "<table border=\"1\" class=\"dataframe\">\n",
       "  <thead>\n",
       "    <tr style=\"text-align: right;\">\n",
       "      <th>col_0</th>\n",
       "      <th>0</th>\n",
       "      <th>1</th>\n",
       "    </tr>\n",
       "    <tr>\n",
       "      <th>Lead</th>\n",
       "      <th></th>\n",
       "      <th></th>\n",
       "    </tr>\n",
       "  </thead>\n",
       "  <tbody>\n",
       "    <tr>\n",
       "      <th>0</th>\n",
       "      <td>372</td>\n",
       "      <td>26</td>\n",
       "    </tr>\n",
       "    <tr>\n",
       "      <th>1</th>\n",
       "      <td>32</td>\n",
       "      <td>90</td>\n",
       "    </tr>\n",
       "  </tbody>\n",
       "</table>\n",
       "</div>"
      ],
      "text/plain": [
       "col_0    0   1\n",
       "Lead          \n",
       "0      372  26\n",
       "1       32  90"
      ]
     },
     "execution_count": 33,
     "metadata": {},
     "output_type": "execute_result"
    }
   ],
   "source": [
    "pd.crosstab(test[target], predLasso)"
   ]
  },
  {
   "cell_type": "code",
   "execution_count": 34,
   "id": "catholic-linux",
   "metadata": {},
   "outputs": [
    {
     "data": {
      "text/html": [
       "<div>\n",
       "<style scoped>\n",
       "    .dataframe tbody tr th:only-of-type {\n",
       "        vertical-align: middle;\n",
       "    }\n",
       "\n",
       "    .dataframe tbody tr th {\n",
       "        vertical-align: top;\n",
       "    }\n",
       "\n",
       "    .dataframe thead th {\n",
       "        text-align: right;\n",
       "    }\n",
       "</style>\n",
       "<table border=\"1\" class=\"dataframe\">\n",
       "  <thead>\n",
       "    <tr style=\"text-align: right;\">\n",
       "      <th>col_0</th>\n",
       "      <th>0</th>\n",
       "      <th>1</th>\n",
       "    </tr>\n",
       "    <tr>\n",
       "      <th>Lead</th>\n",
       "      <th></th>\n",
       "      <th></th>\n",
       "    </tr>\n",
       "  </thead>\n",
       "  <tbody>\n",
       "    <tr>\n",
       "      <th>0</th>\n",
       "      <td>384</td>\n",
       "      <td>14</td>\n",
       "    </tr>\n",
       "    <tr>\n",
       "      <th>1</th>\n",
       "      <td>47</td>\n",
       "      <td>75</td>\n",
       "    </tr>\n",
       "  </tbody>\n",
       "</table>\n",
       "</div>"
      ],
      "text/plain": [
       "col_0    0   1\n",
       "Lead          \n",
       "0      384  14\n",
       "1       47  75"
      ]
     },
     "execution_count": 34,
     "metadata": {},
     "output_type": "execute_result"
    }
   ],
   "source": [
    "pd.crosstab(test[target], predRidge)"
   ]
  },
  {
   "cell_type": "code",
   "execution_count": null,
   "id": "rental-cherry",
   "metadata": {},
   "outputs": [],
   "source": []
  }
 ],
 "metadata": {
  "kernelspec": {
   "display_name": "Python 3",
   "language": "python",
   "name": "python3"
  },
  "language_info": {
   "codemirror_mode": {
    "name": "ipython",
    "version": 3
   },
   "file_extension": ".py",
   "mimetype": "text/x-python",
   "name": "python",
   "nbconvert_exporter": "python",
   "pygments_lexer": "ipython3",
   "version": "3.8.6"
  }
 },
 "nbformat": 4,
 "nbformat_minor": 5
}
