{
 "cells": [
  {
   "cell_type": "code",
   "execution_count": 35,
   "id": "million-representative",
   "metadata": {},
   "outputs": [],
   "source": [
    "import numpy as np\n",
    "import pandas as pd\n",
    "import matplotlib.pyplot as plt\n",
    "import sklearn.ensemble as skl_en\n",
    "import sklearn.model_selection as skl_ms\n",
    "import sklearn.metrics as skl_met\n",
    "import sklearn.preprocessing as skl_pre"
   ]
  },
  {
   "cell_type": "code",
   "execution_count": 36,
   "id": "associate-complexity",
   "metadata": {},
   "outputs": [],
   "source": [
    "rawData = pd.read_csv('train.csv')"
   ]
  },
  {
   "cell_type": "code",
   "execution_count": 37,
   "id": "acceptable-geneva",
   "metadata": {},
   "outputs": [],
   "source": [
    "data = rawData.copy()\n",
    "data['Lead'] = pd.get_dummies(data['Lead'])"
   ]
  },
  {
   "cell_type": "code",
   "execution_count": 38,
   "id": "impossible-numbers",
   "metadata": {},
   "outputs": [],
   "source": [
    "cols_to_norm = [\n",
    "    'Total words',\n",
    "    'Year',\n",
    "    'Gross',\n",
    "    'Mean Age Male',\n",
    "    'Mean Age Female',\n",
    "    'Age Lead',\n",
    "    'Age Co-Lead',\n",
    "    'Number of actors'#,\n",
    "    #'Proportion of words lead',\n",
    "    #'Proportion of words co-lead',\n",
    "    #'Ratio words co-lead lead',\n",
    "    #'Proportion of words female',\n",
    "    #'Proportion of female actors',\n",
    "]"
   ]
  },
  {
   "cell_type": "code",
   "execution_count": 39,
   "id": "enclosed-campus",
   "metadata": {},
   "outputs": [],
   "source": [
    "def pre_process(raw_data, cols_to_norm):\n",
    "    data = raw_data.copy()\n",
    "    \n",
    "    data['Lead'] = pd.get_dummies(data['Lead'])\n",
    "    data['Number of words co-lead'] = data['Number of words lead'] - data['Difference in words lead and co-lead']\n",
    "    data['Proportion of words lead'] = data['Number of words lead']/data['Total words']\n",
    "    data['Proportion of words co-lead'] = data['Number of words co-lead']/data['Total words']\n",
    "    data['Ratio words co-lead lead'] = data['Number of words co-lead']/data['Number of words lead']\n",
    "    data['Proportion of words female'] = data['Number words female']/(data['Total words'] - data['Number of words lead'])\n",
    "    data['Number of actors'] = data['Number of male actors'] + data['Number of female actors']\n",
    "    data['Proportion of female actors'] = data['Number of female actors']/data['Number of actors']\n",
    "    data['Older lead'] = data['Age Lead'] < data['Age Co-Lead']\n",
    "    data['Older lead'] = pd.get_dummies(data['Older lead'])\n",
    "    \n",
    "    scaler = skl_pre.StandardScaler()\n",
    "    data[cols_to_norm] = scaler.fit_transform(data[cols_to_norm])\n",
    "    \n",
    "    return data"
   ]
  },
  {
   "cell_type": "code",
   "execution_count": 40,
   "id": "strategic-coverage",
   "metadata": {},
   "outputs": [],
   "source": [
    "def fit_and_test(classifier, train, test, features, target, suppress_output = False):\n",
    "    classifier.fit(train[features], train[target])\n",
    "    if not suppress_output:\n",
    "        skl_met.plot_roc_curve(classifier, test[features], test[target])\n",
    "        print('accuracy: ' + str(classifier.score(test[features], test[target])))\n",
    "        print('     auc: ' + str(skl_met.roc_auc_score(test[target], classifier.predict_proba(test[features])[:,1])) + '\\n')\n",
    "        print(skl_met.classification_report(test[target], classifier.predict(test[features])))\n",
    "    return classifier"
   ]
  },
  {
   "cell_type": "code",
   "execution_count": 41,
   "id": "occasional-favorite",
   "metadata": {},
   "outputs": [],
   "source": [
    "features = [\n",
    "    'Year',\n",
    "    'Gross',\n",
    "    'Number of actors',\n",
    "    'Proportion of female actors',\n",
    "    'Mean Age Male',\n",
    "    'Mean Age Female',\n",
    "    'Age Lead',\n",
    "    'Age Co-Lead',\n",
    "    'Total words',\n",
    "    'Proportion of words lead',\n",
    "    'Proportion of words co-lead',\n",
    "    'Ratio words co-lead lead',\n",
    "    'Proportion of words female',\n",
    "    'Older lead'\n",
    "]\n",
    "target = 'Lead'"
   ]
  },
  {
   "cell_type": "code",
   "execution_count": 42,
   "id": "electrical-linux",
   "metadata": {},
   "outputs": [],
   "source": [
    "data = pre_process(rawData, cols_to_norm)"
   ]
  },
  {
   "cell_type": "code",
   "execution_count": 43,
   "id": "alpine-reform",
   "metadata": {},
   "outputs": [],
   "source": [
    "config = pd.read_csv('config.csv')\n",
    "trainRatio = config['Train Ratio'][0]\n",
    "seed = config['Random Seed'][0]\n",
    "train, test = skl_ms.train_test_split(data, train_size=trainRatio) #, random_state=seed)"
   ]
  },
  {
   "cell_type": "markdown",
   "id": "cardiovascular-perspective",
   "metadata": {},
   "source": [
    "## Random forest (bagging)"
   ]
  },
  {
   "cell_type": "code",
   "execution_count": 44,
   "id": "neither-black",
   "metadata": {},
   "outputs": [
    {
     "name": "stdout",
     "output_type": "stream",
     "text": [
      "accuracy: 0.9134615384615384\n",
      "     auc: 0.9260061919504644\n",
      "\n",
      "              precision    recall  f1-score   support\n",
      "\n",
      "           0       0.91      0.99      0.95        85\n",
      "           1       0.92      0.58      0.71        19\n",
      "\n",
      "    accuracy                           0.91       104\n",
      "   macro avg       0.91      0.78      0.83       104\n",
      "weighted avg       0.91      0.91      0.91       104\n",
      "\n"
     ]
    },
    {
     "data": {
      "text/plain": [
       "RandomForestClassifier()"
      ]
     },
     "execution_count": 44,
     "metadata": {},
     "output_type": "execute_result"
    },
    {
     "data": {
      "image/png": "[encoded data removed]",
      "text/plain": [
       "<Figure size 432x288 with 1 Axes>"
      ]
     },
     "metadata": {
      "needs_background": "light"
     },
     "output_type": "display_data"
    }
   ],
   "source": [
    "fit_and_test(skl_en.RandomForestClassifier(), train, test, features, target)"
   ]
  },
  {
   "cell_type": "code",
   "execution_count": 46,
   "id": "textile-interval",
   "metadata": {},
   "outputs": [
    {
     "name": "stdout",
     "output_type": "stream",
     "text": [
      "CPU times: user 18.2 s, sys: 58.9 ms, total: 18.3 s\n",
      "Wall time: 18.3 s\n"
     ]
    }
   ],
   "source": [
    "%%time\n",
    "B = 100\n",
    "accuracies = []\n",
    "aucs = []\n",
    "for i in range(B):\n",
    "    train, test = skl_ms.train_test_split(data, train_size=trainRatio)\n",
    "    forest = fit_and_test(skl_en.RandomForestClassifier(), train, test, features, target, suppress_output=True)\n",
    "    accuracies.append(forest.score(test[features], test[target]))\n",
    "    aucs.append(skl_met.roc_auc_score(test[target], forest.predict_proba(test[features])[:,1]))"
   ]
  },
  {
   "cell_type": "code",
   "execution_count": 47,
   "id": "posted-incident",
   "metadata": {},
   "outputs": [
    {
     "name": "stdout",
     "output_type": "stream",
     "text": [
      "mean accuracy: 0.9023076923076924\n",
      "     mean auc: 0.9464823074276127\n"
     ]
    }
   ],
   "source": [
    "print('mean accuracy: ' + str(np.mean(accuracies)))\n",
    "print('     mean auc: ' + str(np.mean(aucs)))"
   ]
  },
  {
   "cell_type": "markdown",
   "id": "reliable-heading",
   "metadata": {},
   "source": [
    "## Gradient Boosted Trees"
   ]
  },
  {
   "cell_type": "code",
   "execution_count": 45,
   "id": "acting-title",
   "metadata": {},
   "outputs": [
    {
     "name": "stdout",
     "output_type": "stream",
     "text": [
      "accuracy: 0.9423076923076923\n",
      "     auc: 0.9721362229102167\n",
      "\n",
      "              precision    recall  f1-score   support\n",
      "\n",
      "           0       0.95      0.98      0.97        85\n",
      "           1       0.88      0.79      0.83        19\n",
      "\n",
      "    accuracy                           0.94       104\n",
      "   macro avg       0.92      0.88      0.90       104\n",
      "weighted avg       0.94      0.94      0.94       104\n",
      "\n"
     ]
    },
    {
     "data": {
      "text/plain": [
       "GradientBoostingClassifier()"
      ]
     },
     "execution_count": 45,
     "metadata": {},
     "output_type": "execute_result"
    },
    {
     "data": {
      "image/png": "[encoded data removed]",
      "text/plain": [
       "<Figure size 432x288 with 1 Axes>"
      ]
     },
     "metadata": {
      "needs_background": "light"
     },
     "output_type": "display_data"
    }
   ],
   "source": [
    "fit_and_test(skl_en.GradientBoostingClassifier(), train, test, features, target)"
   ]
  },
  {
   "cell_type": "code",
   "execution_count": 48,
   "id": "adjustable-offering",
   "metadata": {},
   "outputs": [
    {
     "name": "stdout",
     "output_type": "stream",
     "text": [
      "CPU times: user 22.5 s, sys: 31.6 ms, total: 22.5 s\n",
      "Wall time: 22.6 s\n"
     ]
    }
   ],
   "source": [
    "%%time\n",
    "B = 100\n",
    "accuracies = []\n",
    "aucs = []\n",
    "for i in range(B):\n",
    "    train, test = skl_ms.train_test_split(data, train_size=trainRatio)\n",
    "    boostTrees = fit_and_test(skl_en.GradientBoostingClassifier(), train, test, features, target, suppress_output=True)\n",
    "    accuracies.append(boostTrees.score(test[features], test[target]))\n",
    "    aucs.append(skl_met.roc_auc_score(test[target], boostTrees.predict_proba(test[features])[:,1]))"
   ]
  },
  {
   "cell_type": "code",
   "execution_count": 49,
   "id": "forward-separation",
   "metadata": {},
   "outputs": [
    {
     "name": "stdout",
     "output_type": "stream",
     "text": [
      "mean accuracy: 0.9300961538461539\n",
      "     mean auc: 0.9693151156410258\n"
     ]
    }
   ],
   "source": [
    "print('mean accuracy: ' + str(np.mean(accuracies)))\n",
    "print('     mean auc: ' + str(np.mean(aucs)))"
   ]
  }
 ],
 "metadata": {
  "kernelspec": {
   "display_name": "Python 3",
   "language": "python",
   "name": "python3"
  },
  "language_info": {
   "codemirror_mode": {
    "name": "ipython",
    "version": 3
   },
   "file_extension": ".py",
   "mimetype": "text/x-python",
   "name": "python",
   "nbconvert_exporter": "python",
   "pygments_lexer": "ipython3",
   "version": "3.8.6"
  }
 },
 "nbformat": 4,
 "nbformat_minor": 5
}
