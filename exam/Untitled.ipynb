{
 "cells": [
  {
   "cell_type": "code",
   "execution_count": 1,
   "id": "valued-mississippi",
   "metadata": {},
   "outputs": [],
   "source": [
    "import numpy as np"
   ]
  },
  {
   "cell_type": "code",
   "execution_count": 2,
   "id": "personal-registrar",
   "metadata": {},
   "outputs": [],
   "source": [
    "X = np.array([[2,4,3,1],[1,3,3,1]]).T\n",
    "Y = np.array([2,8,5,3]).reshape(4,1)"
   ]
  },
  {
   "cell_type": "code",
   "execution_count": 7,
   "id": "ahead-screw",
   "metadata": {},
   "outputs": [
    {
     "data": {
      "text/plain": [
       "array([[54],\n",
       "       [44]])"
      ]
     },
     "execution_count": 7,
     "metadata": {},
     "output_type": "execute_result"
    }
   ],
   "source": [
    "X.T @ Y"
   ]
  },
  {
   "cell_type": "code",
   "execution_count": 6,
   "id": "local-mauritius",
   "metadata": {},
   "outputs": [
    {
     "data": {
      "text/plain": [
       "24"
      ]
     },
     "execution_count": 6,
     "metadata": {},
     "output_type": "execute_result"
    }
   ],
   "source": [
    "30*20-24*24"
   ]
  },
  {
   "cell_type": "code",
   "execution_count": 8,
   "id": "drawn-lewis",
   "metadata": {},
   "outputs": [
    {
     "data": {
      "text/plain": [
       "9.0"
      ]
     },
     "execution_count": 8,
     "metadata": {},
     "output_type": "execute_result"
    }
   ],
   "source": [
    "54/6"
   ]
  },
  {
   "cell_type": "code",
   "execution_count": 9,
   "id": "consecutive-curtis",
   "metadata": {},
   "outputs": [
    {
     "data": {
      "text/plain": [
       "5.0"
      ]
     },
     "execution_count": 9,
     "metadata": {},
     "output_type": "execute_result"
    }
   ],
   "source": [
    "0.5*0.5*2+1.5*1.5*2"
   ]
  },
  {
   "cell_type": "code",
   "execution_count": 10,
   "id": "significant-jungle",
   "metadata": {},
   "outputs": [
    {
     "data": {
      "text/plain": [
       "2.25"
      ]
     },
     "execution_count": 10,
     "metadata": {},
     "output_type": "execute_result"
    }
   ],
   "source": [
    "1.5*1.5"
   ]
  },
  {
   "cell_type": "code",
   "execution_count": 11,
   "id": "regular-halloween",
   "metadata": {},
   "outputs": [
    {
     "data": {
      "text/plain": [
       "9.0"
      ]
     },
     "execution_count": 11,
     "metadata": {},
     "output_type": "execute_result"
    }
   ],
   "source": [
    "2.25*4"
   ]
  },
  {
   "cell_type": "code",
   "execution_count": 12,
   "id": "essential-ocean",
   "metadata": {},
   "outputs": [
    {
     "data": {
      "text/plain": [
       "1.6666666666666665"
      ]
     },
     "execution_count": 12,
     "metadata": {},
     "output_type": "execute_result"
    }
   ],
   "source": [
    "1/3*((2-11/3)**2 + (3-11/3)**2 + (5-11/3)**2)"
   ]
  },
  {
   "cell_type": "code",
   "execution_count": 13,
   "id": "tired-liechtenstein",
   "metadata": {},
   "outputs": [
    {
     "data": {
      "text/plain": [
       "5.0"
      ]
     },
     "execution_count": 13,
     "metadata": {},
     "output_type": "execute_result"
    }
   ],
   "source": [
    "((2-11/3)**2 + (3-11/3)**2 + (5-11/3)**2)"
   ]
  },
  {
   "cell_type": "code",
   "execution_count": 16,
   "id": "behavioral-receiver",
   "metadata": {},
   "outputs": [],
   "source": [
    "import scipy.stats as spstats"
   ]
  },
  {
   "cell_type": "code",
   "execution_count": 32,
   "id": "numerous-speech",
   "metadata": {},
   "outputs": [
    {
     "data": {
      "text/plain": [
       "0.0005399096651318807"
      ]
     },
     "execution_count": 32,
     "metadata": {},
     "output_type": "execute_result"
    }
   ],
   "source": [
    "spstats.norm.pdf(300,100,100)"
   ]
  },
  {
   "cell_type": "code",
   "execution_count": 33,
   "id": "congressional-assessment",
   "metadata": {},
   "outputs": [
    {
     "data": {
      "text/plain": [
       "0.02554316630778975"
      ]
     },
     "execution_count": 33,
     "metadata": {},
     "output_type": "execute_result"
    }
   ],
   "source": [
    "spstats.norm.pdf(300,81,81)/(spstats.norm.pdf(300,81,81) + 9*spstats.norm.pdf(300,100,100))"
   ]
  },
  {
   "cell_type": "code",
   "execution_count": 35,
   "id": "rough-recognition",
   "metadata": {},
   "outputs": [
    {
     "data": {
      "text/plain": [
       "0.06355368283233663"
      ]
     },
     "execution_count": 35,
     "metadata": {},
     "output_type": "execute_result"
    }
   ],
   "source": [
    "1/(1 + 9*9*9/100 * np.exp(19*300/8100))"
   ]
  },
  {
   "cell_type": "code",
   "execution_count": 36,
   "id": "touched-eclipse",
   "metadata": {},
   "outputs": [
    {
     "data": {
      "text/plain": [
       "11428"
      ]
     },
     "execution_count": 36,
     "metadata": {},
     "output_type": "execute_result"
    }
   ],
   "source": [
    "5*5*3*24+24+2400*4+4"
   ]
  },
  {
   "cell_type": "code",
   "execution_count": 37,
   "id": "exotic-lawyer",
   "metadata": {},
   "outputs": [
    {
     "data": {
      "text/plain": [
       "0.3103448275862069"
      ]
     },
     "execution_count": 37,
     "metadata": {},
     "output_type": "execute_result"
    }
   ],
   "source": [
    "9/29"
   ]
  },
  {
   "cell_type": "code",
   "execution_count": 38,
   "id": "pending-requirement",
   "metadata": {},
   "outputs": [
    {
     "data": {
      "text/plain": [
       "0.48717948717948717"
      ]
     },
     "execution_count": 38,
     "metadata": {},
     "output_type": "execute_result"
    }
   ],
   "source": [
    "19/39"
   ]
  },
  {
   "cell_type": "code",
   "execution_count": null,
   "id": "empty-potter",
   "metadata": {},
   "outputs": [],
   "source": []
  }
 ],
 "metadata": {
  "kernelspec": {
   "display_name": "Python 3",
   "language": "python",
   "name": "python3"
  },
  "language_info": {
   "codemirror_mode": {
    "name": "ipython",
    "version": 3
   },
   "file_extension": ".py",
   "mimetype": "text/x-python",
   "name": "python",
   "nbconvert_exporter": "python",
   "pygments_lexer": "ipython3",
   "version": "3.8.6"
  }
 },
 "nbformat": 4,
 "nbformat_minor": 5
}
