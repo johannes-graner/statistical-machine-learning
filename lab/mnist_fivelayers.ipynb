{
 "cells": [
  {
   "cell_type": "code",
   "execution_count": 67,
   "metadata": {},
   "outputs": [],
   "source": [
    "%matplotlib inline\n",
    "import torch\n",
    "import torch.nn as nn\n",
    "import torch.nn.functional as F\n",
    "import torch.optim as optim\n",
    "import torchvision\n",
    "import torchvision.transforms as transforms\n",
    "\n",
    "import matplotlib.pyplot as plt\n",
    "\n",
    "# use GPU for computations if possible\n",
    "device = torch.device('cuda' if torch.cuda.is_available() else 'cpu')\n",
    "\n",
    "U = [200,100,60,30]\n",
    "N = 10000"
   ]
  },
  {
   "cell_type": "markdown",
   "metadata": {
    "colab_type": "text",
    "id": "2ZfaQIUpDZvO"
   },
   "source": [
    "# Classification of hand-written digits\n",
    "\n",
    "We start by downloading and extracting the MNIST data set."
   ]
  },
  {
   "cell_type": "code",
   "execution_count": 68,
   "metadata": {
    "scrolled": true
   },
   "outputs": [],
   "source": [
    "# Dataset available at https://github.com/knamdar/data\n",
    "trainset = torchvision.datasets.MNIST(root='./data', train=True, download=False, transform=transforms.ToTensor())\n",
    "testset = torchvision.datasets.MNIST(root='./data', train=False, download=False, transform=transforms.ToTensor())\n",
    "\n",
    "\n",
    "# extract a complete PyTorch dataset\n",
    "def extract(dataset):\n",
    "    datasize = len(dataset)\n",
    "    dataloader = torch.utils.data.DataLoader(dataset, batch_size=datasize, shuffle=False)\n",
    "    return next(iter(dataloader))\n",
    "\n",
    "# extract all test images and labels into PyTorch tensors\n",
    "# the training data will be loaded in batches during training\n",
    "test_X, test_Y = extract(testset)"
   ]
  },
  {
   "cell_type": "markdown",
   "metadata": {
    "colab_type": "text",
    "id": "JetLsyAjDZv3"
   },
   "source": [
    "## The model\n",
    "\n",
    "The input data $X$ are grayscale images of $28\\times 28$ pixels. The first dimension will be the number of data points that are provided to the network. The input data is flattend into a matrix with $28 \\times 28 = 784$ columns using `X.view(-1, 784)`, where each colum represents one pixel. We then apply first the linear transformation $X W + b$ and then the softmax function to obtain the class probabilities predicted by the model."
   ]
  },
  {
   "cell_type": "code",
   "execution_count": 69,
   "metadata": {},
   "outputs": [],
   "source": [
    "class Net(nn.Module):\n",
    "    def __init__(self,U):\n",
    "        super(Net, self).__init__()\n",
    "        # Hidden units\n",
    "        self.U1 = U[0]\n",
    "        self.W1 = nn.Parameter(0.1 * torch.randn(784, self.U1))\n",
    "        self.b1 = nn.Parameter(torch.ones(self.U1)/10)\n",
    "        \n",
    "        self.U2 = U[1]\n",
    "        self.W2 = nn.Parameter(0.1 * torch.randn(self.U1, self.U2))\n",
    "        self.b2 = nn.Parameter(torch.ones(self.U2)/10)\n",
    "        \n",
    "        self.U3 = U[2]\n",
    "        self.W3 = nn.Parameter(0.1 * torch.randn(self.U2, self.U3))\n",
    "        self.b3 = nn.Parameter(torch.ones(self.U3)/10)\n",
    "        \n",
    "        self.U4 = U[3]\n",
    "        self.W4 = nn.Parameter(0.1 * torch.randn(self.U3, self.U4))\n",
    "        self.b4 = nn.Parameter(torch.ones(self.U4)/10)\n",
    "        \n",
    "        # Last layer\n",
    "        self.W5 = nn.Parameter(0.1 * torch.randn(self.U4, 10))\n",
    "        self.b5 = nn.Parameter(torch.ones(10)/10)\n",
    "\n",
    "    def forward(self, X):\n",
    "        # flatten the data into a matrix with 28 x 28 = 784 columns\n",
    "        X = X.view(-1, 784)\n",
    "        # Sigmoid hidden layer\n",
    "        Q1 = F.relu(X.mm(self.W1) + self.b1)\n",
    "        Q2 = F.relu(Q1.mm(self.W2) + self.b2)\n",
    "        Q3 = F.relu(Q2.mm(self.W3) + self.b3)\n",
    "        Q4 = F.relu(Q3.mm(self.W4) + self.b4)\n",
    "        # apply the softmax function <- don't. Numerical instability\n",
    "        # G = F.softmax(Q4.mm(self.W5) + self.b5, dim=1)\n",
    "        # Return Logits instead\n",
    "        Z = Q4.mm(self.W5) + self.b5\n",
    "        return Z #G"
   ]
  },
  {
   "cell_type": "markdown",
   "metadata": {
    "colab_type": "text",
    "id": "NYMZmV_GDZwa"
   },
   "source": [
    "## The training\n",
    "\n",
    "We define the cross-entropy for the predicted probabilities $G$ (10-dimensional vectors) and the labels $Y$ (integers between 0 and 9)."
   ]
  },
  {
   "cell_type": "code",
   "execution_count": 70,
   "metadata": {
    "colab": {},
    "colab_type": "code",
    "id": "cOpD7LKcDZwe"
   },
   "outputs": [],
   "source": [
    "def crossentropy(G, Y):\n",
    "    # convert labels to onehot encoding\n",
    "    Y_onehot = torch.eye(10, device=device)[Y]\n",
    "\n",
    "    return -(Y_onehot * G.log()).sum(dim = 1).mean()"
   ]
  },
  {
   "cell_type": "markdown",
   "metadata": {
    "colab_type": "text",
    "id": "vSpeO0byDZwx"
   },
   "source": [
    "The next lines evaluate the accuracy of the predictions."
   ]
  },
  {
   "cell_type": "code",
   "execution_count": 71,
   "metadata": {
    "colab": {},
    "colab_type": "code",
    "id": "G1B5xLOnDZw0"
   },
   "outputs": [],
   "source": [
    "def accuracy(G, Y):\n",
    "    return (G.argmax(dim=1) == Y).float().mean()"
   ]
  },
  {
   "cell_type": "markdown",
   "metadata": {
    "colab_type": "text",
    "id": "rJ4jX9FDDZxB"
   },
   "source": [
    "We are ready to train the network."
   ]
  },
  {
   "cell_type": "code",
   "execution_count": 72,
   "metadata": {},
   "outputs": [
    {
     "name": "stdout",
     "output_type": "stream",
     "text": [
      "Step     0: train accuracy   5.00% train cross-entropy  2.34  test accuracy  15.43% test cross-entropy   nan\n",
      "Step  1000: train accuracy  95.00% train cross-entropy  0.19  test accuracy  96.23% test cross-entropy   nan\n",
      "Step  2000: train accuracy  99.00% train cross-entropy  0.04  test accuracy  96.94% test cross-entropy   nan\n",
      "Step  3000: train accuracy 100.00% train cross-entropy  0.01  test accuracy  97.75% test cross-entropy   nan\n",
      "Step  4000: train accuracy  99.00% train cross-entropy  0.02  test accuracy  97.24% test cross-entropy   nan\n",
      "Step  5000: train accuracy  98.00% train cross-entropy  0.05  test accuracy  97.92% test cross-entropy   nan\n",
      "Step  6000: train accuracy  98.00% train cross-entropy  0.05  test accuracy  97.87% test cross-entropy   nan\n",
      "Step  7000: train accuracy  99.00% train cross-entropy  0.03  test accuracy  97.99% test cross-entropy   nan\n",
      "Step  8000: train accuracy  99.00% train cross-entropy  0.04  test accuracy  97.85% test cross-entropy   nan\n",
      "Step  9000: train accuracy 100.00% train cross-entropy  0.00  test accuracy  97.89% test cross-entropy   nan\n",
      "Step 10000: train accuracy  98.00% train cross-entropy  0.05  test accuracy  97.61% test cross-entropy   nan\n"
     ]
    }
   ],
   "source": [
    "# initialize the test and training error statistics\n",
    "test_accuracy = []\n",
    "test_crossentropy = []\n",
    "test_iter = []\n",
    "train_accuracy = []\n",
    "train_crossentropy = []\n",
    "train_iter = []\n",
    "\n",
    "# initialize the neural network and move it to the GPU if needed\n",
    "net = Net(U)\n",
    "net.to(device)\n",
    "\n",
    "# define the optimization algorithm\n",
    "learningrate = 0.003\n",
    "optimizer = optim.Adam(net.parameters(), lr=learningrate)\n",
    "\n",
    "# define the data loader for batches of the training data\n",
    "batchsize = 100\n",
    "trainloader = torch.utils.data.DataLoader(trainset, batch_size=batchsize, num_workers=2, shuffle=True)\n",
    "\n",
    "# perform multiple training steps\n",
    "total_iterations = N # total number of iterations\n",
    "t = 0 # current iteration\n",
    "done = False\n",
    "while not done:\n",
    "    for (batch_X, batch_Y) in trainloader:\n",
    "        # move batch to the GPU if needed\n",
    "        batch_X, batch_Y = batch_X.to(device), batch_Y.to(device)\n",
    "\n",
    "        # zero the parameter gradients\n",
    "        optimizer.zero_grad()\n",
    "\n",
    "        # forward pass\n",
    "        batch_G = net(batch_X)\n",
    "        loss = F.cross_entropy(batch_G, batch_Y)\n",
    "\n",
    "        # backpropagation\n",
    "        loss.backward()\n",
    "\n",
    "        # perform gradient descent step\n",
    "        optimizer.step()\n",
    "\n",
    "        # don't bother too much about the following lines!\n",
    "        with torch.no_grad():\n",
    "            # evaluate the performance on the training data at every 10th iteration\n",
    "            if t % 10 == 0:\n",
    "                train_crossentropy.append(loss.item())\n",
    "                train_accuracy.append(accuracy(batch_G, batch_Y).item())\n",
    "                train_iter.append(t)\n",
    "\n",
    "            # evaluate the performance on the test data at every 100th iteration\n",
    "            if t % 100 == 0:\n",
    "                # move test data to the GPU if needed\n",
    "                X, Y = test_X.to(device), test_Y.to(device)\n",
    "\n",
    "                # compute predictions for the test data\n",
    "                G = net(X)\n",
    "                test_crossentropy.append(crossentropy(G, Y).item())\n",
    "                test_accuracy.append(accuracy(G, Y).item())\n",
    "                test_iter.append(t)\n",
    "\n",
    "            # print the iteration number and the accuracy of the predictions\n",
    "            if t % (N/10) == 0:\n",
    "                print(f\"Step {t:5d}: train accuracy {100 * train_accuracy[-1]:6.2f}% \" \\\n",
    "                      f\"train cross-entropy {train_crossentropy[-1]:5.2f}  \" \\\n",
    "                      f\"test accuracy {100 * test_accuracy[-1]:6.2f}% \" \\\n",
    "                      f\"test cross-entropy {test_crossentropy[-1]:5.2f}\")\n",
    "\n",
    "        # stop the training after the specified number of iterations\n",
    "        t += 1\n",
    "        if t > total_iterations:\n",
    "            done = True\n",
    "            break"
   ]
  },
  {
   "cell_type": "markdown",
   "metadata": {
    "colab_type": "text",
    "id": "wY9MEi2xDZxM"
   },
   "source": [
    "## The evaluation\n",
    "\n",
    "The remaining code produces the plots needed to evaluate the training and predictions."
   ]
  },
  {
   "cell_type": "code",
   "execution_count": 73,
   "metadata": {},
   "outputs": [],
   "source": [
    "#n = 3\n",
    "#f = open(\"fivelayers.txt\", \"a+\")\n",
    "#f.write(f'{net.U} | {100*sum(test_accuracy[-n:])/n:.1f}\\n')\n",
    "#f.close()"
   ]
  },
  {
   "cell_type": "code",
   "execution_count": 75,
   "metadata": {
    "colab": {
     "base_uri": "https://localhost:8080/",
     "height": 735
    },
    "colab_type": "code",
    "id": "L_MSLJvoD28u",
    "outputId": "2be25bd3-0568-4590-faa2-39de35251d61"
   },
   "outputs": [
    {
     "data": {
      "image/png": "[encoded data removed]",
      "text/plain": [
       "<Figure size 432x288 with 1 Axes>"
      ]
     },
     "metadata": {
      "needs_background": "light"
     },
     "output_type": "display_data"
    }
   ],
   "source": [
    "# plot the cross-entropy\n",
    "# plt.plot(train_iter, train_crossentropy, 'b-', label='Training data (mini-batch)')\n",
    "# plt.plot(test_iter, test_crossentropy, 'r-', label='Test data')\n",
    "# plt.xlabel('Iteration')\n",
    "# plt.ylabel('Cross-entropy')\n",
    "# plt.ylim([0, min(test_crossentropy) * 3])\n",
    "# plt.title('Cross-entropy')\n",
    "# plt.grid(True)\n",
    "# plt.legend(loc='best')\n",
    "# plt.show()\n",
    "\n",
    "# plot the accuracy\n",
    "plt.plot(train_iter, train_accuracy, 'b-', label='Training data (mini-batch)')\n",
    "plt.plot(test_iter, test_accuracy, 'r-', label='Test data')\n",
    "plt.xlabel('Iteration')\n",
    "plt.ylabel('Prediction accuracy')\n",
    "plt.ylim([max(1 - (1 - test_accuracy[-1]) * 2, 0), 1])\n",
    "plt.title('Prediction accuracy')\n",
    "plt.grid(True)\n",
    "plt.legend(loc='best')\n",
    "plt.show()"
   ]
  },
  {
   "cell_type": "code",
   "execution_count": null,
   "metadata": {
    "colab": {
     "base_uri": "https://localhost:8080/",
     "height": 575
    },
    "colab_type": "code",
    "id": "caWJ8PwaDZxO",
    "outputId": "1d3e738d-e278-425a-ddb7-bcda6a4565f4"
   },
   "outputs": [],
   "source": [
    "# evaluate the network on 100 random test images\n",
    "with torch.no_grad():\n",
    "    # obtain 100 random samples from the test data set\n",
    "    random_X, random_Y = next(iter(torch.utils.data.DataLoader(testset, batch_size=100, shuffle=True)))\n",
    "    \n",
    "    # move data to the GPU if needed\n",
    "    random_X, random_Y = random_X.to(device), random_Y.to(device)\n",
    "    \n",
    "    # compute the predictions for the sampled inputs\n",
    "    random_G = net(random_X)\n",
    "    random_Yhat = random_G.argmax(dim=1)\n",
    "\n",
    "    # sort the predictions with the incorrect ones first\n",
    "    indices_incorrect_first = (random_Yhat == random_Y).float().argsort()\n",
    "\n",
    "# plot the images\n",
    "num_rows = 10\n",
    "num_cols = 10\n",
    "num_images = num_rows * num_cols\n",
    "plt.figure(figsize=(num_cols, num_rows))\n",
    "\n",
    "for i, index in enumerate(indices_incorrect_first, 1):\n",
    "    plt.subplot(num_rows, num_cols, i)\n",
    "    plt.xticks([])\n",
    "    plt.yticks([])\n",
    "    \n",
    "    # plot the image\n",
    "    plt.imshow(random_X[index, :, :].view(28, 28).cpu().numpy(), cmap=plt.cm.binary)\n",
    "    \n",
    "    # add the prediction as annotation (incorrect predictions in red, correct ones in blue)\n",
    "    color = 'blue' if random_Yhat[index] == random_Y[index] else 'red'\n",
    "    plt.text(0, 25, random_Yhat[index].item(), fontsize=25, color=color)\n",
    "        \n",
    "plt.show()"
   ]
  },
  {
   "cell_type": "code",
   "execution_count": null,
   "metadata": {},
   "outputs": [],
   "source": []
  }
 ],
 "metadata": {
  "@webio": {
   "lastCommId": null,
   "lastKernelId": null
  },
  "anaconda-cloud": {},
  "colab": {
   "name": "mnist_one_layer.ipynb",
   "provenance": [],
   "version": "0.3.2"
  },
  "kernelspec": {
   "display_name": "Python 3",
   "language": "python",
   "name": "python3"
  },
  "language_info": {
   "codemirror_mode": {
    "name": "ipython",
    "version": 3
   },
   "file_extension": ".py",
   "mimetype": "text/x-python",
   "name": "python",
   "nbconvert_exporter": "python",
   "pygments_lexer": "ipython3",
   "version": "3.8.6"
  }
 },
 "nbformat": 4,
 "nbformat_minor": 4
}
