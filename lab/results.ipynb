{
 "cells": [
  {
   "cell_type": "markdown",
   "id": "right-reggae",
   "metadata": {},
   "source": [
    "# One layer"
   ]
  },
  {
   "cell_type": "code",
   "execution_count": 1,
   "id": "sexual-latter",
   "metadata": {},
   "outputs": [],
   "source": [
    "# 4.1\n",
    "# 91.7-92.3%"
   ]
  },
  {
   "cell_type": "code",
   "execution_count": 3,
   "id": "expired-collaboration",
   "metadata": {},
   "outputs": [
    {
     "name": "stdout",
     "output_type": "stream",
     "text": [
      "7850\n"
     ]
    }
   ],
   "source": [
    "# 4.2\n",
    "m = 10\n",
    "p = 784\n",
    "W_size = p*m\n",
    "b_size = m\n",
    "n_params = W_size + b_size\n",
    "print(n_params)"
   ]
  },
  {
   "cell_type": "code",
   "execution_count": 5,
   "id": "norman-redhead",
   "metadata": {},
   "outputs": [
    {
     "name": "stdout",
     "output_type": "stream",
     "text": [
      "epoch length: 600.0\n",
      "trained eopchs: 3.3333333333333335\n"
     ]
    }
   ],
   "source": [
    "# 4.3\n",
    "N = 60000\n",
    "batch_size = 100\n",
    "iters = 2000\n",
    "epoch_length = N/batch_size\n",
    "print('epoch length: ' + str(epoch_length))\n",
    "trained_epochs = iters/epoch_length\n",
    "print('trained eopchs: ' + str(trained_epochs))"
   ]
  },
  {
   "cell_type": "markdown",
   "id": "thousand-hepatitis",
   "metadata": {},
   "source": [
    "### 4.4\n",
    "\n",
    "hidden units | accuracy (%)\n",
    "---|---\n",
    "10 | 91.7\n",
    "50 | 94.5\n",
    "100 | 94.5\n",
    "200|94.5\n",
    "500 | 94.8\n",
    "750 | 94.7\n",
    "\n",
    "Initializing with zeros gives accuracy of 33.8%"
   ]
  },
  {
   "cell_type": "markdown",
   "id": "civic-medicare",
   "metadata": {},
   "source": [
    "### 4.5\n",
    "86%, but it is nowhere near plateauing."
   ]
  },
  {
   "cell_type": "markdown",
   "id": "offshore-watershed",
   "metadata": {},
   "source": [
    "### 4.6\n",
    "\n",
    "Switch to ReLU: 97.0%\n",
    "offsets initialized at 0.1: 97%, less stable\n",
    "Adam optimizer: just above 97%, still not completely stable\n",
    "\n",
    "Went from 86% to 97%, very good!\n",
    "\n",
    "Got to 97.5% accuracy with 3-4000 iterations, at 5000 iterations, accuracy dropped to 9.8%\n",
    "\n",
    "Switched to F.cross_entropy: 97.8%"
   ]
  },
  {
   "cell_type": "code",
   "execution_count": 7,
   "id": "female-watch",
   "metadata": {},
   "outputs": [
    {
     "name": "stdout",
     "output_type": "stream",
     "text": [
      "588\n"
     ]
    }
   ],
   "source": [
    "# 4.7\n",
    "U3flat = 7*7*12\n",
    "print(U3flat)"
   ]
  },
  {
   "cell_type": "markdown",
   "id": "seeing-maintenance",
   "metadata": {},
   "source": [
    "### 4.8\n",
    "Final accuracy: 98.6%"
   ]
  },
  {
   "cell_type": "markdown",
   "id": "annoying-opportunity",
   "metadata": {},
   "source": [
    "### 4.9\n",
    "\n",
    "Using `lr_new = lr_min + (lr_max - lr_min) * exp(-t/2000)`, we got 99% accuracy with `lr_min = 0.0001, lr_max = 0.003`."
   ]
  },
  {
   "cell_type": "markdown",
   "id": "convertible-failure",
   "metadata": {},
   "source": [
    "### 4.10\n",
    "\n",
    "Accuracy on training data is 100%."
   ]
  },
  {
   "cell_type": "markdown",
   "id": "weekly-support",
   "metadata": {},
   "source": [
    "### 4.11\n",
    "99.2% accuracy. Still get 100% training accuracy."
   ]
  },
  {
   "cell_type": "markdown",
   "id": "inclusive-skiing",
   "metadata": {},
   "source": [
    "### Further tweaking\n",
    "lr_min = 0.00001, exp(-t/5000), 25k iterations yielded 99.3% accuracy."
   ]
  },
  {
   "cell_type": "code",
   "execution_count": null,
   "id": "latin-hours",
   "metadata": {},
   "outputs": [],
   "source": []
  }
 ],
 "metadata": {
  "kernelspec": {
   "display_name": "Python 3",
   "language": "python",
   "name": "python3"
  },
  "language_info": {
   "codemirror_mode": {
    "name": "ipython",
    "version": 3
   },
   "file_extension": ".py",
   "mimetype": "text/x-python",
   "name": "python",
   "nbconvert_exporter": "python",
   "pygments_lexer": "ipython3",
   "version": "3.8.6"
  }
 },
 "nbformat": 4,
 "nbformat_minor": 5
}
