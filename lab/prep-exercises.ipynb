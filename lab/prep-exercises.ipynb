{
 "cells": [
  {
   "cell_type": "code",
   "execution_count": 4,
   "id": "banned-zealand",
   "metadata": {},
   "outputs": [],
   "source": [
    "import numpy as np"
   ]
  },
  {
   "cell_type": "code",
   "execution_count": 6,
   "id": "republican-manufacturer",
   "metadata": {},
   "outputs": [
    {
     "name": "stdout",
     "output_type": "stream",
     "text": [
      "p(y = 1|x) = 0.7310585786300049\n",
      "p(y =-1|x) = 0.2689414213699951\n"
     ]
    }
   ],
   "source": [
    "# 3.1\n",
    "z = 1.0\n",
    "h = lambda x: np.exp(x)/(1 + np.exp(x))\n",
    "\n",
    "p_1 = h(z)\n",
    "p_2 = 1 - p_1\n",
    "\n",
    "print('p(y = 1|x) = ' + str(p_1))\n",
    "print('p(y =-1|x) = ' + str(p_2))"
   ]
  },
  {
   "cell_type": "code",
   "execution_count": 7,
   "id": "certified-customs",
   "metadata": {},
   "outputs": [
    {
     "name": "stdout",
     "output_type": "stream",
     "text": [
      "p(y = 1|x) = 0.24472847105479767\n",
      "p(y = 2|x) = 0.09003057317038046\n",
      "p(y = 3|x) = 0.6652409557748219\n"
     ]
    }
   ],
   "source": [
    "# 3.2\n",
    "z = np.array([0,-1,1])\n",
    "softmax = lambda z: np.exp(z)/sum(np.exp(z))\n",
    "\n",
    "p_softmax = softmax(z)\n",
    "p_1 = p_softmax[0]\n",
    "p_2 = p_softmax[1]\n",
    "p_3 = p_softmax[2]\n",
    "\n",
    "print('p(y = 1|x) = ' + str(p_1))\n",
    "print('p(y = 2|x) = ' + str(p_2))\n",
    "print('p(y = 3|x) = ' + str(p_3))"
   ]
  },
  {
   "cell_type": "code",
   "execution_count": 13,
   "id": "painful-wisdom",
   "metadata": {},
   "outputs": [
    {
     "name": "stdout",
     "output_type": "stream",
     "text": [
      "[1.40760596 2.40760596 0.40760596]\n"
     ]
    }
   ],
   "source": [
    "# 3.3\n",
    "y = np.eye(3)\n",
    "def cross_entropy(z,y):\n",
    "    return -(y@np.log(softmax(z)))\n",
    "\n",
    "print(cross_entropy(z,y))"
   ]
  },
  {
   "cell_type": "code",
   "execution_count": 14,
   "id": "distributed-current",
   "metadata": {},
   "outputs": [
    {
     "name": "stdout",
     "output_type": "stream",
     "text": [
      "The network has 4474 parameters\n"
     ]
    }
   ],
   "source": [
    "# 3.4\n",
    "# W^1: 30 x 144\n",
    "# b^1: 30 x 1\n",
    "\n",
    "# W^2: 4 x 30\n",
    "# b^2: 4 x 1\n",
    "\n",
    "print('The network has ' + str(30*144 + 30 + 4*30 + 4) + ' parameters')"
   ]
  },
  {
   "cell_type": "code",
   "execution_count": null,
   "id": "exceptional-allen",
   "metadata": {},
   "outputs": [],
   "source": [
    "# 3.5\n",
    "# W^1:  5 x  5 x  1 x  4\n",
    "# b^1:  1 x  1 x  1 x  4\n",
    "# Q^1: 12 x 12 x  4"
   ]
  },
  {
   "cell_type": "code",
   "execution_count": null,
   "id": "soviet-participation",
   "metadata": {},
   "outputs": [],
   "source": [
    "# 3.6\n",
    "# W^2:  3 x  3 x  4 x  8\n",
    "# b^2:  1 x  1 x  1 x  8\n",
    "# Q^1:  6 x  6 x  8 "
   ]
  },
  {
   "cell_type": "code",
   "execution_count": null,
   "id": "purple-trading",
   "metadata": {},
   "outputs": [],
   "source": [
    "# 3.7\n",
    "# W^3: 60 x 288\n",
    "# b^3: 60 x 1\n",
    "\n",
    "# W^4:  4 x 60\n",
    "# b^4:  4 x 1"
   ]
  }
 ],
 "metadata": {
  "kernelspec": {
   "display_name": "Python 3",
   "language": "python",
   "name": "python3"
  },
  "language_info": {
   "codemirror_mode": {
    "name": "ipython",
    "version": 3
   },
   "file_extension": ".py",
   "mimetype": "text/x-python",
   "name": "python",
   "nbconvert_exporter": "python",
   "pygments_lexer": "ipython3",
   "version": "3.8.6"
  }
 },
 "nbformat": 4,
 "nbformat_minor": 5
}
